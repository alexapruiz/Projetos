{
  "nbformat": 4,
  "nbformat_minor": 0,
  "metadata": {
    "colab": {
      "name": "Cardio.ipynb",
      "provenance": [],
      "collapsed_sections": [
        "pCU5qRaLYDhz",
        "30Ys4aRQXzai",
        "r4do-DuBupTU",
        "TWEJUR-Zm9w7",
        "zNdxPZAQpj40",
        "fkmIHSX1X81a",
        "bL9qJ75h6MbJ",
        "9ApSaC-Bg_W7",
        "_HI7WKEOP2U3",
        "qtceZltDwexT",
        "VRgDPhgR_mwh"
      ],
      "toc_visible": true,
      "authorship_tag": "ABX9TyM7km0IBCH/HnBzaAiFJcYn",
      "include_colab_link": true
    },
    "kernelspec": {
      "name": "python3",
      "display_name": "Python 3"
    }
  },
  "cells": [
    {
      "cell_type": "markdown",
      "metadata": {
        "id": "view-in-github",
        "colab_type": "text"
      },
      "source": [
        "<a href=\"https://colab.research.google.com/github/alexapruiz/Projetos/blob/master/Cardio.ipynb\" target=\"_parent\"><img src=\"https://colab.research.google.com/assets/colab-badge.svg\" alt=\"Open In Colab\"/></a>"
      ]
    },
    {
      "cell_type": "markdown",
      "metadata": {
        "id": "pCU5qRaLYDhz"
      },
      "source": [
        "# Preparando os dados"
      ]
    },
    {
      "cell_type": "code",
      "metadata": {
        "id": "lhtzonnhxSY5"
      },
      "source": [
        "import pandas as pd\r\n",
        "import numpy as np\r\n",
        "from sklearn.svm import LinearSVC\r\n",
        "from sklearn.model_selection import train_test_split\r\n",
        "from sklearn.metrics import accuracy_score"
      ],
      "execution_count": 4,
      "outputs": []
    },
    {
      "cell_type": "code",
      "metadata": {
        "id": "Bq1LAUjlxSbQ"
      },
      "source": [
        "colunas = ['id','idade','genero','altura','peso','pressao_max','pressao_min','colesterol','diabetes','fuma','bebe','ativo','coracao']\r\n",
        "\r\n",
        "cardio = pd.read_csv('cardio_original.csv', sep=';',names=colunas,header=1)"
      ],
      "execution_count": 5,
      "outputs": []
    },
    {
      "cell_type": "code",
      "metadata": {
        "id": "jIds03FmxmeJ"
      },
      "source": [
        "x = cardio[colunas]\r\n",
        "y = cardio['coracao']"
      ],
      "execution_count": 6,
      "outputs": []
    },
    {
      "cell_type": "markdown",
      "metadata": {
        "id": "30Ys4aRQXzai"
      },
      "source": [
        "# Explorando os dados"
      ]
    },
    {
      "cell_type": "code",
      "metadata": {
        "id": "tfPn4kbaynwx"
      },
      "source": [
        "cardio.shape"
      ],
      "execution_count": null,
      "outputs": []
    },
    {
      "cell_type": "code",
      "metadata": {
        "id": "TUKnFI0fN9TR"
      },
      "source": [
        "cardio.groupby('coracao').size()"
      ],
      "execution_count": null,
      "outputs": []
    },
    {
      "cell_type": "code",
      "metadata": {
        "id": "tsFMJ67dR8Mq"
      },
      "source": [
        "#cardio.corr(method='spearman')\r\n",
        "#cardio.corr(method='kendall')\r\n",
        "#cardio.corr(method='callable')\r\n",
        "#cardio.corr(method='pearson')\r\n",
        "cardio.skew()"
      ],
      "execution_count": null,
      "outputs": []
    },
    {
      "cell_type": "code",
      "metadata": {
        "id": "JoPDT4PsX7W6"
      },
      "source": [
        "correlacao = cardio.corr()\r\n",
        "# Plot\r\n",
        "fig = plt.figure(figsize=(16,9), dpi=100)\r\n",
        "ax = fig.add_subplot(111)\r\n",
        "cax = ax.matshow(correlacao, vmin = 0, vmax = 1)\r\n",
        "fig.colorbar(cax)\r\n",
        "ax.set_xticklabels(['id','idade','peso','pressao_max','pressao_min','colesterol','fuma','bebe'])\r\n",
        "ax.set_yticklabels(['id','idade','peso','pressao_max','pressao_min','colesterol','fuma','bebe'])\r\n",
        "plt.show()"
      ],
      "execution_count": null,
      "outputs": []
    },
    {
      "cell_type": "markdown",
      "metadata": {
        "id": "r4do-DuBupTU"
      },
      "source": [
        "# Normalizando os dados"
      ]
    },
    {
      "cell_type": "code",
      "metadata": {
        "id": "RCSDDzDDuq8U"
      },
      "source": [
        "#Limpando as colunas com valores negativos\r\n",
        "cardio = cardio[(cardio['pressao_min'] > 0) & (cardio['pressao_max'] > 0)]\r\n",
        "cardio"
      ],
      "execution_count": null,
      "outputs": []
    },
    {
      "cell_type": "markdown",
      "metadata": {
        "id": "TWEJUR-Zm9w7"
      },
      "source": [
        "# Selecionando as melhores variáveis"
      ]
    },
    {
      "cell_type": "code",
      "metadata": {
        "id": "wIU-Y9DfnAUD"
      },
      "source": [
        "#Selecionando as melhores features usando o método Chi2 (qui-quadrado)\r\n",
        "\r\n",
        "from pandas import read_csv\r\n",
        "from sklearn.feature_selection import SelectKBest\r\n",
        "from sklearn.feature_selection import chi2\r\n",
        "\r\n",
        "colunas = ['idade','genero','altura','peso','pressao_max','pressao_min','colesterol','diabetes','fuma','bebe','ativo']\r\n",
        "array = cardio[colunas].values\r\n",
        "\r\n",
        "# Separando o array em componentes de input e output\r\n",
        "X = array[:,0:-1]\r\n",
        "Y = array[:,-1]\r\n",
        "\r\n",
        "# Extração de Variáveis\r\n",
        "test = SelectKBest(score_func = chi2, k = 4)\r\n",
        "fit = test.fit(X, Y)\r\n",
        "\r\n",
        "# Sumarizando o score\r\n",
        "#print(fit.scores_)\r\n",
        "features = fit.transform(X)\r\n",
        "cols = fit.get_support(indices=True)\r\n",
        "cardio.iloc[:,cols].head()"
      ],
      "execution_count": null,
      "outputs": []
    },
    {
      "cell_type": "code",
      "metadata": {
        "id": "SB9f9F5HLKuQ"
      },
      "source": [
        "#Selecionando as melhores features usando o método f_classif do SelectKBest\r\n",
        "from sklearn.feature_selection import SelectKBest\r\n",
        "from sklearn.feature_selection import f_classif, mutual_info_classif\r\n",
        "\r\n",
        "f_classif = SelectKBest(score_func=f_classif, k=4)\r\n",
        "fit = f_classif.fit(X,Y)\r\n",
        "features = fit.transform(X)\r\n",
        "\r\n",
        "features\r\n",
        "cols = fit.get_support(indices=True)\r\n",
        "cardio.iloc[:,cols].head()"
      ],
      "execution_count": null,
      "outputs": []
    },
    {
      "cell_type": "code",
      "metadata": {
        "id": "r7iUbV7NLA9w"
      },
      "source": [
        "#Selecionando as melhores features usando o método RFE (Recursive Feature Elimination)\r\n",
        "# Não é recomendado para grandes bases de dados\r\n",
        "\r\n",
        "from sklearn.linear_model import LogisticRegression\r\n",
        "from sklearn.feature_selection import RFE\r\n",
        "\r\n",
        "colunas = ['idade','genero','altura','peso','pressao_max','pressao_min','colesterol','diabetes','fuma','bebe','ativo']\r\n",
        "array = cardio[colunas].values\r\n",
        "\r\n",
        "# Separando o array em componentes de input e output\r\n",
        "X = array[:,0:-1]\r\n",
        "Y = array[:,-1]\r\n",
        "\r\n",
        "model = LogisticRegression(max_iter=2000)\r\n",
        "rfe = RFE(model,4)\r\n",
        "fit = rfe.fit(X, Y)\r\n",
        "#print('Número de features: {}'.format(fit.n_features_))\r\n",
        "\r\n",
        "cols = fit.get_support(indices=True)\r\n",
        "cardio.iloc[:,cols].head()"
      ],
      "execution_count": null,
      "outputs": []
    },
    {
      "cell_type": "code",
      "metadata": {
        "id": "U8oowNxzNuoI"
      },
      "source": [
        "#Selecionando as melhores features usando: Feature Importance\r\n",
        "import pandas as pd\r\n",
        "from sklearn.ensemble import RandomForestClassifier\r\n",
        "\r\n",
        "colunas = ['idade','genero','altura','peso','pressao_max','pressao_min','colesterol','diabetes','fuma','bebe','ativo']\r\n",
        "array = cardio[colunas].values\r\n",
        "\r\n",
        "# Separando o array em componentes de input e output\r\n",
        "X = array[:,0:]\r\n",
        "Y = array[:,-1]\r\n",
        "\r\n",
        "modelo = RandomForestClassifier(n_estimators=10)\r\n",
        "modelo.fit(X, Y)\r\n",
        "print(modelo.feature_importances_)\r\n",
        "colunas = ['idade','genero','altura','peso','pressao_max','pressao_min','colesterol','diabetes','fuma','bebe','ativo']\r\n",
        "\r\n",
        "feature_importance = pd.DataFrame(modelo.feature_importances_, index=colunas, columns=['importance']).sort_values('importance', ascending=False)\r\n",
        "\r\n",
        "feature_importance"
      ],
      "execution_count": null,
      "outputs": []
    },
    {
      "cell_type": "markdown",
      "metadata": {
        "id": "zNdxPZAQpj40"
      },
      "source": [
        "# Automatizando a seleção de features"
      ]
    },
    {
      "cell_type": "code",
      "metadata": {
        "id": "Hz_WaLiBpnBb"
      },
      "source": [
        "#Automatizando a seleção de features com pipeline\r\n",
        "from sklearn.pipeline import Pipeline\r\n",
        "\r\n",
        "clf = Pipeline([\r\n",
        "  ('', RFE(LogisticRegression(max_iter=2000),4)),\r\n",
        "  ('classification',RandomForestClassifier())\r\n",
        "])"
      ],
      "execution_count": null,
      "outputs": []
    },
    {
      "cell_type": "code",
      "metadata": {
        "id": "DV-I2xx-qN9z"
      },
      "source": [
        "clf.fit(X, Y)"
      ],
      "execution_count": null,
      "outputs": []
    },
    {
      "cell_type": "code",
      "metadata": {
        "id": "OfqNahYuqTqb"
      },
      "source": [
        "clf.steps"
      ],
      "execution_count": null,
      "outputs": []
    },
    {
      "cell_type": "markdown",
      "metadata": {
        "id": "fkmIHSX1X81a"
      },
      "source": [
        "# Criando um modelo de regressão linear"
      ]
    },
    {
      "cell_type": "code",
      "metadata": {
        "id": "HOkd44LMxSdi"
      },
      "source": [
        "treino_x, teste_x, treino_y, teste_y = train_test_split(x,y,test_size=0.3,random_state=20)"
      ],
      "execution_count": null,
      "outputs": []
    },
    {
      "cell_type": "code",
      "metadata": {
        "id": "ElPfxbecxSfp"
      },
      "source": [
        "modelo = LinearSVC()\r\n",
        "modelo.fit(treino_x,treino_y)\r\n",
        "previsoes = modelo.predict(teste_x)"
      ],
      "execution_count": null,
      "outputs": []
    },
    {
      "cell_type": "code",
      "metadata": {
        "colab": {
          "base_uri": "https://localhost:8080/"
        },
        "id": "Qf4FKqWexX-A",
        "outputId": "2060c703-d08e-4097-c500-a1c5daf9927b"
      },
      "source": [
        "#53.92380952380952\r\n",
        "print('Acurácia com Regressão Linear: ' + str(accuracy_score(teste_y,previsoes) * 100))"
      ],
      "execution_count": null,
      "outputs": [
        {
          "output_type": "stream",
          "text": [
            "Acurácia com Regressão Linear: 53.92380952380952\n"
          ],
          "name": "stdout"
        }
      ]
    },
    {
      "cell_type": "markdown",
      "metadata": {
        "id": "bL9qJ75h6MbJ"
      },
      "source": [
        "# Criando um modelo com 'RandomForestClassifier'"
      ]
    },
    {
      "cell_type": "code",
      "metadata": {
        "id": "-MzR5UZNzkfx"
      },
      "source": [
        "#Importando as bibliotecas de Machine Learning\r\n",
        "from sklearn.ensemble import RandomForestClassifier"
      ],
      "execution_count": null,
      "outputs": []
    },
    {
      "cell_type": "code",
      "metadata": {
        "id": "ZQv1meQDXLdk"
      },
      "source": [
        "colunas = ['id','idade','genero','altura','peso','pressao_max','pressao_min','colesterol','diabetes','fuma','bebe','ativo','coração']\r\n",
        "cardio = pd.read_csv('cardio_original.csv', sep=';',names=colunas,header=1)"
      ],
      "execution_count": null,
      "outputs": []
    },
    {
      "cell_type": "code",
      "metadata": {
        "id": "YVbqUlFZYjGE"
      },
      "source": [
        "x = cardio[['id','idade','genero','peso','altura','pressao_max','pressao_min','colesterol','diabetes','fuma','bebe','ativo']]\r\n",
        "\r\n",
        "y = cardio['coração']"
      ],
      "execution_count": null,
      "outputs": []
    },
    {
      "cell_type": "code",
      "metadata": {
        "id": "71XPxTmQYuV8"
      },
      "source": [
        "x['IMC'] = (x['peso'] / ((x['altura'] / 100) ** 2))"
      ],
      "execution_count": null,
      "outputs": []
    },
    {
      "cell_type": "code",
      "metadata": {
        "id": "zkqL6C3W0x5J"
      },
      "source": [
        "treino_x, teste_x, treino_y, teste_y = train_test_split(x,y,test_size=0.7,random_state=20)"
      ],
      "execution_count": null,
      "outputs": []
    },
    {
      "cell_type": "code",
      "metadata": {
        "id": "zz4uwFJLzkbA"
      },
      "source": [
        "modelo = RandomForestClassifier(n_estimators=100, n_jobs=-1, random_state=10)\r\n",
        "modelo.fit(treino_x, treino_y)\r\n",
        "p = modelo.predict(teste_x)"
      ],
      "execution_count": null,
      "outputs": []
    },
    {
      "cell_type": "code",
      "metadata": {
        "id": "QnoRstu_zkVg",
        "colab": {
          "base_uri": "https://localhost:8080/"
        },
        "outputId": "8fe7e243-5c84-496f-c5b4-165fd908eb60"
      },
      "source": [
        "#72.3204081632653 (test_size=0.7,random_state=20)\r\n",
        "acc = np.mean(teste_y == p) * 100\r\n",
        "acc"
      ],
      "execution_count": null,
      "outputs": [
        {
          "output_type": "execute_result",
          "data": {
            "text/plain": [
              "72.3204081632653"
            ]
          },
          "metadata": {
            "tags": []
          },
          "execution_count": 175
        }
      ]
    },
    {
      "cell_type": "markdown",
      "metadata": {
        "id": "9ApSaC-Bg_W7"
      },
      "source": [
        "# Validação Cruzada (RepeatedKFold) com RandomForestClassifier"
      ]
    },
    {
      "cell_type": "code",
      "metadata": {
        "id": "7uNO5fwVhSbi"
      },
      "source": [
        "#Importando as bibliotecas de Machine Learning\r\n",
        "from sklearn.ensemble import RandomForestClassifier\r\n",
        "from sklearn.model_selection import train_test_split\r\n",
        "from sklearn.model_selection import RepeatedKFold"
      ],
      "execution_count": null,
      "outputs": []
    },
    {
      "cell_type": "code",
      "metadata": {
        "id": "OnF9t84Bg_Lb"
      },
      "source": [
        "#Usando uma técnica de reamostragem -> Validação Cruzada\r\n",
        "resultados = []\r\n",
        "kf = RepeatedKFold(n_splits=4, n_repeats=20, random_state=20)\r\n",
        "\r\n",
        "for linhas_treino, linhas_valid in kf.split(x):\r\n",
        "  X_treino , X_valid = x.iloc[linhas_treino], x.iloc[linhas_valid]\r\n",
        "  y_treino , y_valid = y.iloc[linhas_treino], y.iloc[linhas_valid]\r\n",
        "\r\n",
        "  modelo = RandomForestClassifier(n_estimators=100, n_jobs=-1, random_state=0)\r\n",
        "  modelo.fit(X_treino, y_treino)\r\n",
        "  p = modelo.predict(X_valid)\r\n",
        "  acc = np.mean(y_valid == p)\r\n",
        "  resultados.append(acc)\r\n",
        "  print('Acc: ',acc)  "
      ],
      "execution_count": null,
      "outputs": []
    },
    {
      "cell_type": "code",
      "metadata": {
        "colab": {
          "base_uri": "https://localhost:8080/"
        },
        "id": "gJtP9tIfiWBS",
        "outputId": "f8c839ed-5d7d-4d40-fd64-9397955f29a6"
      },
      "source": [
        "#0.7242267729584547\r\n",
        "np.mean(resultados)"
      ],
      "execution_count": null,
      "outputs": [
        {
          "output_type": "execute_result",
          "data": {
            "text/plain": [
              "0.7242267729584547"
            ]
          },
          "metadata": {
            "tags": []
          },
          "execution_count": 168
        }
      ]
    },
    {
      "cell_type": "markdown",
      "metadata": {
        "id": "HIY2iLIkP00Y"
      },
      "source": [
        ""
      ]
    },
    {
      "cell_type": "markdown",
      "metadata": {
        "id": "_HI7WKEOP2U3"
      },
      "source": [
        "# XGBoost"
      ]
    },
    {
      "cell_type": "code",
      "metadata": {
        "id": "pX3LFtYuP7U3"
      },
      "source": [
        "# importar bibliotecas necessárias\r\n",
        "from sklearn.model_selection import train_test_split\r\n",
        "from sklearn.impute import SimpleImputer\r\n",
        "from xgboost import XGBRegressor\r\n",
        "from sklearn.metrics import mean_absolute_error\r\n",
        "\r\n",
        "# separar entre as variáveis X e y\r\n",
        "colunas = ['id','idade','genero','altura','peso','pressao_min','pressao_max','colesterol','diabetes','fuma','bebe','ativo']\r\n",
        "X = cardio[colunas]\r\n",
        "Y = cardio['coracao']\r\n",
        "\r\n",
        "# dividir entre conjuntos de treino e teste\r\n",
        "train_X, test_X, train_y, test_y = train_test_split(X.values, Y.values, test_size=0.2)\r\n",
        "\r\n",
        "# lidar com os valores ausentes\r\n",
        "df_imputer = SimpleImputer()\r\n",
        "train_X = df_imputer.fit_transform(train_X)\r\n",
        "test_X = df_imputer.transform(test_X)\r\n",
        "\r\n",
        "# instanciar o modelo XGBoost\r\n",
        "model = XGBRegressor()\r\n",
        "\r\n",
        "# chamar o fit para o modelo\r\n",
        "model.fit(train_X, train_y, verbose=False)\r\n",
        "\r\n",
        "# fazer previsões em cima do dataset de teste\r\n",
        "predictions = model.predict(test_X)\r\n",
        "\r\n",
        "print(\"Erro Médio Absoluto: {:.2f}\".format(mean_absolute_error(predictions, test_y)))"
      ],
      "execution_count": null,
      "outputs": []
    },
    {
      "cell_type": "markdown",
      "metadata": {
        "id": "qtceZltDwexT"
      },
      "source": [
        "# Analisando os erros do modelo"
      ]
    },
    {
      "cell_type": "code",
      "metadata": {
        "id": "81D442O0cyxr"
      },
      "source": [
        "Compara = teste_x.copy()\r\n",
        "Compara['Real'] = cardio['coração']\r\n",
        "Compara['Previsão'] = p\r\n",
        "Compara[Compara['Previsão'] != Compara['Real']]\r\n",
        "erros = Compara[Compara['Previsão'] != Compara['Real']]\r\n",
        "erros"
      ],
      "execution_count": null,
      "outputs": []
    },
    {
      "cell_type": "code",
      "metadata": {
        "id": "kXEIheQGc0Pq"
      },
      "source": [
        "erros[(erros['fuma'] == 0) & (erros['bebe'] == 0) & (erros['diabetes'] == 1) & (erros['colesterol'] == 1) & (erros['IMC'] > 30) & (erros['Real'] == 1)]"
      ],
      "execution_count": null,
      "outputs": []
    },
    {
      "cell_type": "code",
      "metadata": {
        "colab": {
          "base_uri": "https://localhost:8080/"
        },
        "id": "Se7TzwkJGQ2z",
        "outputId": "a94d9d05-8849-499b-e90e-bc366e18ad2a"
      },
      "source": [
        "#erros[erros['IMC'] > 50]\r\n",
        "#np.mean(erros['IMC'])\r\n",
        "365 * 45"
      ],
      "execution_count": null,
      "outputs": [
        {
          "output_type": "execute_result",
          "data": {
            "text/plain": [
              "16425"
            ]
          },
          "metadata": {
            "tags": []
          },
          "execution_count": 33
        }
      ]
    },
    {
      "cell_type": "markdown",
      "metadata": {
        "id": "VRgDPhgR_mwh"
      },
      "source": [
        "# DecisionTreeClassifier"
      ]
    },
    {
      "cell_type": "code",
      "metadata": {
        "id": "Mr94FcJi__wB"
      },
      "source": [
        "from sklearn.model_selection import train_test_split\r\n",
        "\r\n",
        "X = df_model.drop('num', axis = 1)\r\n",
        "y = df_model['num']\r\n",
        "SEED = 42\r\n",
        "np.random.seed(SEED)\r\n",
        "X_train, X_test, y_train, y_test = train_test_split(\r\n",
        "                                   X, y, test_size = 0.20)\r\n",
        "print('O dataset de treino possui {} pacientes e o de treino {} pacientes.'.format(X_train.shape[0], X_test.shape[0]))"
      ],
      "execution_count": null,
      "outputs": []
    },
    {
      "cell_type": "code",
      "metadata": {
        "id": "SOBBgsFc_z4J"
      },
      "source": [
        "import numpy as np\r\n",
        "from sklearn.tree import DecisionTreeClassifier\r\n",
        "from sklearn.metrics import accuracy_score\r\n",
        "\r\n",
        "np.random.seed(SEED)\r\n",
        "model = DecisionTreeClassifier(max_depth=2)\r\n",
        "model.fit(X_train, y_train)\r\n",
        "predict = model.predict(X_test)\r\n",
        "accuracy = accuracy_score(y_test, predict) * 100\r\n",
        "print (\"A acurácia foi de {:.2f}%.\".format(accuracy))"
      ],
      "execution_count": null,
      "outputs": []
    },
    {
      "cell_type": "code",
      "metadata": {
        "id": "D-FwjI3o_p8h"
      },
      "source": [
        "np.random.seed(SEED)model = DecisionTreeClassifier(max_depth=3)\r\n",
        "model.fit(x, y)\r\n",
        "predict = model.predict(X_test)\r\n",
        "accuracy = accuracy_score(y_test, predict) * 100\r\n",
        "print (\"A acurácia foi de {:.2f}%.\".format(accuracy))\r\n",
        "Out >>> A acurácia foi de 82.76%."
      ],
      "execution_count": null,
      "outputs": []
    }
  ]
}