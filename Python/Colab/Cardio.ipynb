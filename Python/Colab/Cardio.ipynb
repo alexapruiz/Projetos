{
  "nbformat": 4,
  "nbformat_minor": 0,
  "metadata": {
    "colab": {
      "name": "Cardio.ipynb",
      "provenance": [],
      "collapsed_sections": [],
      "toc_visible": true,
      "authorship_tag": "ABX9TyOGp1qPIroThw7mNPfVQthT",
      "include_colab_link": true
    },
    "kernelspec": {
      "name": "python3",
      "display_name": "Python 3"
    }
  },
  "cells": [
    {
      "cell_type": "markdown",
      "metadata": {
        "id": "view-in-github",
        "colab_type": "text"
      },
      "source": [
        "<a href=\"https://colab.research.google.com/github/alexapruiz/Projetos/blob/master/Cardio.ipynb\" target=\"_parent\"><img src=\"https://colab.research.google.com/assets/colab-badge.svg\" alt=\"Open In Colab\"/></a>"
      ]
    },
    {
      "cell_type": "markdown",
      "metadata": {
        "id": "pCU5qRaLYDhz"
      },
      "source": [
        "# Preparando os dados"
      ]
    },
    {
      "cell_type": "code",
      "metadata": {
        "id": "lhtzonnhxSY5"
      },
      "source": [
        "#Importando as bibliotecas para manipulação dos dados e geração de gráficos\r\n",
        "import pandas as pd\r\n",
        "import matplotlib.pyplot as plt\r\n",
        "\r\n",
        "#Importando as bibliotecas de Machine Learning\r\n",
        "from sklearn.svm import LinearSVC\r\n",
        "from sklearn.model_selection import train_test_split\r\n",
        "from sklearn.metrics import accuracy_score"
      ],
      "execution_count": 22,
      "outputs": []
    },
    {
      "cell_type": "code",
      "metadata": {
        "id": "Bq1LAUjlxSbQ"
      },
      "source": [
        "#Atribuindo nomes às colunas\r\n",
        "colunas = ['id','idade','genero','altura','peso','pressao_max','pressao_min','colesterol','diabetes','fuma','bebe','ativo','coracao']\r\n",
        "\r\n",
        "#Abrindo o arquivo do Kaggle\r\n",
        "cardio = pd.read_csv('cardio_train.csv', sep=';',names=colunas,header=0)"
      ],
      "execution_count": 65,
      "outputs": []
    },
    {
      "cell_type": "code",
      "metadata": {
        "id": "jIds03FmxmeJ"
      },
      "source": [
        "#Definindo os DataFrames de dados e o 'alvo'\r\n",
        "x = cardio[colunas]\r\n",
        "y = cardio['coracao']"
      ],
      "execution_count": 44,
      "outputs": []
    },
    {
      "cell_type": "markdown",
      "metadata": {
        "id": "30Ys4aRQXzai"
      },
      "source": [
        "# Explorando os dados"
      ]
    },
    {
      "cell_type": "code",
      "metadata": {
        "id": "tfPn4kbaynwx",
        "colab": {
          "base_uri": "https://localhost:8080/"
        },
        "outputId": "7ef44ac8-4931-41b4-ad36-bed3b30ad29c"
      },
      "source": [
        "#Verificando o formato do DataFrame (linhas,colunas)\r\n",
        "cardio.shape"
      ],
      "execution_count": 25,
      "outputs": [
        {
          "output_type": "execute_result",
          "data": {
            "text/plain": [
              "(70000, 13)"
            ]
          },
          "metadata": {
            "tags": []
          },
          "execution_count": 25
        }
      ]
    },
    {
      "cell_type": "code",
      "metadata": {
        "colab": {
          "base_uri": "https://localhost:8080/",
          "height": 204
        },
        "id": "DzgUN4gdhXwI",
        "outputId": "3e4bdb02-f26c-4ae9-d009-508336655288"
      },
      "source": [
        "#Iniciando a análise exploratória\r\n",
        "cardio.head()"
      ],
      "execution_count": 26,
      "outputs": [
        {
          "output_type": "execute_result",
          "data": {
            "text/html": [
              "<div>\n",
              "<style scoped>\n",
              "    .dataframe tbody tr th:only-of-type {\n",
              "        vertical-align: middle;\n",
              "    }\n",
              "\n",
              "    .dataframe tbody tr th {\n",
              "        vertical-align: top;\n",
              "    }\n",
              "\n",
              "    .dataframe thead th {\n",
              "        text-align: right;\n",
              "    }\n",
              "</style>\n",
              "<table border=\"1\" class=\"dataframe\">\n",
              "  <thead>\n",
              "    <tr style=\"text-align: right;\">\n",
              "      <th></th>\n",
              "      <th>id</th>\n",
              "      <th>idade</th>\n",
              "      <th>genero</th>\n",
              "      <th>altura</th>\n",
              "      <th>peso</th>\n",
              "      <th>pressao_max</th>\n",
              "      <th>pressao_min</th>\n",
              "      <th>colesterol</th>\n",
              "      <th>diabetes</th>\n",
              "      <th>fuma</th>\n",
              "      <th>bebe</th>\n",
              "      <th>ativo</th>\n",
              "      <th>coracao</th>\n",
              "    </tr>\n",
              "  </thead>\n",
              "  <tbody>\n",
              "    <tr>\n",
              "      <th>0</th>\n",
              "      <td>0</td>\n",
              "      <td>18393</td>\n",
              "      <td>2</td>\n",
              "      <td>168</td>\n",
              "      <td>62.0</td>\n",
              "      <td>110</td>\n",
              "      <td>80</td>\n",
              "      <td>1</td>\n",
              "      <td>1</td>\n",
              "      <td>0</td>\n",
              "      <td>0</td>\n",
              "      <td>1</td>\n",
              "      <td>0</td>\n",
              "    </tr>\n",
              "    <tr>\n",
              "      <th>1</th>\n",
              "      <td>1</td>\n",
              "      <td>20228</td>\n",
              "      <td>1</td>\n",
              "      <td>156</td>\n",
              "      <td>85.0</td>\n",
              "      <td>140</td>\n",
              "      <td>90</td>\n",
              "      <td>3</td>\n",
              "      <td>1</td>\n",
              "      <td>0</td>\n",
              "      <td>0</td>\n",
              "      <td>1</td>\n",
              "      <td>1</td>\n",
              "    </tr>\n",
              "    <tr>\n",
              "      <th>2</th>\n",
              "      <td>2</td>\n",
              "      <td>18857</td>\n",
              "      <td>1</td>\n",
              "      <td>165</td>\n",
              "      <td>64.0</td>\n",
              "      <td>130</td>\n",
              "      <td>70</td>\n",
              "      <td>3</td>\n",
              "      <td>1</td>\n",
              "      <td>0</td>\n",
              "      <td>0</td>\n",
              "      <td>0</td>\n",
              "      <td>1</td>\n",
              "    </tr>\n",
              "    <tr>\n",
              "      <th>3</th>\n",
              "      <td>3</td>\n",
              "      <td>17623</td>\n",
              "      <td>2</td>\n",
              "      <td>169</td>\n",
              "      <td>82.0</td>\n",
              "      <td>150</td>\n",
              "      <td>100</td>\n",
              "      <td>1</td>\n",
              "      <td>1</td>\n",
              "      <td>0</td>\n",
              "      <td>0</td>\n",
              "      <td>1</td>\n",
              "      <td>1</td>\n",
              "    </tr>\n",
              "    <tr>\n",
              "      <th>4</th>\n",
              "      <td>4</td>\n",
              "      <td>17474</td>\n",
              "      <td>1</td>\n",
              "      <td>156</td>\n",
              "      <td>56.0</td>\n",
              "      <td>100</td>\n",
              "      <td>60</td>\n",
              "      <td>1</td>\n",
              "      <td>1</td>\n",
              "      <td>0</td>\n",
              "      <td>0</td>\n",
              "      <td>0</td>\n",
              "      <td>0</td>\n",
              "    </tr>\n",
              "  </tbody>\n",
              "</table>\n",
              "</div>"
            ],
            "text/plain": [
              "   id  idade  genero  altura  peso  ...  diabetes  fuma  bebe  ativo  coracao\n",
              "0   0  18393       2     168  62.0  ...         1     0     0      1        0\n",
              "1   1  20228       1     156  85.0  ...         1     0     0      1        1\n",
              "2   2  18857       1     165  64.0  ...         1     0     0      0        1\n",
              "3   3  17623       2     169  82.0  ...         1     0     0      1        1\n",
              "4   4  17474       1     156  56.0  ...         1     0     0      0        0\n",
              "\n",
              "[5 rows x 13 columns]"
            ]
          },
          "metadata": {
            "tags": []
          },
          "execution_count": 26
        }
      ]
    },
    {
      "cell_type": "code",
      "metadata": {
        "id": "TUKnFI0fN9TR",
        "colab": {
          "base_uri": "https://localhost:8080/"
        },
        "outputId": "c925a385-f8da-4235-f97d-d0670b014086"
      },
      "source": [
        "#Consultando quantos registros indicam a presença / ausência de doença cardiovascular (0: Não possui doença / 1: Possui doença)\r\n",
        "cardio.groupby('coracao').size()"
      ],
      "execution_count": 28,
      "outputs": [
        {
          "output_type": "execute_result",
          "data": {
            "text/plain": [
              "coracao\n",
              "0    35021\n",
              "1    34979\n",
              "dtype: int64"
            ]
          },
          "metadata": {
            "tags": []
          },
          "execution_count": 28
        }
      ]
    },
    {
      "cell_type": "code",
      "metadata": {
        "id": "JoPDT4PsX7W6",
        "colab": {
          "base_uri": "https://localhost:8080/",
          "height": 601
        },
        "outputId": "9ff4a7a0-ec34-407b-c9b4-996deee5e3b6"
      },
      "source": [
        "#Verificando a correlação entre os atributos\r\n",
        "correlacao = cardio.corr()\r\n",
        "\r\n",
        "#Criando um gráfico para exibir a correlação\r\n",
        "fig = plt.figure(figsize=(16,9), dpi=80)\r\n",
        "ax = fig.add_subplot(111)\r\n",
        "cax = ax.matshow(correlacao, vmin = 0, vmax = 1)\r\n",
        "fig.colorbar(cax)\r\n",
        "\r\n",
        "#Considerando apenas os 'atributos principais'\r\n",
        "ax.set_xticklabels(['id','idade','peso','pressao_max','pressao_min','colesterol','fuma','bebe'])\r\n",
        "ax.set_yticklabels(['id','idade','peso','pressao_max','pressao_min','colesterol','fuma','bebe'])\r\n",
        "plt.show()"
      ],
      "execution_count": 116,
      "outputs": [
        {
          "output_type": "display_data",
          "data": {
            "image/png": "[encoded data removed]",
            "text/plain": [
              "<Figure size 1280x720 with 2 Axes>"
            ]
          },
          "metadata": {
            "tags": [],
            "needs_background": "light"
          }
        }
      ]
    },
    {
      "cell_type": "markdown",
      "metadata": {
        "id": "r4do-DuBupTU"
      },
      "source": [
        "# Normalizando os dados"
      ]
    },
    {
      "cell_type": "code",
      "metadata": {
        "id": "RCSDDzDDuq8U",
        "colab": {
          "base_uri": "https://localhost:8080/"
        },
        "outputId": "c5fde70b-1afd-4be1-8d0a-846404b3364c"
      },
      "source": [
        "#Criando um novo DataFrame com os dados normalizados\r\n",
        "cardio2 = cardio.copy()\r\n",
        "\r\n",
        "#Transformando a coluna idade em (anos)\r\n",
        "cardio2['idade'] = cardio2['idade'] / 365\r\n",
        "\r\n",
        "#Eliminando registros incoerentes (outliers)\r\n",
        "cardio2 = cardio2[(cardio2['pressao_min'] > 40) & (cardio2['pressao_max'] > 70) & (cardio2['peso'] > 40)]\r\n",
        "cardio2.shape"
      ],
      "execution_count": 115,
      "outputs": [
        {
          "output_type": "execute_result",
          "data": {
            "text/plain": [
              "(69633, 13)"
            ]
          },
          "metadata": {
            "tags": []
          },
          "execution_count": 115
        }
      ]
    },
    {
      "cell_type": "markdown",
      "metadata": {
        "id": "TWEJUR-Zm9w7"
      },
      "source": [
        "# Selecionando as melhores variáveis"
      ]
    },
    {
      "cell_type": "code",
      "metadata": {
        "id": "wIU-Y9DfnAUD",
        "colab": {
          "base_uri": "https://localhost:8080/",
          "height": 204
        },
        "outputId": "d8aabb79-2cf4-4a72-d403-6a9c6df5c729"
      },
      "source": [
        "#Selecionando as melhores features usando o método Chi2 (qui-quadrado)\r\n",
        "\r\n",
        "from sklearn.feature_selection import SelectKBest\r\n",
        "from sklearn.feature_selection import chi2\r\n",
        "\r\n",
        "colunas = ['idade','genero','altura','peso','pressao_max','pressao_min','colesterol','diabetes','fuma','bebe','ativo']\r\n",
        "array = cardio2[colunas].values\r\n",
        "\r\n",
        "# Separando o array em componentes de input e output\r\n",
        "X = array[:,0:-1]\r\n",
        "Y = array[:,-1]\r\n",
        "\r\n",
        "# Extração de Variáveis\r\n",
        "test = SelectKBest(score_func = chi2, k = 4)\r\n",
        "fit = test.fit(X, Y)\r\n",
        "\r\n",
        "# Sumarizando o score\r\n",
        "#print(fit.scores_)\r\n",
        "features = fit.transform(X)\r\n",
        "cols = fit.get_support(indices=True)\r\n",
        "cardio2.iloc[:,cols].head()"
      ],
      "execution_count": 119,
      "outputs": [
        {
          "output_type": "execute_result",
          "data": {
            "text/html": [
              "<div>\n",
              "<style scoped>\n",
              "    .dataframe tbody tr th:only-of-type {\n",
              "        vertical-align: middle;\n",
              "    }\n",
              "\n",
              "    .dataframe tbody tr th {\n",
              "        vertical-align: top;\n",
              "    }\n",
              "\n",
              "    .dataframe thead th {\n",
              "        text-align: right;\n",
              "    }\n",
              "</style>\n",
              "<table border=\"1\" class=\"dataframe\">\n",
              "  <thead>\n",
              "    <tr style=\"text-align: right;\">\n",
              "      <th></th>\n",
              "      <th>altura</th>\n",
              "      <th>pressao_max</th>\n",
              "      <th>diabetes</th>\n",
              "      <th>fuma</th>\n",
              "    </tr>\n",
              "  </thead>\n",
              "  <tbody>\n",
              "    <tr>\n",
              "      <th>0</th>\n",
              "      <td>168</td>\n",
              "      <td>110</td>\n",
              "      <td>1</td>\n",
              "      <td>0</td>\n",
              "    </tr>\n",
              "    <tr>\n",
              "      <th>1</th>\n",
              "      <td>156</td>\n",
              "      <td>140</td>\n",
              "      <td>1</td>\n",
              "      <td>0</td>\n",
              "    </tr>\n",
              "    <tr>\n",
              "      <th>2</th>\n",
              "      <td>165</td>\n",
              "      <td>130</td>\n",
              "      <td>1</td>\n",
              "      <td>0</td>\n",
              "    </tr>\n",
              "    <tr>\n",
              "      <th>3</th>\n",
              "      <td>169</td>\n",
              "      <td>150</td>\n",
              "      <td>1</td>\n",
              "      <td>0</td>\n",
              "    </tr>\n",
              "    <tr>\n",
              "      <th>4</th>\n",
              "      <td>156</td>\n",
              "      <td>100</td>\n",
              "      <td>1</td>\n",
              "      <td>0</td>\n",
              "    </tr>\n",
              "  </tbody>\n",
              "</table>\n",
              "</div>"
            ],
            "text/plain": [
              "   altura  pressao_max  diabetes  fuma\n",
              "0     168          110         1     0\n",
              "1     156          140         1     0\n",
              "2     165          130         1     0\n",
              "3     169          150         1     0\n",
              "4     156          100         1     0"
            ]
          },
          "metadata": {
            "tags": []
          },
          "execution_count": 119
        }
      ]
    },
    {
      "cell_type": "code",
      "metadata": {
        "id": "SB9f9F5HLKuQ",
        "colab": {
          "base_uri": "https://localhost:8080/",
          "height": 204
        },
        "outputId": "31773af9-cada-436d-bfc0-ead5fa2f707f"
      },
      "source": [
        "#Selecionando as melhores features usando o método f_classif do SelectKBest\r\n",
        "from sklearn.feature_selection import SelectKBest\r\n",
        "from sklearn.feature_selection import f_classif, mutual_info_classif\r\n",
        "\r\n",
        "f_classif = SelectKBest(score_func=f_classif, k=4)\r\n",
        "fit = f_classif.fit(X,Y)\r\n",
        "features = fit.transform(X)\r\n",
        "\r\n",
        "features\r\n",
        "cols = fit.get_support(indices=True)\r\n",
        "cardio2.iloc[:,cols].head()"
      ],
      "execution_count": 120,
      "outputs": [
        {
          "output_type": "execute_result",
          "data": {
            "text/html": [
              "<div>\n",
              "<style scoped>\n",
              "    .dataframe tbody tr th:only-of-type {\n",
              "        vertical-align: middle;\n",
              "    }\n",
              "\n",
              "    .dataframe tbody tr th {\n",
              "        vertical-align: top;\n",
              "    }\n",
              "\n",
              "    .dataframe thead th {\n",
              "        text-align: right;\n",
              "    }\n",
              "</style>\n",
              "<table border=\"1\" class=\"dataframe\">\n",
              "  <thead>\n",
              "    <tr style=\"text-align: right;\">\n",
              "      <th></th>\n",
              "      <th>id</th>\n",
              "      <th>altura</th>\n",
              "      <th>diabetes</th>\n",
              "      <th>fuma</th>\n",
              "    </tr>\n",
              "  </thead>\n",
              "  <tbody>\n",
              "    <tr>\n",
              "      <th>0</th>\n",
              "      <td>0</td>\n",
              "      <td>168</td>\n",
              "      <td>1</td>\n",
              "      <td>0</td>\n",
              "    </tr>\n",
              "    <tr>\n",
              "      <th>1</th>\n",
              "      <td>1</td>\n",
              "      <td>156</td>\n",
              "      <td>1</td>\n",
              "      <td>0</td>\n",
              "    </tr>\n",
              "    <tr>\n",
              "      <th>2</th>\n",
              "      <td>2</td>\n",
              "      <td>165</td>\n",
              "      <td>1</td>\n",
              "      <td>0</td>\n",
              "    </tr>\n",
              "    <tr>\n",
              "      <th>3</th>\n",
              "      <td>3</td>\n",
              "      <td>169</td>\n",
              "      <td>1</td>\n",
              "      <td>0</td>\n",
              "    </tr>\n",
              "    <tr>\n",
              "      <th>4</th>\n",
              "      <td>4</td>\n",
              "      <td>156</td>\n",
              "      <td>1</td>\n",
              "      <td>0</td>\n",
              "    </tr>\n",
              "  </tbody>\n",
              "</table>\n",
              "</div>"
            ],
            "text/plain": [
              "   id  altura  diabetes  fuma\n",
              "0   0     168         1     0\n",
              "1   1     156         1     0\n",
              "2   2     165         1     0\n",
              "3   3     169         1     0\n",
              "4   4     156         1     0"
            ]
          },
          "metadata": {
            "tags": []
          },
          "execution_count": 120
        }
      ]
    },
    {
      "cell_type": "code",
      "metadata": {
        "id": "r7iUbV7NLA9w",
        "colab": {
          "base_uri": "https://localhost:8080/",
          "height": 221
        },
        "outputId": "50c2272c-3313-449a-e449-7fa324236ea5"
      },
      "source": [
        "# Selecionando as melhores features usando o método RFE (Recursive Feature Elimination)\r\n",
        "# Não é recomendado para grandes bases de dados\r\n",
        "\r\n",
        "from sklearn.linear_model import LogisticRegression\r\n",
        "from sklearn.feature_selection import RFE\r\n",
        "\r\n",
        "colunas = ['idade','genero','altura','peso','pressao_max','pressao_min','colesterol','diabetes','fuma','bebe','ativo']\r\n",
        "array = cardio2[colunas].values\r\n",
        "\r\n",
        "# Separando o array em componentes de input e output\r\n",
        "X = array[:,0:-1]\r\n",
        "Y = array[:,-1]\r\n",
        "\r\n",
        "model = LogisticRegression(max_iter=2000)\r\n",
        "rfe = RFE(model,4)\r\n",
        "fit = rfe.fit(X, Y)\r\n",
        "print('Número de features: {}'.format(fit.n_features_))\r\n",
        "\r\n",
        "cols = fit.get_support(indices=True)\r\n",
        "cardio2.iloc[:,cols].head()"
      ],
      "execution_count": 123,
      "outputs": [
        {
          "output_type": "stream",
          "text": [
            "Número de features: 4\n"
          ],
          "name": "stdout"
        },
        {
          "output_type": "execute_result",
          "data": {
            "text/html": [
              "<div>\n",
              "<style scoped>\n",
              "    .dataframe tbody tr th:only-of-type {\n",
              "        vertical-align: middle;\n",
              "    }\n",
              "\n",
              "    .dataframe tbody tr th {\n",
              "        vertical-align: top;\n",
              "    }\n",
              "\n",
              "    .dataframe thead th {\n",
              "        text-align: right;\n",
              "    }\n",
              "</style>\n",
              "<table border=\"1\" class=\"dataframe\">\n",
              "  <thead>\n",
              "    <tr style=\"text-align: right;\">\n",
              "      <th></th>\n",
              "      <th>pressao_min</th>\n",
              "      <th>colesterol</th>\n",
              "      <th>diabetes</th>\n",
              "      <th>fuma</th>\n",
              "    </tr>\n",
              "  </thead>\n",
              "  <tbody>\n",
              "    <tr>\n",
              "      <th>0</th>\n",
              "      <td>80</td>\n",
              "      <td>1</td>\n",
              "      <td>1</td>\n",
              "      <td>0</td>\n",
              "    </tr>\n",
              "    <tr>\n",
              "      <th>1</th>\n",
              "      <td>90</td>\n",
              "      <td>3</td>\n",
              "      <td>1</td>\n",
              "      <td>0</td>\n",
              "    </tr>\n",
              "    <tr>\n",
              "      <th>2</th>\n",
              "      <td>70</td>\n",
              "      <td>3</td>\n",
              "      <td>1</td>\n",
              "      <td>0</td>\n",
              "    </tr>\n",
              "    <tr>\n",
              "      <th>3</th>\n",
              "      <td>100</td>\n",
              "      <td>1</td>\n",
              "      <td>1</td>\n",
              "      <td>0</td>\n",
              "    </tr>\n",
              "    <tr>\n",
              "      <th>4</th>\n",
              "      <td>60</td>\n",
              "      <td>1</td>\n",
              "      <td>1</td>\n",
              "      <td>0</td>\n",
              "    </tr>\n",
              "  </tbody>\n",
              "</table>\n",
              "</div>"
            ],
            "text/plain": [
              "   pressao_min  colesterol  diabetes  fuma\n",
              "0           80           1         1     0\n",
              "1           90           3         1     0\n",
              "2           70           3         1     0\n",
              "3          100           1         1     0\n",
              "4           60           1         1     0"
            ]
          },
          "metadata": {
            "tags": []
          },
          "execution_count": 123
        }
      ]
    },
    {
      "cell_type": "code",
      "metadata": {
        "id": "U8oowNxzNuoI",
        "colab": {
          "base_uri": "https://localhost:8080/",
          "height": 441
        },
        "outputId": "1d7e0bd4-8319-4f4a-efdf-4a5f3fa4bbdb"
      },
      "source": [
        "#Selecionando as melhores features usando: Feature Importance\r\n",
        "import pandas as pd\r\n",
        "from sklearn.ensemble import RandomForestClassifier\r\n",
        "\r\n",
        "colunas = ['idade','genero','altura','peso','pressao_max','pressao_min','colesterol','diabetes','fuma','bebe','ativo']\r\n",
        "array = cardio2[colunas].values\r\n",
        "\r\n",
        "# Separando o array em componentes de input e output\r\n",
        "X = array[:,0:]\r\n",
        "Y = array[:,-1]\r\n",
        "\r\n",
        "modelo = RandomForestClassifier(n_estimators=10)\r\n",
        "modelo.fit(X, Y)\r\n",
        "print(modelo.feature_importances_)\r\n",
        "colunas = ['idade','genero','altura','peso','pressao_max','pressao_min','colesterol','diabetes','fuma','bebe','ativo']\r\n",
        "\r\n",
        "feature_importance = pd.DataFrame(modelo.feature_importances_, index=colunas, columns=['importance']).sort_values('importance', ascending=False)\r\n",
        "feature_importance"
      ],
      "execution_count": 124,
      "outputs": [
        {
          "output_type": "stream",
          "text": [
            "[9.95997890e-04 1.15699316e-04 6.41414954e-04 7.31819362e-04\n",
            " 3.36113377e-04 2.71712313e-04 8.69356104e-05 7.70355643e-05\n",
            " 3.57230138e-04 1.91523065e-04 9.96194518e-01]\n"
          ],
          "name": "stdout"
        },
        {
          "output_type": "execute_result",
          "data": {
            "text/html": [
              "<div>\n",
              "<style scoped>\n",
              "    .dataframe tbody tr th:only-of-type {\n",
              "        vertical-align: middle;\n",
              "    }\n",
              "\n",
              "    .dataframe tbody tr th {\n",
              "        vertical-align: top;\n",
              "    }\n",
              "\n",
              "    .dataframe thead th {\n",
              "        text-align: right;\n",
              "    }\n",
              "</style>\n",
              "<table border=\"1\" class=\"dataframe\">\n",
              "  <thead>\n",
              "    <tr style=\"text-align: right;\">\n",
              "      <th></th>\n",
              "      <th>importance</th>\n",
              "    </tr>\n",
              "  </thead>\n",
              "  <tbody>\n",
              "    <tr>\n",
              "      <th>ativo</th>\n",
              "      <td>0.996195</td>\n",
              "    </tr>\n",
              "    <tr>\n",
              "      <th>idade</th>\n",
              "      <td>0.000996</td>\n",
              "    </tr>\n",
              "    <tr>\n",
              "      <th>peso</th>\n",
              "      <td>0.000732</td>\n",
              "    </tr>\n",
              "    <tr>\n",
              "      <th>altura</th>\n",
              "      <td>0.000641</td>\n",
              "    </tr>\n",
              "    <tr>\n",
              "      <th>fuma</th>\n",
              "      <td>0.000357</td>\n",
              "    </tr>\n",
              "    <tr>\n",
              "      <th>pressao_max</th>\n",
              "      <td>0.000336</td>\n",
              "    </tr>\n",
              "    <tr>\n",
              "      <th>pressao_min</th>\n",
              "      <td>0.000272</td>\n",
              "    </tr>\n",
              "    <tr>\n",
              "      <th>bebe</th>\n",
              "      <td>0.000192</td>\n",
              "    </tr>\n",
              "    <tr>\n",
              "      <th>genero</th>\n",
              "      <td>0.000116</td>\n",
              "    </tr>\n",
              "    <tr>\n",
              "      <th>colesterol</th>\n",
              "      <td>0.000087</td>\n",
              "    </tr>\n",
              "    <tr>\n",
              "      <th>diabetes</th>\n",
              "      <td>0.000077</td>\n",
              "    </tr>\n",
              "  </tbody>\n",
              "</table>\n",
              "</div>"
            ],
            "text/plain": [
              "             importance\n",
              "ativo          0.996195\n",
              "idade          0.000996\n",
              "peso           0.000732\n",
              "altura         0.000641\n",
              "fuma           0.000357\n",
              "pressao_max    0.000336\n",
              "pressao_min    0.000272\n",
              "bebe           0.000192\n",
              "genero         0.000116\n",
              "colesterol     0.000087\n",
              "diabetes       0.000077"
            ]
          },
          "metadata": {
            "tags": []
          },
          "execution_count": 124
        }
      ]
    },
    {
      "cell_type": "markdown",
      "metadata": {
        "id": "86408VpS7vRu"
      },
      "source": [
        "# **As melhores features foram:**\r\n",
        "\r\n",
        "**Chi2**: altura,pressao_max,diabetes,fuma\r\n",
        "\r\n",
        "**SelectKBest**: altura,diabetes,fuma\r\n",
        "\r\n",
        "**RFE:** pressao_min,colesterol,diabetes,fuma\r\n",
        "\r\n",
        "**Feature Importance:** ativo, idade, peso\r\n",
        "\r\n",
        "* Percebi que as features 'diabetes' e 'fuma' se repete mais, seguido por 'pressao' (max ou min). Curiosamente a feature 'altura' aparece com uma das mais importantes em dois métodos (Chi2 e SelectKBest)"
      ]
    },
    {
      "cell_type": "markdown",
      "metadata": {
        "id": "fkmIHSX1X81a"
      },
      "source": [
        "# Criando um modelo de regressão linear"
      ]
    },
    {
      "cell_type": "code",
      "metadata": {
        "id": "HOkd44LMxSdi"
      },
      "source": [
        "#Criando as variáveis de treino e teste (x e y)\r\n",
        "x = cardio2[['id','idade','genero','peso','altura','pressao_max','pressao_min','colesterol','diabetes','fuma','bebe','ativo']]\r\n",
        "y = cardio2['coracao']\r\n",
        "\r\n",
        "#Separando os dados de treino e teste\r\n",
        "treino_x, teste_x, treino_y, teste_y = train_test_split(x,y,test_size=0.3,random_state=20)"
      ],
      "execution_count": 139,
      "outputs": []
    },
    {
      "cell_type": "code",
      "metadata": {
        "id": "ElPfxbecxSfp",
        "colab": {
          "base_uri": "https://localhost:8080/"
        },
        "outputId": "f551606e-5feb-45ff-f0f0-de689d7d3f62"
      },
      "source": [
        "#\r\n",
        "modelo = LinearSVC()\r\n",
        "modelo.fit(treino_x,treino_y)\r\n",
        "previsoes = modelo.predict(teste_x)"
      ],
      "execution_count": 138,
      "outputs": [
        {
          "output_type": "stream",
          "text": [
            "/usr/local/lib/python3.7/dist-packages/sklearn/svm/_base.py:947: ConvergenceWarning: Liblinear failed to converge, increase the number of iterations.\n",
            "  \"the number of iterations.\", ConvergenceWarning)\n"
          ],
          "name": "stderr"
        }
      ]
    },
    {
      "cell_type": "code",
      "metadata": {
        "colab": {
          "base_uri": "https://localhost:8080/"
        },
        "id": "Qf4FKqWexX-A",
        "outputId": "a591bf71-a749-412a-c7cb-2d75842bf499"
      },
      "source": [
        "#Calculando a acurácia do modelo\r\n",
        "print('Acurácia com Regressão Linear: ' + str(accuracy_score(teste_y,previsoes) * 100))"
      ],
      "execution_count": 143,
      "outputs": [
        {
          "output_type": "stream",
          "text": [
            "Acurácia com Regressão Linear: 58.784107228338925\n"
          ],
          "name": "stdout"
        }
      ]
    },
    {
      "cell_type": "markdown",
      "metadata": {
        "id": "bL9qJ75h6MbJ"
      },
      "source": [
        "# Criando um modelo com 'RandomForestClassifier'"
      ]
    },
    {
      "cell_type": "code",
      "metadata": {
        "id": "-MzR5UZNzkfx"
      },
      "source": [
        "#Importando as bibliotecas de Machine Learning\r\n",
        "from sklearn.ensemble import RandomForestClassifier"
      ],
      "execution_count": 145,
      "outputs": []
    },
    {
      "cell_type": "code",
      "metadata": {
        "id": "71XPxTmQYuV8"
      },
      "source": [
        "x['IMC'] = (x['peso'] / ((x['altura'] / 100) ** 2))"
      ],
      "execution_count": 146,
      "outputs": []
    },
    {
      "cell_type": "code",
      "metadata": {
        "id": "zkqL6C3W0x5J"
      },
      "source": [
        "treino_x, teste_x, treino_y, teste_y = train_test_split(x,y,test_size=0.3,random_state=20)"
      ],
      "execution_count": 148,
      "outputs": []
    },
    {
      "cell_type": "code",
      "metadata": {
        "id": "zz4uwFJLzkbA"
      },
      "source": [
        "modelo = RandomForestClassifier(n_estimators=100, n_jobs=-1, random_state=10)\r\n",
        "modelo.fit(treino_x, treino_y)\r\n",
        "p = modelo.predict(teste_x)"
      ],
      "execution_count": 149,
      "outputs": []
    },
    {
      "cell_type": "code",
      "metadata": {
        "id": "QnoRstu_zkVg",
        "colab": {
          "base_uri": "https://localhost:8080/"
        },
        "outputId": "15ad9d6b-e99c-4cc7-89d2-6f318f85f021"
      },
      "source": [
        "#72.3204081632653 (test_size=0.7,random_state=20)\r\n",
        "acc = np.mean(teste_y == p) * 100\r\n",
        "print('Acurácia com RandomForestClassifier: ' + str(acc))"
      ],
      "execution_count": 151,
      "outputs": [
        {
          "output_type": "stream",
          "text": [
            "Acurácia com RandomForestClassifier: 72.94877932024892\n"
          ],
          "name": "stdout"
        }
      ]
    },
    {
      "cell_type": "markdown",
      "metadata": {
        "id": "9ApSaC-Bg_W7"
      },
      "source": [
        "# Validação Cruzada (RepeatedKFold) com RandomForestClassifier"
      ]
    },
    {
      "cell_type": "code",
      "metadata": {
        "id": "7uNO5fwVhSbi"
      },
      "source": [
        "#Importando as bibliotecas de Machine Learning\r\n",
        "from sklearn.ensemble import RandomForestClassifier\r\n",
        "from sklearn.model_selection import train_test_split\r\n",
        "from sklearn.model_selection import RepeatedKFold"
      ],
      "execution_count": 152,
      "outputs": []
    },
    {
      "cell_type": "code",
      "metadata": {
        "id": "OnF9t84Bg_Lb",
        "colab": {
          "base_uri": "https://localhost:8080/"
        },
        "outputId": "f150233e-9786-43b5-b7c1-dbd18318e7d0"
      },
      "source": [
        "#Usando uma técnica de reamostragem -> Validação Cruzada\r\n",
        "resultados = []\r\n",
        "kf = RepeatedKFold(n_splits=4, n_repeats=15, random_state=10)\r\n",
        "\r\n",
        "for linhas_treino, linhas_valid in kf.split(x):\r\n",
        "  X_treino , X_valid = x.iloc[linhas_treino], x.iloc[linhas_valid]\r\n",
        "  y_treino , y_valid = y.iloc[linhas_treino], y.iloc[linhas_valid]\r\n",
        "\r\n",
        "  modelo = RandomForestClassifier(n_estimators=100, n_jobs=-1, random_state=0)\r\n",
        "  modelo.fit(X_treino, y_treino)\r\n",
        "  p = modelo.predict(X_valid)\r\n",
        "  acc = np.mean(y_valid == p)\r\n",
        "  resultados.append(acc)\r\n",
        "  print('Acc: ',acc)  "
      ],
      "execution_count": 155,
      "outputs": [
        {
          "output_type": "stream",
          "text": [
            "Acc:  0.7246251938652422\n",
            "Acc:  0.7278262867647058\n",
            "Acc:  0.716796875\n",
            "Acc:  0.724609375\n",
            "Acc:  0.7252570509506577\n",
            "Acc:  0.7230583639705882\n",
            "Acc:  0.7223690257352942\n",
            "Acc:  0.7244944852941176\n",
            "Acc:  0.7245103107588029\n",
            "Acc:  0.7243221507352942\n",
            "Acc:  0.7198414522058824\n",
            "Acc:  0.7258731617647058\n",
            "Acc:  0.7275547130794416\n",
            "Acc:  0.7251263786764706\n",
            "Acc:  0.7206456801470589\n",
            "Acc:  0.7252412683823529\n",
            "Acc:  0.726635648227928\n",
            "Acc:  0.7270795036764706\n",
            "Acc:  0.7184627757352942\n",
            "Acc:  0.7239774816176471\n",
            "Acc:  0.7258314664828537\n",
            "Acc:  0.7250689338235294\n",
            "Acc:  0.7282284007352942\n",
            "Acc:  0.7240923713235294\n",
            "Acc:  0.7243379860991441\n",
            "Acc:  0.7181755514705882\n",
            "Acc:  0.7199563419117647\n",
            "Acc:  0.7282284007352942\n",
            "Acc:  0.7231317134815325\n",
            "Acc:  0.7243221507352942\n",
            "Acc:  0.7204159007352942\n",
            "Acc:  0.7265625\n",
            "Acc:  0.7206042851398702\n",
            "Acc:  0.7238051470588235\n",
            "Acc:  0.7209329044117647\n",
            "Acc:  0.7271369485294118\n",
            "Acc:  0.7250272847377793\n",
            "Acc:  0.7228285845588235\n",
            "Acc:  0.7260454963235294\n",
            "Acc:  0.7202435661764706\n",
            "Acc:  0.7285886610373945\n",
            "Acc:  0.7220818014705882\n",
            "Acc:  0.7289751838235294\n",
            "Acc:  0.7147863051470589\n",
            "Acc:  0.7243954276523638\n",
            "Acc:  0.7200137867647058\n",
            "Acc:  0.7250689338235294\n",
            "Acc:  0.7248391544117647\n",
            "Acc:  0.7255442587167557\n",
            "Acc:  0.7250114889705882\n",
            "Acc:  0.7248965992647058\n",
            "Acc:  0.7236328125\n",
            "Acc:  0.7238210121201677\n",
            "Acc:  0.7283432904411765\n",
            "Acc:  0.7276539522058824\n",
            "Acc:  0.7254710477941176\n",
            "Acc:  0.7237635705669482\n",
            "Acc:  0.7284007352941176\n",
            "Acc:  0.7244370404411765\n",
            "Acc:  0.7233455882352942\n"
          ],
          "name": "stdout"
        }
      ]
    },
    {
      "cell_type": "code",
      "metadata": {
        "colab": {
          "base_uri": "https://localhost:8080/"
        },
        "id": "gJtP9tIfiWBS",
        "outputId": "4d04bf52-7b27-4149-a04d-a7280bc0ba50"
      },
      "source": [
        "#Verificando a média das acurácias, geral uma média geral\r\n",
        "print(np.mean(resultados) * 100)"
      ],
      "execution_count": 156,
      "outputs": [
        {
          "output_type": "stream",
          "text": [
            "72.41058961123402\n"
          ],
          "name": "stdout"
        }
      ]
    },
    {
      "cell_type": "markdown",
      "metadata": {
        "id": "_HI7WKEOP2U3"
      },
      "source": [
        "# XGBoost"
      ]
    },
    {
      "cell_type": "code",
      "metadata": {
        "id": "pX3LFtYuP7U3",
        "colab": {
          "base_uri": "https://localhost:8080/"
        },
        "outputId": "aa9d7306-16df-451a-9b63-aa11f0be96fa"
      },
      "source": [
        "# Importando as bibliotecas necessárias\r\n",
        "from sklearn.model_selection import train_test_split\r\n",
        "from sklearn.impute import SimpleImputer\r\n",
        "from xgboost import XGBRegressor\r\n",
        "from sklearn.metrics import mean_absolute_error\r\n",
        "\r\n",
        "# Separando os dados\r\n",
        "colunas = ['id','idade','genero','altura','peso','pressao_min','pressao_max','colesterol','diabetes','fuma','bebe','ativo']\r\n",
        "X = cardio2[colunas]\r\n",
        "Y = cardio2['coracao']\r\n",
        "\r\n",
        "# Dividindo os conjuntos de treino e teste\r\n",
        "train_X, test_X, train_y, test_y = train_test_split(X.values, Y.values, test_size=0.2)\r\n",
        "\r\n",
        "# Corrigindo valores ausentes\r\n",
        "df_imputer = SimpleImputer()\r\n",
        "train_X = df_imputer.fit_transform(train_X)\r\n",
        "test_X = df_imputer.transform(test_X)\r\n",
        "\r\n",
        "# Instanciando o modelo XGBoost\r\n",
        "model = XGBRegressor()\r\n",
        "\r\n",
        "# Executando o 'fit' para o modelo XGBoost\r\n",
        "model.fit(train_X, train_y, verbose=False)\r\n",
        "\r\n",
        "# Fazendo as previsões\r\n",
        "predictions = model.predict(test_X)\r\n",
        "\r\n",
        "# Imprimindo o erro médio das previsões\r\n",
        "print('Erro Médio Absoluto: {:.2f}'.format(mean_absolute_error(predictions, test_y)))\r\n",
        "print('Acurácia: ' + str(100 - (mean_absolute_error(predictions, test_y) * 100)))"
      ],
      "execution_count": 295,
      "outputs": [
        {
          "output_type": "stream",
          "text": [
            "[20:16:45] WARNING: /workspace/src/objective/regression_obj.cu:152: reg:linear is now deprecated in favor of reg:squarederror.\n",
            "Erro Médio Absoluto: 0.36\n",
            "Acurácia: 64.02318382897448\n"
          ],
          "name": "stdout"
        }
      ]
    }
  ]
}