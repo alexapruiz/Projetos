{
  "nbformat": 4,
  "nbformat_minor": 0,
  "metadata": {
    "colab": {
      "name": "Cardio.ipynb",
      "provenance": [],
      "collapsed_sections": [
        "D-rPiTNsJPVy",
        "qtceZltDwexT"
      ],
      "toc_visible": true,
      "authorship_tag": "ABX9TyPnuTE5/Gx+gLLclrsi4zeT",
      "include_colab_link": true
    },
    "kernelspec": {
      "name": "python3",
      "display_name": "Python 3"
    }
  },
  "cells": [
    {
      "cell_type": "markdown",
      "metadata": {
        "id": "view-in-github",
        "colab_type": "text"
      },
      "source": [
        "<a href=\"https://colab.research.google.com/github/alexapruiz/Projetos/blob/master/Python/Colab/Cardio.ipynb\" target=\"_parent\"><img src=\"https://colab.research.google.com/assets/colab-badge.svg\" alt=\"Open In Colab\"/></a>"
      ]
    },
    {
      "cell_type": "markdown",
      "metadata": {
        "id": "D-rPiTNsJPVy"
      },
      "source": [
        "## Criando um Modelo de Regressão Linear"
      ]
    },
    {
      "cell_type": "code",
      "metadata": {
        "id": "lhtzonnhxSY5"
      },
      "source": [
        "import pandas as pd\r\n",
        "import numpy as np\r\n",
        "from sklearn.svm import LinearSVC\r\n",
        "from sklearn.model_selection import train_test_split\r\n",
        "from sklearn.metrics import accuracy_score"
      ],
      "execution_count": null,
      "outputs": []
    },
    {
      "cell_type": "code",
      "metadata": {
        "id": "Bq1LAUjlxSbQ"
      },
      "source": [
        "colunas = ['id','idade','genero','altura','peso','pressao_max','pressao_min','colesterol','diabetes','fuma','bebe','ativo','coracao']\r\n",
        "\r\n",
        "cardio = pd.read_csv('cardio_original.csv', sep=';',names=colunas,header=1)"
      ],
      "execution_count": null,
      "outputs": []
    },
    {
      "cell_type": "code",
      "metadata": {
        "id": "jIds03FmxmeJ"
      },
      "source": [
        "x = cardio[colunas]\r\n",
        "y = cardio['coracao']"
      ],
      "execution_count": null,
      "outputs": []
    },
    {
      "cell_type": "code",
      "metadata": {
        "id": "tfPn4kbaynwx"
      },
      "source": [
        "cardio.shape"
      ],
      "execution_count": null,
      "outputs": []
    },
    {
      "cell_type": "code",
      "metadata": {
        "id": "HOkd44LMxSdi"
      },
      "source": [
        "treino_x, teste_x, treino_y, teste_y = train_test_split(x,y,test_size=0.3,random_state=20)"
      ],
      "execution_count": null,
      "outputs": []
    },
    {
      "cell_type": "code",
      "metadata": {
        "id": "ElPfxbecxSfp"
      },
      "source": [
        "modelo = LinearSVC()\r\n",
        "modelo.fit(treino_x,treino_y)\r\n",
        "previsoes = modelo.predict(teste_x)"
      ],
      "execution_count": null,
      "outputs": []
    },
    {
      "cell_type": "code",
      "metadata": {
        "colab": {
          "base_uri": "https://localhost:8080/"
        },
        "id": "Qf4FKqWexX-A",
        "outputId": "2060c703-d08e-4097-c500-a1c5daf9927b"
      },
      "source": [
        "#53.92380952380952\r\n",
        "print('Acurácia com Regressão Linear: ' + str(accuracy_score(teste_y,previsoes) * 100))"
      ],
      "execution_count": null,
      "outputs": [
        {
          "output_type": "stream",
          "text": [
            "Acurácia com Regressão Linear: 53.92380952380952\n"
          ],
          "name": "stdout"
        }
      ]
    },
    {
      "cell_type": "markdown",
      "metadata": {
        "id": "bL9qJ75h6MbJ"
      },
      "source": [
        "# Testando outro método -> RandomForestClassifier"
      ]
    },
    {
      "cell_type": "code",
      "metadata": {
        "id": "-MzR5UZNzkfx"
      },
      "source": [
        "#Importando as bibliotecas de Machine Learning\r\n",
        "from sklearn.ensemble import RandomForestClassifier"
      ],
      "execution_count": null,
      "outputs": []
    },
    {
      "cell_type": "code",
      "metadata": {
        "id": "ZQv1meQDXLdk"
      },
      "source": [
        "colunas = ['id','idade','genero','altura','peso','pressao_max','pressao_min','colesterol','diabetes','fuma','bebe','ativo','coração']\r\n",
        "cardio = pd.read_csv('cardio_original.csv', sep=';',names=colunas,header=1)"
      ],
      "execution_count": null,
      "outputs": []
    },
    {
      "cell_type": "code",
      "metadata": {
        "id": "YVbqUlFZYjGE"
      },
      "source": [
        "x = cardio[['id','idade','genero','peso','altura','pressao_max','pressao_min','colesterol','diabetes','fuma','bebe','ativo']]\r\n",
        "\r\n",
        "y = cardio['coração']"
      ],
      "execution_count": null,
      "outputs": []
    },
    {
      "cell_type": "code",
      "metadata": {
        "id": "71XPxTmQYuV8"
      },
      "source": [
        "x['IMC'] = (x['peso'] / ((x['altura'] / 100) ** 2))"
      ],
      "execution_count": null,
      "outputs": []
    },
    {
      "cell_type": "code",
      "metadata": {
        "id": "zkqL6C3W0x5J"
      },
      "source": [
        "treino_x, teste_x, treino_y, teste_y = train_test_split(x,y,test_size=0.7,random_state=20)"
      ],
      "execution_count": null,
      "outputs": []
    },
    {
      "cell_type": "code",
      "metadata": {
        "id": "zz4uwFJLzkbA"
      },
      "source": [
        "modelo = RandomForestClassifier(n_estimators=100, n_jobs=-1, random_state=10)\r\n",
        "modelo.fit(treino_x, treino_y)\r\n",
        "p = modelo.predict(teste_x)"
      ],
      "execution_count": null,
      "outputs": []
    },
    {
      "cell_type": "code",
      "metadata": {
        "id": "QnoRstu_zkVg",
        "colab": {
          "base_uri": "https://localhost:8080/"
        },
        "outputId": "8fe7e243-5c84-496f-c5b4-165fd908eb60"
      },
      "source": [
        "#72.3204081632653 (test_size=0.7,random_state=20)\r\n",
        "acc = np.mean(teste_y == p) * 100\r\n",
        "acc"
      ],
      "execution_count": null,
      "outputs": [
        {
          "output_type": "execute_result",
          "data": {
            "text/plain": [
              "72.3204081632653"
            ]
          },
          "metadata": {
            "tags": []
          },
          "execution_count": 175
        }
      ]
    },
    {
      "cell_type": "markdown",
      "metadata": {
        "id": "9ApSaC-Bg_W7"
      },
      "source": [
        "# Validação Cruzada"
      ]
    },
    {
      "cell_type": "code",
      "metadata": {
        "id": "7uNO5fwVhSbi"
      },
      "source": [
        "#Importando as bibliotecas de Machine Learning\r\n",
        "from sklearn.ensemble import RandomForestClassifier\r\n",
        "from sklearn.model_selection import train_test_split\r\n",
        "from sklearn.model_selection import RepeatedKFold"
      ],
      "execution_count": null,
      "outputs": []
    },
    {
      "cell_type": "code",
      "metadata": {
        "id": "OnF9t84Bg_Lb"
      },
      "source": [
        "#Usando uma técnica de reamostragem -> Validação Cruzada\r\n",
        "resultados = []\r\n",
        "kf = RepeatedKFold(n_splits=4, n_repeats=20, random_state=20)\r\n",
        "\r\n",
        "for linhas_treino, linhas_valid in kf.split(x):\r\n",
        "  X_treino , X_valid = x.iloc[linhas_treino], x.iloc[linhas_valid]\r\n",
        "  y_treino , y_valid = y.iloc[linhas_treino], y.iloc[linhas_valid]\r\n",
        "\r\n",
        "  modelo = RandomForestClassifier(n_estimators=100, n_jobs=-1, random_state=0)\r\n",
        "  modelo.fit(X_treino, y_treino)\r\n",
        "  p = modelo.predict(X_valid)\r\n",
        "  acc = np.mean(y_valid == p)\r\n",
        "  resultados.append(acc)\r\n",
        "  print('Acc: ',acc)  "
      ],
      "execution_count": null,
      "outputs": []
    },
    {
      "cell_type": "code",
      "metadata": {
        "colab": {
          "base_uri": "https://localhost:8080/"
        },
        "id": "gJtP9tIfiWBS",
        "outputId": "f8c839ed-5d7d-4d40-fd64-9397955f29a6"
      },
      "source": [
        "#0.7242267729584547\r\n",
        "np.mean(resultados)"
      ],
      "execution_count": null,
      "outputs": [
        {
          "output_type": "execute_result",
          "data": {
            "text/plain": [
              "0.7242267729584547"
            ]
          },
          "metadata": {
            "tags": []
          },
          "execution_count": 168
        }
      ]
    },
    {
      "cell_type": "markdown",
      "metadata": {
        "id": "qtceZltDwexT"
      },
      "source": [
        "# #Remover registros 'outlier'"
      ]
    },
    {
      "cell_type": "code",
      "metadata": {
        "id": "81D442O0cyxr"
      },
      "source": [
        "Compara = teste_x.copy()\r\n",
        "Compara['Real'] = cardio['coração']\r\n",
        "Compara['Previsão'] = p\r\n",
        "Compara[Compara['Previsão'] != Compara['Real']]\r\n",
        "erros = Compara[Compara['Previsão'] != Compara['Real']]\r\n",
        "erros"
      ],
      "execution_count": null,
      "outputs": []
    },
    {
      "cell_type": "code",
      "metadata": {
        "colab": {
          "base_uri": "https://localhost:8080/",
          "height": 439
        },
        "id": "kXEIheQGc0Pq",
        "outputId": "1c1f4734-520e-4825-d953-831971557859"
      },
      "source": [
        "erros[(erros['fuma'] == 0) & (erros['bebe'] == 0) & (erros['diabetes'] == 1) & (erros['colesterol'] == 1) & (erros['IMC'] > 30) & (erros['Real'] == 1)]"
      ],
      "execution_count": null,
      "outputs": [
        {
          "output_type": "execute_result",
          "data": {
            "text/html": [
              "<div>\n",
              "<style scoped>\n",
              "    .dataframe tbody tr th:only-of-type {\n",
              "        vertical-align: middle;\n",
              "    }\n",
              "\n",
              "    .dataframe tbody tr th {\n",
              "        vertical-align: top;\n",
              "    }\n",
              "\n",
              "    .dataframe thead th {\n",
              "        text-align: right;\n",
              "    }\n",
              "</style>\n",
              "<table border=\"1\" class=\"dataframe\">\n",
              "  <thead>\n",
              "    <tr style=\"text-align: right;\">\n",
              "      <th></th>\n",
              "      <th>id</th>\n",
              "      <th>idade</th>\n",
              "      <th>genero</th>\n",
              "      <th>peso</th>\n",
              "      <th>altura</th>\n",
              "      <th>pressao_max</th>\n",
              "      <th>pressao_min</th>\n",
              "      <th>colesterol</th>\n",
              "      <th>diabetes</th>\n",
              "      <th>fuma</th>\n",
              "      <th>bebe</th>\n",
              "      <th>ativo</th>\n",
              "      <th>IMC</th>\n",
              "      <th>Real</th>\n",
              "      <th>Previsão</th>\n",
              "    </tr>\n",
              "  </thead>\n",
              "  <tbody>\n",
              "    <tr>\n",
              "      <th>44310</th>\n",
              "      <td>63292</td>\n",
              "      <td>21960</td>\n",
              "      <td>1</td>\n",
              "      <td>82.0</td>\n",
              "      <td>158</td>\n",
              "      <td>110</td>\n",
              "      <td>80</td>\n",
              "      <td>1</td>\n",
              "      <td>1</td>\n",
              "      <td>0</td>\n",
              "      <td>0</td>\n",
              "      <td>1</td>\n",
              "      <td>32.847300</td>\n",
              "      <td>1</td>\n",
              "      <td>0</td>\n",
              "    </tr>\n",
              "    <tr>\n",
              "      <th>19527</th>\n",
              "      <td>27894</td>\n",
              "      <td>19170</td>\n",
              "      <td>1</td>\n",
              "      <td>109.0</td>\n",
              "      <td>170</td>\n",
              "      <td>120</td>\n",
              "      <td>90</td>\n",
              "      <td>1</td>\n",
              "      <td>1</td>\n",
              "      <td>0</td>\n",
              "      <td>0</td>\n",
              "      <td>1</td>\n",
              "      <td>37.716263</td>\n",
              "      <td>1</td>\n",
              "      <td>0</td>\n",
              "    </tr>\n",
              "    <tr>\n",
              "      <th>32041</th>\n",
              "      <td>45748</td>\n",
              "      <td>15298</td>\n",
              "      <td>1</td>\n",
              "      <td>81.0</td>\n",
              "      <td>157</td>\n",
              "      <td>115</td>\n",
              "      <td>75</td>\n",
              "      <td>1</td>\n",
              "      <td>1</td>\n",
              "      <td>0</td>\n",
              "      <td>0</td>\n",
              "      <td>0</td>\n",
              "      <td>32.861374</td>\n",
              "      <td>1</td>\n",
              "      <td>0</td>\n",
              "    </tr>\n",
              "    <tr>\n",
              "      <th>52930</th>\n",
              "      <td>75508</td>\n",
              "      <td>22594</td>\n",
              "      <td>1</td>\n",
              "      <td>84.0</td>\n",
              "      <td>154</td>\n",
              "      <td>110</td>\n",
              "      <td>70</td>\n",
              "      <td>1</td>\n",
              "      <td>1</td>\n",
              "      <td>0</td>\n",
              "      <td>0</td>\n",
              "      <td>1</td>\n",
              "      <td>35.419126</td>\n",
              "      <td>1</td>\n",
              "      <td>0</td>\n",
              "    </tr>\n",
              "    <tr>\n",
              "      <th>33498</th>\n",
              "      <td>47859</td>\n",
              "      <td>21949</td>\n",
              "      <td>1</td>\n",
              "      <td>78.0</td>\n",
              "      <td>160</td>\n",
              "      <td>120</td>\n",
              "      <td>70</td>\n",
              "      <td>1</td>\n",
              "      <td>1</td>\n",
              "      <td>0</td>\n",
              "      <td>0</td>\n",
              "      <td>0</td>\n",
              "      <td>30.468750</td>\n",
              "      <td>1</td>\n",
              "      <td>0</td>\n",
              "    </tr>\n",
              "    <tr>\n",
              "      <th>...</th>\n",
              "      <td>...</td>\n",
              "      <td>...</td>\n",
              "      <td>...</td>\n",
              "      <td>...</td>\n",
              "      <td>...</td>\n",
              "      <td>...</td>\n",
              "      <td>...</td>\n",
              "      <td>...</td>\n",
              "      <td>...</td>\n",
              "      <td>...</td>\n",
              "      <td>...</td>\n",
              "      <td>...</td>\n",
              "      <td>...</td>\n",
              "      <td>...</td>\n",
              "      <td>...</td>\n",
              "    </tr>\n",
              "    <tr>\n",
              "      <th>21731</th>\n",
              "      <td>31031</td>\n",
              "      <td>19578</td>\n",
              "      <td>1</td>\n",
              "      <td>84.0</td>\n",
              "      <td>164</td>\n",
              "      <td>120</td>\n",
              "      <td>80</td>\n",
              "      <td>1</td>\n",
              "      <td>1</td>\n",
              "      <td>0</td>\n",
              "      <td>0</td>\n",
              "      <td>1</td>\n",
              "      <td>31.231410</td>\n",
              "      <td>1</td>\n",
              "      <td>0</td>\n",
              "    </tr>\n",
              "    <tr>\n",
              "      <th>37430</th>\n",
              "      <td>53454</td>\n",
              "      <td>20517</td>\n",
              "      <td>2</td>\n",
              "      <td>92.0</td>\n",
              "      <td>165</td>\n",
              "      <td>120</td>\n",
              "      <td>70</td>\n",
              "      <td>1</td>\n",
              "      <td>1</td>\n",
              "      <td>0</td>\n",
              "      <td>0</td>\n",
              "      <td>1</td>\n",
              "      <td>33.792470</td>\n",
              "      <td>1</td>\n",
              "      <td>0</td>\n",
              "    </tr>\n",
              "    <tr>\n",
              "      <th>37852</th>\n",
              "      <td>54037</td>\n",
              "      <td>23151</td>\n",
              "      <td>1</td>\n",
              "      <td>75.0</td>\n",
              "      <td>152</td>\n",
              "      <td>120</td>\n",
              "      <td>80</td>\n",
              "      <td>1</td>\n",
              "      <td>1</td>\n",
              "      <td>0</td>\n",
              "      <td>0</td>\n",
              "      <td>1</td>\n",
              "      <td>32.461911</td>\n",
              "      <td>1</td>\n",
              "      <td>0</td>\n",
              "    </tr>\n",
              "    <tr>\n",
              "      <th>4624</th>\n",
              "      <td>6547</td>\n",
              "      <td>17462</td>\n",
              "      <td>1</td>\n",
              "      <td>80.0</td>\n",
              "      <td>153</td>\n",
              "      <td>120</td>\n",
              "      <td>80</td>\n",
              "      <td>1</td>\n",
              "      <td>1</td>\n",
              "      <td>0</td>\n",
              "      <td>0</td>\n",
              "      <td>1</td>\n",
              "      <td>34.174890</td>\n",
              "      <td>1</td>\n",
              "      <td>0</td>\n",
              "    </tr>\n",
              "    <tr>\n",
              "      <th>69988</th>\n",
              "      <td>99985</td>\n",
              "      <td>21013</td>\n",
              "      <td>1</td>\n",
              "      <td>83.0</td>\n",
              "      <td>157</td>\n",
              "      <td>120</td>\n",
              "      <td>70</td>\n",
              "      <td>1</td>\n",
              "      <td>1</td>\n",
              "      <td>0</td>\n",
              "      <td>0</td>\n",
              "      <td>1</td>\n",
              "      <td>33.672766</td>\n",
              "      <td>1</td>\n",
              "      <td>0</td>\n",
              "    </tr>\n",
              "  </tbody>\n",
              "</table>\n",
              "<p>941 rows × 15 columns</p>\n",
              "</div>"
            ],
            "text/plain": [
              "          id  idade  genero   peso  ...  ativo        IMC  Real  Previsão\n",
              "44310  63292  21960       1   82.0  ...      1  32.847300     1         0\n",
              "19527  27894  19170       1  109.0  ...      1  37.716263     1         0\n",
              "32041  45748  15298       1   81.0  ...      0  32.861374     1         0\n",
              "52930  75508  22594       1   84.0  ...      1  35.419126     1         0\n",
              "33498  47859  21949       1   78.0  ...      0  30.468750     1         0\n",
              "...      ...    ...     ...    ...  ...    ...        ...   ...       ...\n",
              "21731  31031  19578       1   84.0  ...      1  31.231410     1         0\n",
              "37430  53454  20517       2   92.0  ...      1  33.792470     1         0\n",
              "37852  54037  23151       1   75.0  ...      1  32.461911     1         0\n",
              "4624    6547  17462       1   80.0  ...      1  34.174890     1         0\n",
              "69988  99985  21013       1   83.0  ...      1  33.672766     1         0\n",
              "\n",
              "[941 rows x 15 columns]"
            ]
          },
          "metadata": {
            "tags": []
          },
          "execution_count": 136
        }
      ]
    },
    {
      "cell_type": "code",
      "metadata": {
        "colab": {
          "base_uri": "https://localhost:8080/"
        },
        "id": "Se7TzwkJGQ2z",
        "outputId": "a94d9d05-8849-499b-e90e-bc366e18ad2a"
      },
      "source": [
        "#erros[erros['IMC'] > 50]\r\n",
        "#np.mean(erros['IMC'])\r\n",
        "365 * 45"
      ],
      "execution_count": null,
      "outputs": [
        {
          "output_type": "execute_result",
          "data": {
            "text/plain": [
              "16425"
            ]
          },
          "metadata": {
            "tags": []
          },
          "execution_count": 33
        }
      ]
    },
    {
      "cell_type": "code",
      "metadata": {
        "id": "nVfVZe54GQvt"
      },
      "source": [
        ""
      ],
      "execution_count": null,
      "outputs": []
    }
  ]
}