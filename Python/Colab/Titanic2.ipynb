{
  "nbformat": 4,
  "nbformat_minor": 0,
  "metadata": {
    "colab": {
      "name": "Titanic2.ipynb",
      "provenance": [],
      "collapsed_sections": [],
      "toc_visible": true,
      "authorship_tag": "ABX9TyO5EraNdS9NqXv9CLi0xpNm",
      "include_colab_link": true
    },
    "kernelspec": {
      "name": "python3",
      "display_name": "Python 3"
    }
  },
  "cells": [
    {
      "cell_type": "markdown",
      "metadata": {
        "id": "view-in-github",
        "colab_type": "text"
      },
      "source": [
        "<a href=\"https://colab.research.google.com/github/alexapruiz/Projetos/blob/master/Python/Colab/Titanic2.ipynb\" target=\"_parent\"><img src=\"https://colab.research.google.com/assets/colab-badge.svg\" alt=\"Open In Colab\"/></a>"
      ]
    },
    {
      "cell_type": "code",
      "metadata": {
        "id": "84P9WZGnBW0b"
      },
      "source": [
        "#Importa as bibliotecas\r\n",
        "import pandas as pd\r\n",
        "import numpy as np"
      ],
      "execution_count": null,
      "outputs": []
    },
    {
      "cell_type": "code",
      "metadata": {
        "id": "AWMpopXlNf0x"
      },
      "source": [
        "#Cria a função que vai gerar uma coluna binária para o sexo (Male -> 0 e Female -> 1)\r\n",
        "def transformar_sexo(valor):\r\n",
        "  if valor == 'female':\r\n",
        "    return 1\r\n",
        "  else:\r\n",
        "    return 0"
      ],
      "execution_count": null,
      "outputs": []
    },
    {
      "cell_type": "code",
      "metadata": {
        "id": "lWLL634EpKtY"
      },
      "source": [
        "#Importa os arquivos do Kaggle\r\n",
        "train = pd.read_csv(\"train.csv\", sep=';')\r\n",
        "teste = pd.read_csv(\"test.csv\", sep=';')"
      ],
      "execution_count": null,
      "outputs": []
    },
    {
      "cell_type": "code",
      "metadata": {
        "id": "83VzlaouQOf0"
      },
      "source": [
        "train"
      ],
      "execution_count": null,
      "outputs": []
    },
    {
      "cell_type": "code",
      "metadata": {
        "id": "uoSvfYdQNJGn"
      },
      "source": [
        "#Criando o campo 'Sexo_binario'\r\n",
        "train['Sex_binario'] = train['Sex'].map(transformar_sexo)\r\n",
        "teste['Sex_binario'] = teste['Sex'].map(transformar_sexo)\r\n",
        "\r\n",
        "#Criando outros campos para tentar melhorar o modelo\r\n",
        "train['Embarked_S'] = (train['Embarked'] == 'S').astype(int)\r\n",
        "train['Embarked_C'] = (train['Embarked'] == 'C').astype(int)\r\n",
        "train['Embarked_Q'] = (train['Embarked'] == 'Q').astype(int)\r\n",
        "train['Cabine_Nula'] = train['Cabin'].isnull().astype(int)\r\n",
        "train['Nome_Contem_Miss'] = train['Name'].str.contains('Miss').astype('int')\r\n",
        "train['Nome_Contem_Mrs'] = train['Name'].str.contains('Mrs').astype('int')\r\n",
        "train['Nome_Contem_Master'] = train['Name'].str.contains('Master').astype('int')\r\n",
        "train['Nome_Contem_Col'] = train['Name'].str.contains('Col').astype('int')\r\n",
        "train['Nome_Contem_Major'] = train['Name'].str.contains('Major').astype('int')\r\n",
        "train['Nome_Contem_Mr'] = train['Name'].str.contains('Mr').astype('int')\r\n",
        "\r\n",
        "#Definindo os campos a serem analisados\r\n",
        "#variaveis = ['Sex_binario', 'Age', 'Pclass', 'SibSp','Parch', 'Fare']\r\n",
        "variaveis = ['PassengerId','Sex_binario', 'Age', 'Pclass', 'SibSp','Parch', 'Fare','Embarked_S','Embarked_C','Embarked_Q','Cabine_Nula','Nome_Contem_Miss','Nome_Contem_Mrs','Nome_Contem_Master','Nome_Contem_Col','Nome_Contem_Major','Nome_Contem_Mr']\r\n",
        "\r\n",
        "#Substituindo dados Nan por -1\r\n",
        "X = train[variaveis].fillna(-1)\r\n",
        "y = train['Survived']"
      ],
      "execution_count": null,
      "outputs": []
    },
    {
      "cell_type": "code",
      "metadata": {
        "id": "eDTgwBTGBaZJ"
      },
      "source": [
        "#Importando as bibliotecas de Machine Learning\r\n",
        "from sklearn.ensemble import RandomForestClassifier\r\n",
        "from sklearn.model_selection import train_test_split\r\n",
        "from sklearn.model_selection import RepeatedKFold"
      ],
      "execution_count": null,
      "outputs": []
    },
    {
      "cell_type": "code",
      "metadata": {
        "id": "cIjfxKEGQIWw"
      },
      "source": [
        "#Usando uma técnica de reamostragem -> Validação Cruzada\r\n",
        "resultados = []\r\n",
        "kf = RepeatedKFold(n_splits=3, n_repeats=40, random_state=1)\r\n",
        "\r\n",
        "for linhas_treino, linhas_valid in kf.split(X):\r\n",
        "  #print('Treino: ', linhas_treino.shape[0])\r\n",
        "  #print('Teste: ', linhas_valid.shape[0])\r\n",
        "\r\n",
        "  X_treino , X_valid = X.iloc[linhas_treino], X.iloc[linhas_valid]\r\n",
        "  y_treino , y_valid = y.iloc[linhas_treino], y.iloc[linhas_valid]\r\n",
        "\r\n",
        "  modelo = RandomForestClassifier(n_estimators=100, n_jobs=-1, random_state=0)\r\n",
        "  modelo.fit(X_treino, y_treino)\r\n",
        "  p = modelo.predict(X_valid)\r\n",
        "  acc = np.mean(y_valid == p)\r\n",
        "  resultados.append(acc)\r\n",
        "  print('Acc: ',acc)  "
      ],
      "execution_count": null,
      "outputs": []
    },
    {
      "cell_type": "code",
      "metadata": {
        "id": "X9WVdHxJy3ZT"
      },
      "source": [
        "resultados"
      ],
      "execution_count": null,
      "outputs": []
    },
    {
      "cell_type": "code",
      "metadata": {
        "colab": {
          "base_uri": "https://localhost:8080/"
        },
        "id": "oABHvcnAXc3J",
        "outputId": "a7bca295-82b1-4455-dc7b-77f3b238d904"
      },
      "source": [
        "#Resultados : - n_splits=3, n_repeats=20, random_state=20 -> 0.8108866442199776\r\n",
        "#Resultados : - n_splits=4, n_repeats=40, random_state=10 -> 0.8096018664404315\r\n",
        "#Resultados : - n_splits=4, n_repeats=40, random_state=1  -> 0.8119326445279361\r\n",
        "\r\n",
        "np.mean(resultados)"
      ],
      "execution_count": null,
      "outputs": [
        {
          "output_type": "execute_result",
          "data": {
            "text/plain": [
              "0.819304152637486"
            ]
          },
          "metadata": {
            "tags": []
          },
          "execution_count": 61
        }
      ]
    },
    {
      "cell_type": "code",
      "metadata": {
        "id": "uJekb0skbt54",
        "colab": {
          "base_uri": "https://localhost:8080/"
        },
        "outputId": "c204879b-baeb-45c9-cf39-eda280a8a9c8"
      },
      "source": [
        "%matplotlib inline\r\n",
        "%pylab inline"
      ],
      "execution_count": null,
      "outputs": [
        {
          "output_type": "stream",
          "text": [
            "Populating the interactive namespace from numpy and matplotlib\n"
          ],
          "name": "stdout"
        }
      ]
    },
    {
      "cell_type": "code",
      "metadata": {
        "id": "utzL8Ooobt04"
      },
      "source": [
        "pylab.hist(resultados)"
      ],
      "execution_count": null,
      "outputs": []
    },
    {
      "cell_type": "markdown",
      "metadata": {
        "id": "rsjWVByM1dF6"
      },
      "source": [
        "# Aplicando o modelo para gerar novo resultado"
      ]
    },
    {
      "cell_type": "code",
      "metadata": {
        "id": "DyY2VaWc0DPS"
      },
      "source": [
        "modelo = RandomForestClassifier(n_estimators=100, n_jobs=-1, random_state=0)\r\n",
        "modelo.fit(X, y)"
      ],
      "execution_count": null,
      "outputs": []
    },
    {
      "cell_type": "code",
      "metadata": {
        "id": "64ezX3x_0ppZ"
      },
      "source": [
        "teste['Embarked_S'] = (teste['Embarked'] == 'S').astype(int)\r\n",
        "teste['Embarked_C'] = (teste['Embarked'] == 'C').astype(int)\r\n",
        "teste['Embarked_Q'] = (teste['Embarked'] == 'Q').astype(int)\r\n",
        "teste['Cabine_Nula'] = teste['Cabin'].isnull().astype(int)\r\n",
        "teste['Nome_Contem_Miss'] = teste['Name'].str.contains('Miss').astype('int')\r\n",
        "teste['Nome_Contem_Mrs'] = teste['Name'].str.contains('Mrs').astype('int')\r\n",
        "teste['Nome_Contem_Master'] = teste['Name'].str.contains('Master').astype('int')\r\n",
        "teste['Nome_Contem_Col'] = teste['Name'].str.contains('Col').astype('int')\r\n",
        "teste['Nome_Contem_Major'] = teste['Name'].str.contains('Major').astype('int')\r\n",
        "teste['Nome_Contem_Mr'] = teste['Name'].str.contains('Mr').astype('int')\r\n",
        "\r\n",
        "variaveis = ['PassengerId','Sex_binario', 'Age', 'Pclass', 'SibSp','Parch', 'Fare','Embarked_S','Embarked_C','Embarked_Q','Cabine_Nula','Nome_Contem_Miss','Nome_Contem_Mrs','Nome_Contem_Master','Nome_Contem_Col','Nome_Contem_Major','Nome_Contem_Mr']"
      ],
      "execution_count": null,
      "outputs": []
    },
    {
      "cell_type": "code",
      "metadata": {
        "id": "mRz3Azlj0ahZ"
      },
      "source": [
        "valida = teste[variaveis]\r\n",
        "valida = valida.fillna(-1)\r\n",
        "p2 = modelo.predict(valida)"
      ],
      "execution_count": null,
      "outputs": []
    },
    {
      "cell_type": "code",
      "metadata": {
        "id": "vGEtlBEnEryo"
      },
      "source": [
        "# Gerando as previsões\r\n",
        "sub = pd.Series(p2, index=teste['PassengerId'], name='Survived')\r\n",
        "sub"
      ],
      "execution_count": null,
      "outputs": []
    },
    {
      "cell_type": "code",
      "metadata": {
        "id": "uwtPze9AErwQ"
      },
      "source": [
        "# Criando um arquivo csv com o resultado\r\n",
        "sub.to_csv('Modelo_com_todos_atributos.csv', header=True)"
      ],
      "execution_count": null,
      "outputs": []
    }
  ]
}