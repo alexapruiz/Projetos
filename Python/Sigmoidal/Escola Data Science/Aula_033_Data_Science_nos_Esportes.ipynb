{
  "nbformat": 4,
  "nbformat_minor": 0,
  "metadata": {
    "colab": {
      "name": "Aula 033 - Data Science nos Esportes",
      "provenance": [],
      "collapsed_sections": [],
      "include_colab_link": true
    },
    "kernelspec": {
      "name": "python3",
      "display_name": "Python 3"
    }
  },
  "cells": [
    {
      "cell_type": "markdown",
      "metadata": {
        "id": "view-in-github",
        "colab_type": "text"
      },
      "source": [
        "<a href=\"https://colab.research.google.com/github/alexapruiz/Projetos/blob/master/Aula_033_Data_Science_nos_Esportes.ipynb\" target=\"_parent\"><img src=\"https://colab.research.google.com/assets/colab-badge.svg\" alt=\"Open In Colab\"/></a>"
      ]
    },
    {
      "cell_type": "markdown",
      "metadata": {
        "id": "uugKJdag_9Dk"
      },
      "source": [
        "<p align=\"center\"><img src=\"https://raw.githubusercontent.com/carlosfab/escola-data-science/master/img/eds.png\" height=\"100px\"></p>\n",
        "\n",
        "# Aula 033 - Data Science nos Esportes\n",
        "\n",
        "Como em todas as outras áreas do mundo, os esportes também estão surfando a onda dos dados, onde se cria mais dados em uma temporada do que havia na última década. Avanços tecnológicos e buscas por diferenciais competitivos levam times de ponta a investir cada vez mais nesses recursos.\n",
        "\n",
        "<p align=\"center\"><img src=\"https://images.unsplash.com/photo-1532040683343-edbde6dd500d?ixlib=rb-1.2.1&auto=format&fit=crop&w=755&q=80\" width=\"60%\"></p>\n",
        "\n",
        "Alguns casos e esportes se destacam nessa corrida, e aqui vamos abordar:\n",
        "* Principais aplicações de Ciência de Dados no mundo dos esportes.\n",
        "* Como entregar valor com Ciência de Dados.\n",
        "* Exemplos e inspirações para trabalhos nessa área."
      ]
    },
    {
      "cell_type": "markdown",
      "metadata": {
        "id": "BbBot9ZPATDN"
      },
      "source": [
        "## Experiência Pessoal\n",
        "\n",
        "<p align=\"center\"><img src=\"https://github.com/rafaelnduarte/sigmoidal_data/blob/master/IMG_8666.JPG?raw=true\" width=\"40%\"></p>\n",
        "\n",
        "Atleta de base de basquete, sempre fui apaixonado pelo esporte, e as amizades com jogadores que se toranaram profissionais, técnicos, fisioterapeutas, executivos do esporte, me abriram as portas para trabalhar com uma equipe profissional como Cientista de Dados.\n",
        "\n",
        "Apesar de ter sido um período muito breve, interrompido pela pandemia, consegui observar e aprender com a comissão técnica e direção do clube quais eram as principais demandas, o que eles esperavam de um trabalho como esse.\n",
        "\n",
        "Mas antes de chegar na necessidade local de um time brasileiro, vamos ver os principais casos no mundo."
      ]
    },
    {
      "cell_type": "markdown",
      "metadata": {
        "id": "vhAjp4J2v0KP"
      },
      "source": [
        "## Outros Esportes\n",
        "Apesar do meu viés com o basquete, é importante trazer exemplos também de outros esportes. Sempre houve análise estatística no que se trata de esportes. Entender cada detalhe do jogo sempre foi uma grande demanda tanto do público quanto das equipes e jogadores de cada esporte.\n",
        "\n",
        "\n",
        "### Futebol\n",
        "\n",
        "<p align=\"center\"><img src=\"https://miro.medium.com/max/700/1*3JZVvagvy-nG7aLeqPBBAQ.png\" width=\"60%\"></p>\n",
        "\n",
        "\n",
        "No futebol, um dos principais destaques é o **Liverpool**. Eles fazem um trabalho excepcional, especialmente com Computer Vision. [Esse vídeo](https://www.youtube.com/watch?v=d-eiZiE8_L0) vai um pouco mais em detalhe sobre o tipo de trabalho que eles têm feito por lá. [Aqui](https://www.youtube.com/watch?v=X9PrwPyolyU), temos uma entrevista com um dos Cientistas de Dados da equipe falando sobre *Pitch Control*.\n",
        "\n",
        "Hoje em dia, na maioria dos esportes, os maiores times já possuem equipes de Cientistas de Dados. No Liverpool, por exemplo, eles realmente abraçaram a cultura de dados, e a Ciência de Dados auxilia em decisões de natureza administrativa, como *scout* de jogadores, técnicos, entre outros, até decisões de natureza tática, como é o caso do *pitch control* mencionado no vídeo acima.\n",
        "\n",
        "\n",
        "### Baseball\n",
        "\n",
        "<p align=\"center\"><img src=\"https://images.unsplash.com/photo-1521941651707-748bdbae77e9?ixlib=rb-1.2.1&auto=format&fit=crop&w=750&q=80\" width=\"60%\"></p>\n",
        "\n",
        "No Baseball, o trabalho analítico é feito, mas existem limitações por causa da natureza do jogo. Eu **ALTAMENTE RECOMENDO** [esse vídeo](https://www.youtube.com/watch?v=PmlRbfSavbI), onde os autores mostram como criar uma aplicação de visão computacional capaz de identificar os padrões na comunicação entre os jogadores, de forma a ganhar vantagem.\n",
        "\n",
        "Entretanto, aplicações desse tipo são **ilegais** no baseball, causando grandes problemas, multas e penalidades no passado. [Nesse link](https://www.theguardian.com/sport/2020/apr/22/boston-red-sox-sign-stealing-mlb-investigation-punishment-baseball) você pode ver mais sobre casos como esse.\n",
        "\n",
        "De qualquer forma, o vídeo é muito interessante e divertido, e ver a aplicação sendo criada e funcionando é sensacional. A criatividade sempre é bem-vinda.\n"
      ]
    },
    {
      "cell_type": "markdown",
      "metadata": {
        "id": "C84oKfJH1q01"
      },
      "source": [
        "## Basquete\n",
        "\n",
        "Como não poderia ser diferente, dada minha experiência pessoal com o esporte, o foco dessa análise vai ser com o Basquete. Historicamente, o basquete americano sempre gerou muitos dados, e o basquete conta com muitas [estatísticas avançadas](https://bleacherreport.com/articles/1813902-advanced-nba-stats-for-dummies-how-to-understand-the-new-hoops-math), criadas com o intuito de se aprofundar cada vez mais no esporte.\n",
        "\n",
        "<p align=\"center\"><img src=\"https://images.unsplash.com/photo-1574623452334-1e0ac2b3ccb4?ixlib=rb-1.2.1&ixid=eyJhcHBfaWQiOjEyMDd9&auto=format&fit=crop&w=334&q=80\" width=\"60%\"></p>\n",
        "\n",
        "O alto volume de dados, relevância do mercado americano injetando altos investimentos no esporte, resultaram em uma onda de analytics pela NBA. O **Houston Rockets** com seu hoje ex-GM, [Daryl Morey](https://fivethirtyeight.com/features/daryl-morey-made-a-lot-of-trades-how-much-did-they-help-the-rockets/), foi um dos precursores desse movimento.\n",
        "\n",
        "Assim como o Liverpool, o Rockets começou a usar de Data Science em todos os departamentos onde isso era possível, desde decisões administrativas, contratações, e na parte tática, em quadra. Com isso em mente, eles revolucionaram sua própria equipe, trazendo jogadores, comissão técnica e um estilo de jogo único, que ao espectador leigo parecia não fazer tanto sentido, mas os resultados começaram a vir. \n",
        "\n",
        "Com a saída de Daryl, essa era totalmente focada em analytics parece ter chegado ao fim sem um título, mas colocou os Rockets de volta no mapa, trouxeram dois MVPs para o time, e o Rockets é uma potência na Conferência Oeste."
      ]
    },
    {
      "cell_type": "markdown",
      "metadata": {
        "id": "WuE315kmYXYZ"
      },
      "source": [
        "## Analytics vs Realidade\n",
        "\n",
        "Essa realidade de Ciência de Dados aplicada à NBA já deixou traços que mudaram por completo a forma que o jogo acontece. A imagem abaixo ilustra muito bem essa mudança de mentalidade dos times, migrando da chama *Iso Era* dos anos 90 e 2000, para a *3-point era*, que vivemos agora. Basta assistir um jogo da NBA hoje que é extremamente visível a grande tendência dos times a tentar bolas de 3 pontos.\n",
        "\n",
        "<p align=\"center\"><img src=\"https://sigmoidal.ai/wp-content/uploads/2020/02/82726470_1980811982064693_9174080290631450624_o-768x432.jpg\" width=\"60%\"></p>\n",
        "\n",
        "O resultado foi uma mudança completa no estilo de jogo dos jogadores e dos times, diferentes estratégias defensivas e ofensivas, jogadores que foram grandes estrelas nos anos 2000, pulando de time em time tentando se encontrar, se aposentando ou quase, por não se encaixar nessa nosa NBA. Um dos maiores exemplos disso são Dwight Howard, que já foi Defensor do Ano na liga, brigou por MVP e levou seu time à Final da NBA, e pular de time em time, e ver seu estilo de jogo se tornar obsoleto, mas principalmente **Carmelo Anthony**. \n",
        "\n",
        "<p align=\"center\"><img src=\"https://sportshub.cbsistatic.com/i/r/2020/08/11/f5b49362-0b82-4ef2-b8cc-4908b9181f55/thumbnail/1200x675/c5ef6213205887ad6e03b4a949f7792f/carmelo.jpg\" width=\"60%\"></p>\n",
        "\n",
        "Anthony foi um dos maiores pontuadores da liga, com uma carreira sensacional, um verdadeiro jogador de elite, que foi parar no **Houston Rockets**, que mencionamos anteriormente. Após um período extremamente curto com o time, onde ambas as partes não se adptaram uma a outra, seu contrato foi encerrado, e ele passou um longo período fora da liga, até se encontrar de novo no Portland Trailblazers, onde ele se encontrou, e mostrou que seu jogo ainda tem valor. [Esse artigo](https://heavy.com/sports/2019/03/carmelo-anthony-analytics-cj-miles) conta bem como a cultura de dados quase acabou com a carreira de um dos maiores jogadores da história da liga, e como um time o perdeu por SÓ confiar no trabalho de analytics.\n",
        "\n",
        "Ironicamente, pouco tempo após chegar ao Blazers, Carmelo teve a oportunidade de ganhar um jogo fazendo o estilo de jogo que fez sua carreira inteira, e que o departamento de DS do Rockets julgou terminado, um arremesso de meia distância. O vídeo desse momento pode ser visto [aqui](https://www.youtube.com/watch?v=gvAJQ_esJRc), e mais vídeos do Carmelo ajudando o Blazers a conquistar um lugar nos playoffs da temporada 2019-2020 [aqui](https://www.youtube.com/watch?v=kJ5PypdzsNk&feature=emb_title).\n",
        "\n",
        "### A Lição\n",
        "\n",
        "Por mais preciso, interessante, revelador e inovador que possa ser o trabalho de Ciência de Dados para um time de elite, todos esses esforços não são o que ganha jogo. O que ganha jogo são os jogadores em quadra, leitura do momento, talento natural, força de vontade, determinação. E isso o analytics não te conta. O trabalho de analytics é levar o máximo de informação possível para os diretores, comissão técnica, para que esses, com suas experiências e conhecimentos, consigam tomar decisões **informadas** e **realísticas** sobre o destino dos times e jogadores.\n",
        "\n",
        "Tenha isso sempre em mente. Somos mais uma ferramenta, para possibilitar que o melhor trabalho seja feito em quadra. Mas os esportes são feitos de pessoas.\n"
      ]
    },
    {
      "cell_type": "markdown",
      "metadata": {
        "id": "BLzS89sMerWD"
      },
      "source": [
        "## Trabalhos Interessantes na Área\n",
        "\n",
        "Ainda falando de basquete, deixarei aqui algumas recomendações de trabalhos, não necessariamente acadêmicos, que são extremamente interessantes e podem ajudar na construção e direcionamento de trabalhos de impacto.\n",
        "\n",
        "\n",
        "<p align=\"center\"><img src=\"https://images.unsplash.com/photo-1517852058149-07c7a2e65cc6?ixlib=rb-1.2.1&ixid=eyJhcHBfaWQiOjEyMDd9&auto=format&fit=crop&w=750&q=80\" width=\"60%\"></p>\n",
        "\n",
        "\n",
        "* [Estatísticas de Basquete Ajustadas à \"Inflação\"](https://www.youtube.com/watch?v=FtEQxqVgP04)\n",
        "* [Análise e Visualização de Dados - 8 Unbelievable Charts That Will Change The Way You See The NBA](https://www.youtube.com/watch?v=VCIKek1f-Hs)\n",
        "* [Python Sports Analytics Made Simple](https://medium.com/clarktech-sports/python-sports-analytics-made-simple-part-1-14569d6e9a86)\n"
      ]
    },
    {
      "cell_type": "markdown",
      "metadata": {
        "id": "sbRfqT3blDry"
      },
      "source": [
        "## Gerando Valor e Criando Oportunidades\n",
        "\n",
        "<p align=\"center\"><img src=\"https://sigmoidal.ai/wp-content/uploads/2020/02/CV_bball-768x432.png\" width=\"60%\"></p>\n",
        "\n",
        "Com toda essa contextualização em mente, é hora de entender como gerar valor, e criar oportunidades para si mesmo nessa área.\n",
        "\n",
        "* Pipeline de Trabalho\n",
        "  * Definição do Escopo / Objetivos\n",
        "    * Aqui é a hora de uma conversa aberta com a direção, comissão técnica, preparadores físicos, e qualquer outro membro da equipe que tenha voz na definição do escopo. Entenda as necessidades da equipe. Alinhar expectativas, entender o trabalho que já é feito, e o que precisa/pode melhorar.\n",
        "  * Identificação das Oportunidades (Adv. Stats / CV)\n",
        "    * Precisamos entender o chão que estamos pisando. Como é feito o trabalho atualmente? Quais são os dados disponíveis? Que dados precisamos para fazer o trabalho desejado? É possível fazer essa coleta, feature engineering, etc.\n",
        "  * Aquisição dos Dados\n",
        "    * Uma vez definidos os objetivos, oportunidades e o escopo, é hora de botar a mão na massa e coletar os dados. Entenda a forma que eles estão dispiníveis e trabalhe buscando eficiência e reprodutibilidade.\n",
        "  * Análise de Dados vs Machine Learning\n",
        "    * Na maioria dos cenários, a análise exploratória vai ser mais importante e relevante do que uma previsão de um jogo que ainda não foi jogado.\n",
        "  * Entrega (Relatórios, Aplicação, etc)\n",
        "    * Muito provavelmente, um script em Python ou um notebook só vai servir para outro Cientista de Dados. Tenha essa estrutura, mas a entrega precisa ser amigável para a comissão técnica, diretores, jogadores. Todos precisam entender o que foi feito. A forma de entrega vai ser definida junto ao time.\n",
        "* Cuidados Analytics vs Real\n",
        "  * Entenda seu papel e do seu trabalho. Não deixe de ser relevante, mas não deixe os números fazerem tudo. Todo esse trabalho é complementar ao trabalho da comissão técnica. O objetivo é munir a comissão com o máximo de informação e insights relevantes possível.\n",
        "* Aplicações de Machine Learning\n",
        "  * Supervisionados ([NCAA Basketball - Kaggle](https://www.kaggle.com/c/google-cloud-ncaa-march-madness-2020-division-1-mens-tournament/overview))\n",
        "  * Não-Supervisionados (Clustering, Scouting)\n",
        "  * Computer Vision ([Homecourt App](https://www.homecourt.ai), [Action Recognition](https://www.youtube.com/watch?v=PEziTgHx4cA))\n",
        "* Trabalho Contínuo, Reprodutibilidade, \"Seja Substiuível\"\n",
        "  * Como mencionado anteriormente, não deixe de ser relevante, mas deixe um legado. Um dia uma outra oportunidade pode aparecer, e você precisa ter respeito para com a direção, comissão técnica, jogadores, todos os colaboradores que fazem parte da equipe, e também com si mesmo, seu legado e seu trabalho. Use de boas práticas no seu código, seus arquivos, todo o seu pipeline de trabalho deve ser claro, e reprodutível. Quem virá depois de você irá agradecer."
      ]
    },
    {
      "cell_type": "markdown",
      "metadata": {
        "id": "bIHgUYZLoYx1"
      },
      "source": [
        "### Projeto no Brasil\n",
        "\n",
        "Como mencionado anteriormente, antes da pandemia participei do início do trabalho com uma equipe de basquete em minha cidade. Através dos contatos com a comissão que eu tinha, em uma conversa, sugeri a apresentação de um projeto, propondo a implementação de uma cultura de dados e trabalho com análise de dados e Machine Learning, como diferencial competitivo no desenvolvimento de jogadores, planejamento tático da equipe, e elemento diferencial para atrair possíveis investidores e parceiros. Proposta aceita, desenvolvi alguns trabalhos com a equipe enquanto acertávamos detalhes do escopo, até que surgiu a pandemia e toda a atividade foi interrompida.\n",
        "\n",
        "<p align=\"center\"><img src=\"https://static-wp-tor15-prd.torcedores.com/wp-content/uploads/2019/10/nbb-caixa-590x590.png\" width=\"40%\"></p>\n",
        "\n",
        "O que quero trazer aqui, é o que acredito ter sido o diferencial para que eu fosse escutado e aceito pela equipe para realizar um trabalho pioneiro, de alto calibre e impacto. Buscando trazer o trabalho feito fora do Brasil, com as técnicas mais avançadas de coleta e análise de dados, Machine Learning com Visão Computacional para o cenário do basquete brasileiro, onde ter alguém que cuida das estatística já é um lucro.\n",
        "\n",
        "As demandas do time incluiam, mas não se limitavam a:\n",
        "* Coleta e Armazenamento dos Dados\n",
        "* Scouting Pré-jogo > Análise do próprio time\n",
        "  * Esse foi um dos aspectos que julgo mais interessantes. O técnico conhecia muito bem a equipe, o campeonato, etc, e para ele, o mais importante seria acompanhar e entender a fundo as outras equipes. Para ele, scouting e relatórios pré-jogo, apresentando as principais características, pontos fortes e fracos das equipe, bem como os principais pontos que levavam as equipes às vitórias ou derrotas. Entender o adversário era a prioridade número 1.\n",
        "* Análise de Movimentação, Detecção de Padrões\n",
        "  * Aqui, seria feito um trabalho de visão computacional, analisando padrões e coletando dados aos quais nenhuma outra equipe tinha acesso, o que poderia expor ainda mais oportunidades para a equipe.\n",
        "* Auxílio no Desenvolvimento de Jogadores\n",
        "  * A análise da própria equipe, em treinos e jogos, com visão computacional e estatísticas padrão seria mais focada no desenvolvimento de jogadores, previsão de lesões junto à equipe de preparação física, etc. Esse trabalho acabaria, também, levando a testes e insights que poderiam ser aplicados desde a base.\n",
        "* Análise Evolutiva\n",
        "  * Entender se as mudanças feitas em treinamentos, esquemas táticos, entre outros, estavam surtindo o efeito desejado.\n",
        "* Entrega de Resultados -> Relatórios on-demand, aplicação web\n",
        "  * O acordado com a equipe eram relatórios objetivos com visualizações e explicações sobre os achados. O técnico passaria informações de sua própria percepção antes, e o trabalho confirmaria ou eliminaria as possibilidades levantadas, além de excedê-las. Como meta de médio-longo prazo, isso seria disponibilizado em um aplicativo web, que seria disponibilizado para toda a comissão e jogadores.\n",
        "* Participação com a Comissão Técnica\n",
        "  * Além da entregua e apresentação de relatórios perante a comissão técnica, também seria marcada presença nas reuniões da comissão técnica, e da comissão com os jogadores, diretores e preparadores físicos, estando sempre a par das demandas do time."
      ]
    },
    {
      "cell_type": "markdown",
      "metadata": {
        "id": "tZYubrKcpDhR"
      },
      "source": [
        "## Projeto Escola de Data Science\n",
        "\n",
        "Com isso em mente, na próxima aula iremos usar dados retirados do portal [Basketball Reference](https://www.basketball-reference.com) extraídos utilizando [Beautiful Soup](https://towardsdatascience.com/web-scraping-nba-stats-4b4f8c525994) para montar um projeto que consiste em um pipeline completo desde a aquisição de dados até a entrega de insights para uma equipe da NBA. \n",
        "\n",
        "<p align=\"center\"><img src=\"https://www.booshsports.com/wp-content/uploads/2017/02/analytics-1024x768.jpg\" width=\"40%\"></p>\n",
        "\n",
        "Vamos trabalhar análise e visualização de dados, scout de jogadores e implementação de Machine Learning."
      ]
    },
    {
      "cell_type": "markdown",
      "metadata": {
        "id": "trYvXMn-ovVZ"
      },
      "source": [
        "### Considerações Finais\n",
        "<p align=\"center\"><img src=\"https://images.unsplash.com/photo-1543013309-0d1f4edeb868?ixlib=rb-1.2.1&ixid=eyJhcHBfaWQiOjEyMDd9&auto=format&fit=crop&w=423&q=80\" width=\"40%\"></p>\n",
        "\n",
        "* Pense fora da caixa\n",
        "* Escute mais do que fala\n",
        "* Entregue mais do que prometeu\n",
        "* Nunca se desprenda do real, do humano"
      ]
    }
  ]
}