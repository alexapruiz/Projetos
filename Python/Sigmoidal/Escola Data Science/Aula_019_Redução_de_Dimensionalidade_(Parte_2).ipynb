{
  "nbformat": 4,
  "nbformat_minor": 0,
  "metadata": {
    "colab": {
      "name": "Aula 019 - Redução de Dimensionalidade (Parte 2).ipynb",
      "provenance": [],
      "collapsed_sections": []
    },
    "kernelspec": {
      "name": "python3",
      "display_name": "Python 3"
    }
  },
  "cells": [
    {
      "cell_type": "markdown",
      "metadata": {
        "id": "qB2VIDLEOam6",
        "colab_type": "text"
      },
      "source": [
        "# Aula 019 - Redução de Dimensionalidade (Parte 2)\n",
        "\n",
        "Redução de dimensionalidade é o processo no qual nós minimizamos a quantidade de dados, descartando *features* desnecessárias, porém preservando o máximo de informação possível.\n",
        "\n"
      ]
    },
    {
      "cell_type": "markdown",
      "metadata": {
        "id": "QSL4dAK8Ns93",
        "colab_type": "text"
      },
      "source": [
        "**E se eu tiver 100 variáveis independentes?**\n",
        "\n",
        "* Complexidade computacional\n",
        "* Visualização inviável\n",
        "* Provavelmente há variáveis desnecessárias\n",
        "* Modelo muito complexo\n",
        "\n",
        "## Técnicas de redução de dimensionalidade\n",
        "\n",
        "1. Feature Selection (Parte 1)\n",
        "    * Proporção de valores ausentes\n",
        "    * Baixa variância\n",
        "    * Alta correlação\n",
        "    * Backward feature elimination\n",
        "    * Forward feature selection\n",
        "2. Features extraction (Parte 2)\n",
        "    * Factor Analysis\n",
        "    * Principal Component Analysis"
      ]
    },
    {
      "cell_type": "markdown",
      "metadata": {
        "id": "aVkY_tn4ZyKq",
        "colab_type": "text"
      },
      "source": [
        "## Principal Component Analysis - PCA\n",
        "\n",
        "**Etapas do PCA**\n",
        "\n",
        "1. Padronizar os dados (média igual a 0 e variância igual a 1).\n",
        "    * $z = \\frac{x - \\mu}{\\sigma}$\n",
        "2. Calcular a matriz de covariância\n",
        "    * Mede a força da correácão entre duas variáveis\n",
        "    * $cov(X, Y) = \\frac{1}{n}\\sum_{i=1}^{n}(X_i - \\hat{X})(Y_i - \\hat{Y})$\n",
        "    * $cov(A,B) = A.B$\n",
        "    * $cov = X^T X$\n",
        "3. Obter os autovetores (eigenvectors) e autovalores (eigenvalues) da matrix de covariância\n",
        "    * Encontrar as direções e máxima variância.\n",
        "4. Escolher os Principal Components"
      ]
    },
    {
      "cell_type": "code",
      "metadata": {
        "id": "PSRnT5roJI0K",
        "colab_type": "code",
        "colab": {}
      },
      "source": [
        "import pandas as pd\n",
        "import numpy as np\n",
        "import matplotlib.pyplot as plt\n",
        "from mpl_toolkits.mplot3d import Axes3D\n",
        "from sklearn.decomposition import PCA\n",
        "from sklearn.preprocessing import StandardScaler"
      ],
      "execution_count": null,
      "outputs": []
    },
    {
      "cell_type": "code",
      "metadata": {
        "id": "HVuyfN0GMVG-",
        "colab_type": "code",
        "colab": {}
      },
      "source": [
        "df = pd.read_csv( filepath_or_buffer='https://archive.ics.uci.edu/ml/machine-learning-databases/iris/iris.data', header=None, sep=',')\n",
        "df.columns=['sepal_len', 'sepal_wid', 'petal_len', 'petal_wid', 'class'] "
      ],
      "execution_count": null,
      "outputs": []
    },
    {
      "cell_type": "code",
      "metadata": {
        "id": "kSULN-gFMdUL",
        "colab_type": "code",
        "colab": {
          "base_uri": "https://localhost:8080/",
          "height": 204
        },
        "outputId": "29122a47-9cd1-425d-b97b-ed99757fa967"
      },
      "source": [
        "df.head()"
      ],
      "execution_count": null,
      "outputs": [
        {
          "output_type": "execute_result",
          "data": {
            "text/html": [
              "<div>\n",
              "<style scoped>\n",
              "    .dataframe tbody tr th:only-of-type {\n",
              "        vertical-align: middle;\n",
              "    }\n",
              "\n",
              "    .dataframe tbody tr th {\n",
              "        vertical-align: top;\n",
              "    }\n",
              "\n",
              "    .dataframe thead th {\n",
              "        text-align: right;\n",
              "    }\n",
              "</style>\n",
              "<table border=\"1\" class=\"dataframe\">\n",
              "  <thead>\n",
              "    <tr style=\"text-align: right;\">\n",
              "      <th></th>\n",
              "      <th>sepal_len</th>\n",
              "      <th>sepal_wid</th>\n",
              "      <th>petal_len</th>\n",
              "      <th>petal_wid</th>\n",
              "      <th>class</th>\n",
              "    </tr>\n",
              "  </thead>\n",
              "  <tbody>\n",
              "    <tr>\n",
              "      <th>0</th>\n",
              "      <td>5.1</td>\n",
              "      <td>3.5</td>\n",
              "      <td>1.4</td>\n",
              "      <td>0.2</td>\n",
              "      <td>Iris-setosa</td>\n",
              "    </tr>\n",
              "    <tr>\n",
              "      <th>1</th>\n",
              "      <td>4.9</td>\n",
              "      <td>3.0</td>\n",
              "      <td>1.4</td>\n",
              "      <td>0.2</td>\n",
              "      <td>Iris-setosa</td>\n",
              "    </tr>\n",
              "    <tr>\n",
              "      <th>2</th>\n",
              "      <td>4.7</td>\n",
              "      <td>3.2</td>\n",
              "      <td>1.3</td>\n",
              "      <td>0.2</td>\n",
              "      <td>Iris-setosa</td>\n",
              "    </tr>\n",
              "    <tr>\n",
              "      <th>3</th>\n",
              "      <td>4.6</td>\n",
              "      <td>3.1</td>\n",
              "      <td>1.5</td>\n",
              "      <td>0.2</td>\n",
              "      <td>Iris-setosa</td>\n",
              "    </tr>\n",
              "    <tr>\n",
              "      <th>4</th>\n",
              "      <td>5.0</td>\n",
              "      <td>3.6</td>\n",
              "      <td>1.4</td>\n",
              "      <td>0.2</td>\n",
              "      <td>Iris-setosa</td>\n",
              "    </tr>\n",
              "  </tbody>\n",
              "</table>\n",
              "</div>"
            ],
            "text/plain": [
              "   sepal_len  sepal_wid  petal_len  petal_wid        class\n",
              "0        5.1        3.5        1.4        0.2  Iris-setosa\n",
              "1        4.9        3.0        1.4        0.2  Iris-setosa\n",
              "2        4.7        3.2        1.3        0.2  Iris-setosa\n",
              "3        4.6        3.1        1.5        0.2  Iris-setosa\n",
              "4        5.0        3.6        1.4        0.2  Iris-setosa"
            ]
          },
          "metadata": {
            "tags": []
          },
          "execution_count": 3
        }
      ]
    },
    {
      "cell_type": "code",
      "metadata": {
        "id": "JtH8akbbM8wc",
        "colab_type": "code",
        "colab": {
          "base_uri": "https://localhost:8080/",
          "height": 268
        },
        "outputId": "43e1c9b5-c888-4213-db2b-ad914adfd794"
      },
      "source": [
        "fig, ax = plt.subplots()\n",
        "plt.scatter(df['sepal_len'], df['sepal_wid'])\n",
        "plt.show()"
      ],
      "execution_count": null,
      "outputs": [
        {
          "output_type": "display_data",
          "data": {
            "image/png": "[encoded data removed]",
            "text/plain": [
              "<Figure size 432x288 with 1 Axes>"
            ]
          },
          "metadata": {
            "tags": [],
            "needs_background": "light"
          }
        }
      ]
    },
    {
      "cell_type": "code",
      "metadata": {
        "id": "qXMlkhihOmmh",
        "colab_type": "code",
        "colab": {
          "base_uri": "https://localhost:8080/",
          "height": 265
        },
        "outputId": "02fca018-e3ce-4ef0-dd53-a46f27e1f533"
      },
      "source": [
        "fig, ax = plt.subplots()\n",
        "plt.scatter(df['sepal_len'], df['petal_len'])\n",
        "plt.show()"
      ],
      "execution_count": null,
      "outputs": [
        {
          "output_type": "display_data",
          "data": {
            "image/png": "[encoded data removed]",
            "text/plain": [
              "<Figure size 432x288 with 1 Axes>"
            ]
          },
          "metadata": {
            "tags": [],
            "needs_background": "light"
          }
        }
      ]
    },
    {
      "cell_type": "markdown",
      "metadata": {
        "id": "scwIzfkMP17R",
        "colab_type": "text"
      },
      "source": [
        "### 1. Padronizar os dados"
      ]
    },
    {
      "cell_type": "code",
      "metadata": {
        "id": "5-FlTj2JMjxR",
        "colab_type": "code",
        "colab": {}
      },
      "source": [
        "X = df.drop('class', axis=1).values\n",
        "y = df['class'].values"
      ],
      "execution_count": null,
      "outputs": []
    },
    {
      "cell_type": "code",
      "metadata": {
        "id": "fWGeCkHHOxt5",
        "colab_type": "code",
        "colab": {}
      },
      "source": [
        "X_std = StandardScaler().fit_transform(X)"
      ],
      "execution_count": null,
      "outputs": []
    },
    {
      "cell_type": "code",
      "metadata": {
        "id": "xn7QygCnOxiS",
        "colab_type": "code",
        "colab": {
          "base_uri": "https://localhost:8080/",
          "height": 107
        },
        "outputId": "04b754c9-43d6-4a6b-929d-22df603a5078"
      },
      "source": [
        "X_std[:5]"
      ],
      "execution_count": null,
      "outputs": [
        {
          "output_type": "execute_result",
          "data": {
            "text/plain": [
              "array([[-0.90068117,  1.03205722, -1.3412724 , -1.31297673],\n",
              "       [-1.14301691, -0.1249576 , -1.3412724 , -1.31297673],\n",
              "       [-1.38535265,  0.33784833, -1.39813811, -1.31297673],\n",
              "       [-1.50652052,  0.10644536, -1.2844067 , -1.31297673],\n",
              "       [-1.02184904,  1.26346019, -1.3412724 , -1.31297673]])"
            ]
          },
          "metadata": {
            "tags": []
          },
          "execution_count": 8
        }
      ]
    },
    {
      "cell_type": "markdown",
      "metadata": {
        "id": "grhkBht8Oxcq",
        "colab_type": "text"
      },
      "source": [
        "### 2. Calcular a matriz de covariância\n",
        "\n",
        "Essa será uma matriz $n \\times n$, onde $n$ é o número de features do dataset. Cada elemento dessa matriz representa a covariância entre duas features quaisquer.\n",
        "\n",
        "No exemplo que estamos vendo, o resultado será uma matriz $4 \\times 4$."
      ]
    },
    {
      "cell_type": "code",
      "metadata": {
        "id": "tbSDZpAIQ0Rv",
        "colab_type": "code",
        "colab": {}
      },
      "source": [
        "cov_matrix = np.cov(X_std, rowvar=False)"
      ],
      "execution_count": null,
      "outputs": []
    },
    {
      "cell_type": "markdown",
      "metadata": {
        "id": "cizv6iq3Q0Ix",
        "colab_type": "text"
      },
      "source": [
        "### 3. Obter os autovetores e autovalores a partir da matriz de covariância"
      ]
    },
    {
      "cell_type": "code",
      "metadata": {
        "id": "Ieari3rQQz7u",
        "colab_type": "code",
        "colab": {}
      },
      "source": [
        "eig_vals, eig_vecs = np.linalg.eig(cov_matrix)"
      ],
      "execution_count": null,
      "outputs": []
    },
    {
      "cell_type": "markdown",
      "metadata": {
        "id": "cLkNWMFAVx-b",
        "colab_type": "text"
      },
      "source": [
        "### 4. Selecionar os Principal Components"
      ]
    },
    {
      "cell_type": "code",
      "metadata": {
        "id": "vu6OcMRnYozM",
        "colab_type": "code",
        "colab": {
          "base_uri": "https://localhost:8080/",
          "height": 89
        },
        "outputId": "85c53953-8deb-483a-be46-e119e282c752"
      },
      "source": [
        "eig_vecs"
      ],
      "execution_count": null,
      "outputs": [
        {
          "output_type": "execute_result",
          "data": {
            "text/plain": [
              "array([[ 0.52237162, -0.37231836, -0.72101681,  0.26199559],\n",
              "       [-0.26335492, -0.92555649,  0.24203288, -0.12413481],\n",
              "       [ 0.58125401, -0.02109478,  0.14089226, -0.80115427],\n",
              "       [ 0.56561105, -0.06541577,  0.6338014 ,  0.52354627]])"
            ]
          },
          "metadata": {
            "tags": []
          },
          "execution_count": 11
        }
      ]
    },
    {
      "cell_type": "code",
      "metadata": {
        "id": "OpO3UPbjMwb-",
        "colab_type": "code",
        "colab": {
          "base_uri": "https://localhost:8080/",
          "height": 173
        },
        "outputId": "eb0e3158-f498-4808-d7f3-3a30eb3664a5"
      },
      "source": [
        "# ordenando os autovalores\n",
        "eigen = pd.concat([pd.DataFrame(np.transpose(eig_vecs)), pd.DataFrame(eig_vals)], axis=1)\n",
        "eigen.index = ['eigenvector1', 'eigenvector2', 'eigenvector3', 'eigenvector4']\n",
        "eigen.columns =  range(5)\n",
        "eigen.sort_values(by=4, ascending=False, inplace=True)\n",
        "eigen"
      ],
      "execution_count": null,
      "outputs": [
        {
          "output_type": "execute_result",
          "data": {
            "text/html": [
              "<div>\n",
              "<style scoped>\n",
              "    .dataframe tbody tr th:only-of-type {\n",
              "        vertical-align: middle;\n",
              "    }\n",
              "\n",
              "    .dataframe tbody tr th {\n",
              "        vertical-align: top;\n",
              "    }\n",
              "\n",
              "    .dataframe thead th {\n",
              "        text-align: right;\n",
              "    }\n",
              "</style>\n",
              "<table border=\"1\" class=\"dataframe\">\n",
              "  <thead>\n",
              "    <tr style=\"text-align: right;\">\n",
              "      <th></th>\n",
              "      <th>0</th>\n",
              "      <th>1</th>\n",
              "      <th>2</th>\n",
              "      <th>3</th>\n",
              "      <th>4</th>\n",
              "    </tr>\n",
              "  </thead>\n",
              "  <tbody>\n",
              "    <tr>\n",
              "      <th>eigenvector1</th>\n",
              "      <td>0.522372</td>\n",
              "      <td>-0.263355</td>\n",
              "      <td>0.581254</td>\n",
              "      <td>0.565611</td>\n",
              "      <td>2.930354</td>\n",
              "    </tr>\n",
              "    <tr>\n",
              "      <th>eigenvector2</th>\n",
              "      <td>-0.372318</td>\n",
              "      <td>-0.925556</td>\n",
              "      <td>-0.021095</td>\n",
              "      <td>-0.065416</td>\n",
              "      <td>0.927404</td>\n",
              "    </tr>\n",
              "    <tr>\n",
              "      <th>eigenvector3</th>\n",
              "      <td>-0.721017</td>\n",
              "      <td>0.242033</td>\n",
              "      <td>0.140892</td>\n",
              "      <td>0.633801</td>\n",
              "      <td>0.148342</td>\n",
              "    </tr>\n",
              "    <tr>\n",
              "      <th>eigenvector4</th>\n",
              "      <td>0.261996</td>\n",
              "      <td>-0.124135</td>\n",
              "      <td>-0.801154</td>\n",
              "      <td>0.523546</td>\n",
              "      <td>0.020746</td>\n",
              "    </tr>\n",
              "  </tbody>\n",
              "</table>\n",
              "</div>"
            ],
            "text/plain": [
              "                     0         1         2         3         4\n",
              "eigenvector1  0.522372 -0.263355  0.581254  0.565611  2.930354\n",
              "eigenvector2 -0.372318 -0.925556 -0.021095 -0.065416  0.927404\n",
              "eigenvector3 -0.721017  0.242033  0.140892  0.633801  0.148342\n",
              "eigenvector4  0.261996 -0.124135 -0.801154  0.523546  0.020746"
            ]
          },
          "metadata": {
            "tags": []
          },
          "execution_count": 12
        }
      ]
    },
    {
      "cell_type": "markdown",
      "metadata": {
        "id": "uybFUfsWW6Oe",
        "colab_type": "text"
      },
      "source": [
        "## Usando o `scikit-learn`"
      ]
    },
    {
      "cell_type": "code",
      "metadata": {
        "id": "Dosj3Ry_WIxF",
        "colab_type": "code",
        "colab": {}
      },
      "source": [
        "from sklearn.decomposition import PCA\n",
        "\n",
        "pca = PCA(n_components=2)\n",
        "principal_components = pca.fit_transform(X)"
      ],
      "execution_count": null,
      "outputs": []
    },
    {
      "cell_type": "code",
      "metadata": {
        "id": "Jaglwi_YZO92",
        "colab_type": "code",
        "colab": {
          "base_uri": "https://localhost:8080/",
          "height": 419
        },
        "outputId": "6e0b791e-5562-4e87-b6e0-0e1b3fe4a38f"
      },
      "source": [
        "pc_df = pd.DataFrame(principal_components, columns=['pc1', 'pc2'])\n",
        "pc_df"
      ],
      "execution_count": null,
      "outputs": [
        {
          "output_type": "execute_result",
          "data": {
            "text/html": [
              "<div>\n",
              "<style scoped>\n",
              "    .dataframe tbody tr th:only-of-type {\n",
              "        vertical-align: middle;\n",
              "    }\n",
              "\n",
              "    .dataframe tbody tr th {\n",
              "        vertical-align: top;\n",
              "    }\n",
              "\n",
              "    .dataframe thead th {\n",
              "        text-align: right;\n",
              "    }\n",
              "</style>\n",
              "<table border=\"1\" class=\"dataframe\">\n",
              "  <thead>\n",
              "    <tr style=\"text-align: right;\">\n",
              "      <th></th>\n",
              "      <th>pc1</th>\n",
              "      <th>pc2</th>\n",
              "    </tr>\n",
              "  </thead>\n",
              "  <tbody>\n",
              "    <tr>\n",
              "      <th>0</th>\n",
              "      <td>-2.684207</td>\n",
              "      <td>0.326607</td>\n",
              "    </tr>\n",
              "    <tr>\n",
              "      <th>1</th>\n",
              "      <td>-2.715391</td>\n",
              "      <td>-0.169557</td>\n",
              "    </tr>\n",
              "    <tr>\n",
              "      <th>2</th>\n",
              "      <td>-2.889820</td>\n",
              "      <td>-0.137346</td>\n",
              "    </tr>\n",
              "    <tr>\n",
              "      <th>3</th>\n",
              "      <td>-2.746437</td>\n",
              "      <td>-0.311124</td>\n",
              "    </tr>\n",
              "    <tr>\n",
              "      <th>4</th>\n",
              "      <td>-2.728593</td>\n",
              "      <td>0.333925</td>\n",
              "    </tr>\n",
              "    <tr>\n",
              "      <th>...</th>\n",
              "      <td>...</td>\n",
              "      <td>...</td>\n",
              "    </tr>\n",
              "    <tr>\n",
              "      <th>145</th>\n",
              "      <td>1.944017</td>\n",
              "      <td>0.187415</td>\n",
              "    </tr>\n",
              "    <tr>\n",
              "      <th>146</th>\n",
              "      <td>1.525664</td>\n",
              "      <td>-0.375021</td>\n",
              "    </tr>\n",
              "    <tr>\n",
              "      <th>147</th>\n",
              "      <td>1.764046</td>\n",
              "      <td>0.078519</td>\n",
              "    </tr>\n",
              "    <tr>\n",
              "      <th>148</th>\n",
              "      <td>1.901629</td>\n",
              "      <td>0.115877</td>\n",
              "    </tr>\n",
              "    <tr>\n",
              "      <th>149</th>\n",
              "      <td>1.389666</td>\n",
              "      <td>-0.282887</td>\n",
              "    </tr>\n",
              "  </tbody>\n",
              "</table>\n",
              "<p>150 rows × 2 columns</p>\n",
              "</div>"
            ],
            "text/plain": [
              "          pc1       pc2\n",
              "0   -2.684207  0.326607\n",
              "1   -2.715391 -0.169557\n",
              "2   -2.889820 -0.137346\n",
              "3   -2.746437 -0.311124\n",
              "4   -2.728593  0.333925\n",
              "..        ...       ...\n",
              "145  1.944017  0.187415\n",
              "146  1.525664 -0.375021\n",
              "147  1.764046  0.078519\n",
              "148  1.901629  0.115877\n",
              "149  1.389666 -0.282887\n",
              "\n",
              "[150 rows x 2 columns]"
            ]
          },
          "metadata": {
            "tags": []
          },
          "execution_count": 14
        }
      ]
    },
    {
      "cell_type": "code",
      "metadata": {
        "id": "gzsZYy9fZ4bg",
        "colab_type": "code",
        "colab": {
          "base_uri": "https://localhost:8080/",
          "height": 419
        },
        "outputId": "80d9eaef-09b5-4d36-ed20-7fd28406ab0a"
      },
      "source": [
        "df_final = pd.concat([pc_df, df['class']], axis=1)\n",
        "df_final"
      ],
      "execution_count": null,
      "outputs": [
        {
          "output_type": "execute_result",
          "data": {
            "text/html": [
              "<div>\n",
              "<style scoped>\n",
              "    .dataframe tbody tr th:only-of-type {\n",
              "        vertical-align: middle;\n",
              "    }\n",
              "\n",
              "    .dataframe tbody tr th {\n",
              "        vertical-align: top;\n",
              "    }\n",
              "\n",
              "    .dataframe thead th {\n",
              "        text-align: right;\n",
              "    }\n",
              "</style>\n",
              "<table border=\"1\" class=\"dataframe\">\n",
              "  <thead>\n",
              "    <tr style=\"text-align: right;\">\n",
              "      <th></th>\n",
              "      <th>pc1</th>\n",
              "      <th>pc2</th>\n",
              "      <th>class</th>\n",
              "    </tr>\n",
              "  </thead>\n",
              "  <tbody>\n",
              "    <tr>\n",
              "      <th>0</th>\n",
              "      <td>-2.684207</td>\n",
              "      <td>0.326607</td>\n",
              "      <td>Iris-setosa</td>\n",
              "    </tr>\n",
              "    <tr>\n",
              "      <th>1</th>\n",
              "      <td>-2.715391</td>\n",
              "      <td>-0.169557</td>\n",
              "      <td>Iris-setosa</td>\n",
              "    </tr>\n",
              "    <tr>\n",
              "      <th>2</th>\n",
              "      <td>-2.889820</td>\n",
              "      <td>-0.137346</td>\n",
              "      <td>Iris-setosa</td>\n",
              "    </tr>\n",
              "    <tr>\n",
              "      <th>3</th>\n",
              "      <td>-2.746437</td>\n",
              "      <td>-0.311124</td>\n",
              "      <td>Iris-setosa</td>\n",
              "    </tr>\n",
              "    <tr>\n",
              "      <th>4</th>\n",
              "      <td>-2.728593</td>\n",
              "      <td>0.333925</td>\n",
              "      <td>Iris-setosa</td>\n",
              "    </tr>\n",
              "    <tr>\n",
              "      <th>...</th>\n",
              "      <td>...</td>\n",
              "      <td>...</td>\n",
              "      <td>...</td>\n",
              "    </tr>\n",
              "    <tr>\n",
              "      <th>145</th>\n",
              "      <td>1.944017</td>\n",
              "      <td>0.187415</td>\n",
              "      <td>Iris-virginica</td>\n",
              "    </tr>\n",
              "    <tr>\n",
              "      <th>146</th>\n",
              "      <td>1.525664</td>\n",
              "      <td>-0.375021</td>\n",
              "      <td>Iris-virginica</td>\n",
              "    </tr>\n",
              "    <tr>\n",
              "      <th>147</th>\n",
              "      <td>1.764046</td>\n",
              "      <td>0.078519</td>\n",
              "      <td>Iris-virginica</td>\n",
              "    </tr>\n",
              "    <tr>\n",
              "      <th>148</th>\n",
              "      <td>1.901629</td>\n",
              "      <td>0.115877</td>\n",
              "      <td>Iris-virginica</td>\n",
              "    </tr>\n",
              "    <tr>\n",
              "      <th>149</th>\n",
              "      <td>1.389666</td>\n",
              "      <td>-0.282887</td>\n",
              "      <td>Iris-virginica</td>\n",
              "    </tr>\n",
              "  </tbody>\n",
              "</table>\n",
              "<p>150 rows × 3 columns</p>\n",
              "</div>"
            ],
            "text/plain": [
              "          pc1       pc2           class\n",
              "0   -2.684207  0.326607     Iris-setosa\n",
              "1   -2.715391 -0.169557     Iris-setosa\n",
              "2   -2.889820 -0.137346     Iris-setosa\n",
              "3   -2.746437 -0.311124     Iris-setosa\n",
              "4   -2.728593  0.333925     Iris-setosa\n",
              "..        ...       ...             ...\n",
              "145  1.944017  0.187415  Iris-virginica\n",
              "146  1.525664 -0.375021  Iris-virginica\n",
              "147  1.764046  0.078519  Iris-virginica\n",
              "148  1.901629  0.115877  Iris-virginica\n",
              "149  1.389666 -0.282887  Iris-virginica\n",
              "\n",
              "[150 rows x 3 columns]"
            ]
          },
          "metadata": {
            "tags": []
          },
          "execution_count": 15
        }
      ]
    },
    {
      "cell_type": "markdown",
      "metadata": {
        "id": "07WgKllQZ8Fd",
        "colab_type": "text"
      },
      "source": [
        "### Visualização gráfica\n"
      ]
    },
    {
      "cell_type": "code",
      "metadata": {
        "id": "NnLtiDKQbBFO",
        "colab_type": "code",
        "colab": {
          "base_uri": "https://localhost:8080/",
          "height": 517
        },
        "outputId": "f25175f7-5a75-4acd-b456-d59ce19a652d"
      },
      "source": [
        "fig, ax = plt.subplots(figsize = (8,8))\n",
        "\n",
        "classes = ['Iris-setosa', 'Iris-versicolor', 'Iris-virginica']\n",
        "cores = ['r', 'g', 'b']\n",
        "\n",
        "for c, cor in zip(classes, cores):\n",
        "    manter = df_final['class'] == c\n",
        "    ax.scatter(df_final.loc[manter, 'pc1']\n",
        "               , df_final.loc[manter, 'pc2']\n",
        "               , c = cor\n",
        "               , s = 30)\n",
        "\n",
        "ax.set_xlabel('Principal Component 1')\n",
        "ax.set_ylabel('Principal Component 2')\n",
        "ax.set_title('2 Dimensões', fontsize = 18)\n",
        "ax.legend(classes)\n",
        "plt.show()"
      ],
      "execution_count": null,
      "outputs": [
        {
          "output_type": "display_data",
          "data": {
            "image/png": "[encoded data removed]",
            "text/plain": [
              "<Figure size 576x576 with 1 Axes>"
            ]
          },
          "metadata": {
            "tags": [],
            "needs_background": "light"
          }
        }
      ]
    },
    {
      "cell_type": "markdown",
      "metadata": {
        "id": "wQZ_JmL6aqC4",
        "colab_type": "text"
      },
      "source": [
        "**Exemplo com 3 dimensões**\n"
      ]
    },
    {
      "cell_type": "code",
      "metadata": {
        "id": "IxbmfX2qb5VH",
        "colab_type": "code",
        "colab": {
          "base_uri": "https://localhost:8080/",
          "height": 535
        },
        "outputId": "6f1050d6-6485-499d-df01-dd3fe2784d45"
      },
      "source": [
        "# Code source: Gaël Varoquaux\n",
        "# License: BSD 3 clause\n",
        "\n",
        "import numpy as np\n",
        "import matplotlib.pyplot as plt\n",
        "from mpl_toolkits.mplot3d import Axes3D\n",
        "\n",
        "\n",
        "from sklearn import decomposition\n",
        "from sklearn import datasets\n",
        "\n",
        "np.random.seed(5)\n",
        "\n",
        "centers = [[1, 1], [-1, -1], [1, -1]]\n",
        "iris = datasets.load_iris()\n",
        "X = iris.data\n",
        "y = iris.target\n",
        "\n",
        "fig = plt.figure(1, figsize=(8, 7))\n",
        "plt.clf()\n",
        "ax = Axes3D(fig, rect=[0, 0, .95, 1], elev=48, azim=134)\n",
        "\n",
        "plt.cla()\n",
        "pca = decomposition.PCA(n_components=3)\n",
        "pca.fit(X)\n",
        "X = pca.transform(X)\n",
        "\n",
        "for name, label in [('Setosa', 0), ('Versicolour', 1), ('Virginica', 2)]:\n",
        "    ax.text3D(X[y == label, 0].mean(),\n",
        "              X[y == label, 1].mean() + 1.5,\n",
        "              X[y == label, 2].mean(), name,\n",
        "              horizontalalignment='center',\n",
        "              bbox=dict(alpha=.5, edgecolor='w', facecolor='w'))\n",
        "# Reorder the labels to have colors matching the cluster results\n",
        "y = np.choose(y, [1, 2, 0]).astype(np.float)\n",
        "ax.scatter(X[:, 0], X[:, 1], X[:, 2], c=y, cmap=plt.cm.nipy_spectral,\n",
        "           edgecolor='k')\n",
        "\n",
        "ax.w_xaxis.set_ticklabels([])\n",
        "ax.w_yaxis.set_ticklabels([])\n",
        "ax.w_zaxis.set_ticklabels([])\n",
        "\n",
        "plt.show()"
      ],
      "execution_count": null,
      "outputs": [
        {
          "output_type": "display_data",
          "data": {
            "image/png": "[encoded data removed]",
            "text/plain": [
              "<Figure size 576x504 with 1 Axes>"
            ]
          },
          "metadata": {
            "tags": [],
            "needs_background": "light"
          }
        }
      ]
    },
    {
      "cell_type": "code",
      "metadata": {
        "id": "JkAQ45JTb9Bs",
        "colab_type": "code",
        "colab": {}
      },
      "source": [
        ""
      ],
      "execution_count": null,
      "outputs": []
    }
  ]
}