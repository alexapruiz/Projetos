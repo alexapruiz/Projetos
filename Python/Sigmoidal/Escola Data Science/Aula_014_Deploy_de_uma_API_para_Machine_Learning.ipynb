{
  "nbformat": 4,
  "nbformat_minor": 0,
  "metadata": {
    "colab": {
      "name": "Aula 014 - Deploy de uma API para Machine Learning.ipynb",
      "provenance": [],
      "include_colab_link": true
    },
    "kernelspec": {
      "name": "python3",
      "display_name": "Python 3"
    }
  },
  "cells": [
    {
      "cell_type": "markdown",
      "metadata": {
        "id": "view-in-github",
        "colab_type": "text"
      },
      "source": [
        "<a href=\"https://colab.research.google.com/github/alexapruiz/Projetos/blob/master/Aula_014_Deploy_de_uma_API_para_Machine_Learning.ipynb\" target=\"_parent\"><img src=\"https://colab.research.google.com/assets/colab-badge.svg\" alt=\"Open In Colab\"/></a>"
      ]
    },
    {
      "cell_type": "markdown",
      "metadata": {
        "id": "GLxmfuOdAlb-"
      },
      "source": [
        "<p align=\"center\"><img src=\"https://raw.githubusercontent.com/carlosfab/escola-data-science/master/img/eds.png\" height=\"100px\"></p>\n",
        "\n",
        "# Deploy API para Machine Learning\n",
        "\n",
        "\n",
        "\n",
        "### Boston Housing Dataset"
      ]
    },
    {
      "cell_type": "code",
      "metadata": {
        "id": "6EDkERUGBVi_"
      },
      "source": [
        "!pip install tensorflow==2.0.0 -q"
      ],
      "execution_count": null,
      "outputs": []
    },
    {
      "cell_type": "code",
      "metadata": {
        "id": "BLoWux3rB6gX"
      },
      "source": [
        "import pandas as pd\n",
        "import numpy as np\n",
        "import tensorflow as tf\n",
        "from tensorflow import keras\n",
        "from tensorflow.keras.datasets import boston_housing\n",
        "from sklearn.preprocessing import StandardScaler\n",
        "from sklearn.model_selection import train_test_split"
      ],
      "execution_count": null,
      "outputs": []
    },
    {
      "cell_type": "code",
      "metadata": {
        "id": "9AtGsZKtCLsH",
        "colab": {
          "base_uri": "https://localhost:8080/",
          "height": 51
        },
        "outputId": "cb06fb1c-6580-409d-ebb8-55180197f1ee"
      },
      "source": [
        "(train_data, train_targets), (test_data, test_targets) = boston_housing.load_data()"
      ],
      "execution_count": null,
      "outputs": [
        {
          "output_type": "stream",
          "text": [
            "Downloading data from https://storage.googleapis.com/tensorflow/tf-keras-datasets/boston_housing.npz\n",
            "57344/57026 [==============================] - 0s 0us/step\n"
          ],
          "name": "stdout"
        }
      ]
    },
    {
      "cell_type": "code",
      "metadata": {
        "id": "wgY7j9tcCUVH"
      },
      "source": [
        "X_train, X_test, y_train, y_test = train_test_split(\n",
        "    train_data, train_targets)\n",
        "\n",
        "scaler = StandardScaler()\n",
        "X_train = scaler.fit_transform(X_train)\n",
        "X_test = scaler.transform(X_test)"
      ],
      "execution_count": null,
      "outputs": []
    },
    {
      "cell_type": "code",
      "metadata": {
        "id": "D78c_8iLCXeZ",
        "colab": {
          "base_uri": "https://localhost:8080/",
          "height": 255
        },
        "outputId": "9ca3ca90-7758-436d-b7cf-6d9908cabad8"
      },
      "source": [
        "model = keras.models.Sequential()\n",
        "model.add(keras.layers.Dense(64, activation='relu', input_shape=X_train.shape[1:]))\n",
        "model.add(keras.layers.Dense(64, activation='relu'))\n",
        "model.add(keras.layers.Dense(1))\n",
        "\n",
        "model.summary()"
      ],
      "execution_count": null,
      "outputs": [
        {
          "output_type": "stream",
          "text": [
            "Model: \"sequential\"\n",
            "_________________________________________________________________\n",
            "Layer (type)                 Output Shape              Param #   \n",
            "=================================================================\n",
            "dense (Dense)                (None, 64)                896       \n",
            "_________________________________________________________________\n",
            "dense_1 (Dense)              (None, 64)                4160      \n",
            "_________________________________________________________________\n",
            "dense_2 (Dense)              (None, 1)                 65        \n",
            "=================================================================\n",
            "Total params: 5,121\n",
            "Trainable params: 5,121\n",
            "Non-trainable params: 0\n",
            "_________________________________________________________________\n"
          ],
          "name": "stdout"
        }
      ]
    },
    {
      "cell_type": "code",
      "metadata": {
        "id": "XHaezJ2GCY2s",
        "colab": {
          "base_uri": "https://localhost:8080/",
          "height": 1000
        },
        "outputId": "043faa05-b5f5-4d20-9d5e-8836c022f692"
      },
      "source": [
        "model.compile(optimizer='sgd', loss='mean_squared_error', metrics=['mae'])\n",
        "history = model.fit(X_train, y_train, epochs=100)"
      ],
      "execution_count": null,
      "outputs": [
        {
          "output_type": "stream",
          "text": [
            "Train on 303 samples\n",
            "Epoch 1/100\n",
            "303/303 [==============================] - 0s 2ms/sample - loss: 362.6757 - mae: 16.2579\n",
            "Epoch 2/100\n",
            "303/303 [==============================] - 0s 66us/sample - loss: 204.9808 - mae: 11.4519\n",
            "Epoch 3/100\n",
            "303/303 [==============================] - 0s 61us/sample - loss: 75.2409 - mae: 6.2407\n",
            "Epoch 4/100\n",
            "303/303 [==============================] - 0s 61us/sample - loss: 55.1349 - mae: 5.3445\n",
            "Epoch 5/100\n",
            "303/303 [==============================] - 0s 59us/sample - loss: 81.7341 - mae: 6.5138\n",
            "Epoch 6/100\n",
            "303/303 [==============================] - 0s 61us/sample - loss: 34.8936 - mae: 3.8780\n",
            "Epoch 7/100\n",
            "303/303 [==============================] - 0s 63us/sample - loss: 18.3131 - mae: 2.8936\n",
            "Epoch 8/100\n",
            "303/303 [==============================] - 0s 69us/sample - loss: 23.2187 - mae: 3.3605\n",
            "Epoch 9/100\n",
            "303/303 [==============================] - 0s 63us/sample - loss: 19.5045 - mae: 2.9767\n",
            "Epoch 10/100\n",
            "303/303 [==============================] - 0s 59us/sample - loss: 12.1352 - mae: 2.4799\n",
            "Epoch 11/100\n",
            "303/303 [==============================] - 0s 64us/sample - loss: 11.9442 - mae: 2.3882\n",
            "Epoch 12/100\n",
            "303/303 [==============================] - 0s 78us/sample - loss: 26.9920 - mae: 3.4437\n",
            "Epoch 13/100\n",
            "303/303 [==============================] - 0s 64us/sample - loss: 17.0656 - mae: 2.8580\n",
            "Epoch 14/100\n",
            "303/303 [==============================] - 0s 62us/sample - loss: 13.1850 - mae: 2.5194\n",
            "Epoch 15/100\n",
            "303/303 [==============================] - 0s 69us/sample - loss: 17.6274 - mae: 2.9735\n",
            "Epoch 16/100\n",
            "303/303 [==============================] - 0s 61us/sample - loss: 10.3784 - mae: 2.2094\n",
            "Epoch 17/100\n",
            "303/303 [==============================] - 0s 72us/sample - loss: 12.9236 - mae: 2.5046\n",
            "Epoch 18/100\n",
            "303/303 [==============================] - 0s 64us/sample - loss: 9.4145 - mae: 2.1183\n",
            "Epoch 19/100\n",
            "303/303 [==============================] - 0s 68us/sample - loss: 13.8535 - mae: 2.6147\n",
            "Epoch 20/100\n",
            "303/303 [==============================] - 0s 63us/sample - loss: 10.0221 - mae: 2.2327\n",
            "Epoch 21/100\n",
            "303/303 [==============================] - 0s 63us/sample - loss: 6.4222 - mae: 1.7668\n",
            "Epoch 22/100\n",
            "303/303 [==============================] - 0s 65us/sample - loss: 16.4488 - mae: 2.6637\n",
            "Epoch 23/100\n",
            "303/303 [==============================] - 0s 64us/sample - loss: 7.5856 - mae: 1.9251\n",
            "Epoch 24/100\n",
            "303/303 [==============================] - 0s 67us/sample - loss: 11.8738 - mae: 2.3512\n",
            "Epoch 25/100\n",
            "303/303 [==============================] - 0s 59us/sample - loss: 6.3230 - mae: 1.8255\n",
            "Epoch 26/100\n",
            "303/303 [==============================] - 0s 60us/sample - loss: 6.3873 - mae: 1.7797\n",
            "Epoch 27/100\n",
            "303/303 [==============================] - 0s 59us/sample - loss: 6.3919 - mae: 1.7277\n",
            "Epoch 28/100\n",
            "303/303 [==============================] - 0s 69us/sample - loss: 5.3925 - mae: 1.6787\n",
            "Epoch 29/100\n",
            "303/303 [==============================] - 0s 65us/sample - loss: 4.7594 - mae: 1.5157\n",
            "Epoch 30/100\n",
            "303/303 [==============================] - 0s 63us/sample - loss: 4.9337 - mae: 1.6051\n",
            "Epoch 31/100\n",
            "303/303 [==============================] - 0s 64us/sample - loss: 7.0061 - mae: 1.9046\n",
            "Epoch 32/100\n",
            "303/303 [==============================] - 0s 78us/sample - loss: 10.5889 - mae: 2.2972\n",
            "Epoch 33/100\n",
            "303/303 [==============================] - 0s 70us/sample - loss: 5.6380 - mae: 1.6313\n",
            "Epoch 34/100\n",
            "303/303 [==============================] - 0s 64us/sample - loss: 8.0364 - mae: 1.9769\n",
            "Epoch 35/100\n",
            "303/303 [==============================] - 0s 66us/sample - loss: 8.4425 - mae: 1.8969\n",
            "Epoch 36/100\n",
            "303/303 [==============================] - 0s 61us/sample - loss: 6.1199 - mae: 1.7179\n",
            "Epoch 37/100\n",
            "303/303 [==============================] - 0s 60us/sample - loss: 14.4320 - mae: 2.3799\n",
            "Epoch 38/100\n",
            "303/303 [==============================] - 0s 59us/sample - loss: 5.0284 - mae: 1.5527\n",
            "Epoch 39/100\n",
            "303/303 [==============================] - 0s 61us/sample - loss: 6.9358 - mae: 1.8763\n",
            "Epoch 40/100\n",
            "303/303 [==============================] - 0s 63us/sample - loss: 10.7231 - mae: 2.1884\n",
            "Epoch 41/100\n",
            "303/303 [==============================] - 0s 66us/sample - loss: 4.3817 - mae: 1.4793\n",
            "Epoch 42/100\n",
            "303/303 [==============================] - 0s 59us/sample - loss: 4.7214 - mae: 1.5758\n",
            "Epoch 43/100\n",
            "303/303 [==============================] - 0s 67us/sample - loss: 3.9905 - mae: 1.4867\n",
            "Epoch 44/100\n",
            "303/303 [==============================] - 0s 69us/sample - loss: 5.7848 - mae: 1.7937\n",
            "Epoch 45/100\n",
            "303/303 [==============================] - 0s 67us/sample - loss: 4.6160 - mae: 1.5409\n",
            "Epoch 46/100\n",
            "303/303 [==============================] - 0s 65us/sample - loss: 5.6143 - mae: 1.7828\n",
            "Epoch 47/100\n",
            "303/303 [==============================] - 0s 69us/sample - loss: 3.7744 - mae: 1.4162\n",
            "Epoch 48/100\n",
            "303/303 [==============================] - 0s 63us/sample - loss: 9.7379 - mae: 2.1092\n",
            "Epoch 49/100\n",
            "303/303 [==============================] - 0s 65us/sample - loss: 11.6051 - mae: 2.1936\n",
            "Epoch 50/100\n",
            "303/303 [==============================] - 0s 61us/sample - loss: 6.9247 - mae: 1.8973\n",
            "Epoch 51/100\n",
            "303/303 [==============================] - 0s 62us/sample - loss: 5.6159 - mae: 1.6746\n",
            "Epoch 52/100\n",
            "303/303 [==============================] - 0s 60us/sample - loss: 4.2283 - mae: 1.4879\n",
            "Epoch 53/100\n",
            "303/303 [==============================] - 0s 67us/sample - loss: 3.8023 - mae: 1.3775\n",
            "Epoch 54/100\n",
            "303/303 [==============================] - 0s 61us/sample - loss: 2.9598 - mae: 1.2486\n",
            "Epoch 55/100\n",
            "303/303 [==============================] - 0s 73us/sample - loss: 4.0346 - mae: 1.4129\n",
            "Epoch 56/100\n",
            "303/303 [==============================] - 0s 72us/sample - loss: 4.3598 - mae: 1.5214\n",
            "Epoch 57/100\n",
            "303/303 [==============================] - 0s 64us/sample - loss: 3.4235 - mae: 1.2999\n",
            "Epoch 58/100\n",
            "303/303 [==============================] - 0s 66us/sample - loss: 4.2352 - mae: 1.4559\n",
            "Epoch 59/100\n",
            "303/303 [==============================] - 0s 62us/sample - loss: 4.1938 - mae: 1.5204\n",
            "Epoch 60/100\n",
            "303/303 [==============================] - 0s 61us/sample - loss: 9.6507 - mae: 2.0953\n",
            "Epoch 61/100\n",
            "303/303 [==============================] - 0s 60us/sample - loss: 3.7541 - mae: 1.3871\n",
            "Epoch 62/100\n",
            "303/303 [==============================] - 0s 59us/sample - loss: 3.0540 - mae: 1.2576\n",
            "Epoch 63/100\n",
            "303/303 [==============================] - 0s 59us/sample - loss: 3.1834 - mae: 1.2925\n",
            "Epoch 64/100\n",
            "303/303 [==============================] - 0s 69us/sample - loss: 3.1712 - mae: 1.2650\n",
            "Epoch 65/100\n",
            "303/303 [==============================] - 0s 63us/sample - loss: 3.3362 - mae: 1.3830\n",
            "Epoch 66/100\n",
            "303/303 [==============================] - 0s 64us/sample - loss: 4.0014 - mae: 1.4495\n",
            "Epoch 67/100\n",
            "303/303 [==============================] - 0s 78us/sample - loss: 3.7473 - mae: 1.3708\n",
            "Epoch 68/100\n",
            "303/303 [==============================] - 0s 83us/sample - loss: 7.0891 - mae: 1.9083\n",
            "Epoch 69/100\n",
            "303/303 [==============================] - 0s 74us/sample - loss: 2.9414 - mae: 1.2693\n",
            "Epoch 70/100\n",
            "303/303 [==============================] - 0s 61us/sample - loss: 5.4171 - mae: 1.6683\n",
            "Epoch 71/100\n",
            "303/303 [==============================] - 0s 62us/sample - loss: 2.7074 - mae: 1.1979\n",
            "Epoch 72/100\n",
            "303/303 [==============================] - 0s 60us/sample - loss: 6.2515 - mae: 1.7925\n",
            "Epoch 73/100\n",
            "303/303 [==============================] - 0s 62us/sample - loss: 4.3268 - mae: 1.5366\n",
            "Epoch 74/100\n",
            "303/303 [==============================] - 0s 57us/sample - loss: 3.2578 - mae: 1.3313\n",
            "Epoch 75/100\n",
            "303/303 [==============================] - 0s 56us/sample - loss: 2.9341 - mae: 1.2016\n",
            "Epoch 76/100\n",
            "303/303 [==============================] - 0s 61us/sample - loss: 2.8212 - mae: 1.2110\n",
            "Epoch 77/100\n",
            "303/303 [==============================] - 0s 63us/sample - loss: 2.8923 - mae: 1.2191\n",
            "Epoch 78/100\n",
            "303/303 [==============================] - 0s 68us/sample - loss: 3.7398 - mae: 1.3312\n",
            "Epoch 79/100\n",
            "303/303 [==============================] - 0s 73us/sample - loss: 3.7134 - mae: 1.3897\n",
            "Epoch 80/100\n",
            "303/303 [==============================] - 0s 69us/sample - loss: 2.5048 - mae: 1.1463\n",
            "Epoch 81/100\n",
            "303/303 [==============================] - 0s 71us/sample - loss: 3.0151 - mae: 1.2392\n",
            "Epoch 82/100\n",
            "303/303 [==============================] - 0s 78us/sample - loss: 4.1784 - mae: 1.4500\n",
            "Epoch 83/100\n",
            "303/303 [==============================] - 0s 66us/sample - loss: 2.8798 - mae: 1.2217\n",
            "Epoch 84/100\n",
            "303/303 [==============================] - 0s 61us/sample - loss: 3.3545 - mae: 1.3091\n",
            "Epoch 85/100\n",
            "303/303 [==============================] - 0s 63us/sample - loss: 2.4288 - mae: 1.1163\n",
            "Epoch 86/100\n",
            "303/303 [==============================] - 0s 60us/sample - loss: 2.3497 - mae: 1.1655\n",
            "Epoch 87/100\n",
            "303/303 [==============================] - 0s 59us/sample - loss: 2.8495 - mae: 1.2387\n",
            "Epoch 88/100\n",
            "303/303 [==============================] - 0s 61us/sample - loss: 2.3600 - mae: 1.1035\n",
            "Epoch 89/100\n",
            "303/303 [==============================] - 0s 63us/sample - loss: 2.1880 - mae: 1.0702\n",
            "Epoch 90/100\n",
            "303/303 [==============================] - 0s 62us/sample - loss: 4.6501 - mae: 1.5362\n",
            "Epoch 91/100\n",
            "303/303 [==============================] - 0s 59us/sample - loss: 2.4798 - mae: 1.1721\n",
            "Epoch 92/100\n",
            "303/303 [==============================] - 0s 68us/sample - loss: 2.5912 - mae: 1.1784\n",
            "Epoch 93/100\n",
            "303/303 [==============================] - 0s 64us/sample - loss: 2.5478 - mae: 1.1401\n",
            "Epoch 94/100\n",
            "303/303 [==============================] - 0s 59us/sample - loss: 3.3525 - mae: 1.2424\n",
            "Epoch 95/100\n",
            "303/303 [==============================] - 0s 58us/sample - loss: 2.5203 - mae: 1.1017\n",
            "Epoch 96/100\n",
            "303/303 [==============================] - 0s 55us/sample - loss: 3.3340 - mae: 1.3828\n",
            "Epoch 97/100\n",
            "303/303 [==============================] - 0s 57us/sample - loss: 3.5357 - mae: 1.4146\n",
            "Epoch 98/100\n",
            "303/303 [==============================] - 0s 60us/sample - loss: 2.3127 - mae: 1.0865\n",
            "Epoch 99/100\n",
            "303/303 [==============================] - 0s 58us/sample - loss: 3.3058 - mae: 1.3003\n",
            "Epoch 100/100\n",
            "303/303 [==============================] - 0s 59us/sample - loss: 2.1791 - mae: 1.0722\n"
          ],
          "name": "stdout"
        }
      ]
    },
    {
      "cell_type": "code",
      "metadata": {
        "id": "WSri3ZCNCat1",
        "colab": {
          "base_uri": "https://localhost:8080/",
          "height": 282
        },
        "outputId": "681542b6-4eea-4531-8783-ad7ad9e1d364"
      },
      "source": [
        "pd.DataFrame(history.history).plot()"
      ],
      "execution_count": null,
      "outputs": [
        {
          "output_type": "execute_result",
          "data": {
            "text/plain": [
              "<matplotlib.axes._subplots.AxesSubplot at 0x7fabb7151e80>"
            ]
          },
          "metadata": {
            "tags": []
          },
          "execution_count": 11
        },
        {
          "output_type": "display_data",
          "data": {
            "image/png": "[encoded data removed]",
            "text/plain": [
              "<Figure size 432x288 with 1 Axes>"
            ]
          },
          "metadata": {
            "tags": [],
            "needs_background": "light"
          }
        }
      ]
    },
    {
      "cell_type": "code",
      "metadata": {
        "id": "1XIvDmmWCipI",
        "colab": {
          "base_uri": "https://localhost:8080/",
          "height": 54
        },
        "outputId": "caa74529-2182-41b5-a79f-b8f70d4bd06e"
      },
      "source": [
        "mae_test = model.evaluate(X_test, y_test)"
      ],
      "execution_count": null,
      "outputs": [
        {
          "output_type": "stream",
          "text": [
            "\r101/1 [======================================================================================================================================================================================================================================================================================================================================================================================================================================================================================================================================================================================================================================================================================================================================================================================================================================================================================================================================================================================================================================================================================================================================================================================================================================================================================================================================================================================================================================================================================================================================================================================================================================================================================================================================================================================================================================================================================================================================================================================================================================================================================================================================================================================================================================================================================================================================================================================================================================================================================================================================================================================================================================================================================================================================================================================================================================================================================================================================================================================================================================================================================================================================================] - 0s 725us/sample - loss: 10.1637 - mae: 2.9404\n"
          ],
          "name": "stdout"
        }
      ]
    },
    {
      "cell_type": "code",
      "metadata": {
        "id": "eYxN7oZyCrT7"
      },
      "source": [
        "model.save('boston_housing_model.h5')"
      ],
      "execution_count": null,
      "outputs": []
    },
    {
      "cell_type": "code",
      "metadata": {
        "id": "oVScruPvC8iq"
      },
      "source": [
        "columns = [\"crim\", \"zn\", \"indus\", \"chas\", \"nox\", \"rm\",\n",
        "           \"age\", \"dis\", \"rad\", \"tax\", \"ptratio\", \"b\",\n",
        "           \"lstat\", \"medv\"]"
      ],
      "execution_count": null,
      "outputs": []
    },
    {
      "cell_type": "code",
      "metadata": {
        "id": "Yotlh-52Hvce"
      },
      "source": [
        "values = [0.42846914, -0.43794015, 1.00374252,-0.25865307,0.81616309,\n",
        "          -0.0362377, -0.13055102, -0.38236272, 1.64473362,1.54819626,\n",
        "          0.75572396, 0.44036105, 0.07417893]"
      ],
      "execution_count": null,
      "outputs": []
    },
    {
      "cell_type": "code",
      "metadata": {
        "id": "mA9OzG9RIr6v"
      },
      "source": [
        "import json\n",
        "values_json = {\"valores\": dict(zip(columns, values))}"
      ],
      "execution_count": null,
      "outputs": []
    },
    {
      "cell_type": "code",
      "metadata": {
        "id": "jx1Iy2XUIzil"
      },
      "source": [
        "with open('valores.json', 'w') as json_file:\n",
        "    json.dump(values_json, json_file)"
      ],
      "execution_count": null,
      "outputs": []
    },
    {
      "cell_type": "code",
      "metadata": {
        "id": "M9RG-Bp-HwuK",
        "colab": {
          "base_uri": "https://localhost:8080/",
          "height": 238
        },
        "outputId": "17ce6091-2588-406b-f3bc-3be94e4e7672"
      },
      "source": [
        "dict(zip(columns, values))"
      ],
      "execution_count": null,
      "outputs": [
        {
          "output_type": "execute_result",
          "data": {
            "text/plain": [
              "{'age': -0.13055102,\n",
              " 'b': 0.44036105,\n",
              " 'chas': -0.25865307,\n",
              " 'crim': 0.42846914,\n",
              " 'dis': -0.38236272,\n",
              " 'indus': 1.00374252,\n",
              " 'lstat': 0.07417893,\n",
              " 'nox': 0.81616309,\n",
              " 'ptratio': 0.75572396,\n",
              " 'rad': 1.64473362,\n",
              " 'rm': -0.0362377,\n",
              " 'tax': 1.54819626,\n",
              " 'zn': -0.43794015}"
            ]
          },
          "metadata": {
            "tags": []
          },
          "execution_count": 20
        }
      ]
    },
    {
      "cell_type": "code",
      "metadata": {
        "id": "nXcA38hvIBkk"
      },
      "source": [
        "lista = list(zip(columns, values))"
      ],
      "execution_count": null,
      "outputs": []
    },
    {
      "cell_type": "code",
      "metadata": {
        "id": "-W-p4SnTIii_"
      },
      "source": [
        "X_predict = np.asarray(list(values_json['valores'].values()))"
      ],
      "execution_count": null,
      "outputs": []
    },
    {
      "cell_type": "code",
      "metadata": {
        "id": "_MR5pdAYJXyh",
        "colab": {
          "base_uri": "https://localhost:8080/",
          "height": 238
        },
        "outputId": "5456d345-e578-44bf-a204-a3066b96c965"
      },
      "source": [
        "values_json"
      ],
      "execution_count": null,
      "outputs": [
        {
          "output_type": "execute_result",
          "data": {
            "text/plain": [
              "{'valores': {'age': -0.13055102,\n",
              "  'b': 0.44036105,\n",
              "  'chas': -0.25865307,\n",
              "  'crim': 0.42846914,\n",
              "  'dis': -0.38236272,\n",
              "  'indus': 1.00374252,\n",
              "  'lstat': 0.07417893,\n",
              "  'nox': 0.81616309,\n",
              "  'ptratio': 0.75572396,\n",
              "  'rad': 1.64473362,\n",
              "  'rm': -0.0362377,\n",
              "  'tax': 1.54819626,\n",
              "  'zn': -0.43794015}}"
            ]
          },
          "metadata": {
            "tags": []
          },
          "execution_count": 31
        }
      ]
    },
    {
      "cell_type": "code",
      "metadata": {
        "id": "YmwJNzDoJVQ2",
        "colab": {
          "base_uri": "https://localhost:8080/",
          "height": 68
        },
        "outputId": "d7c06763-94a5-474c-818d-3188af71fba1"
      },
      "source": [
        "X_predict"
      ],
      "execution_count": null,
      "outputs": [
        {
          "output_type": "execute_result",
          "data": {
            "text/plain": [
              "array([ 0.42846914, -0.43794015,  1.00374252, -0.25865307,  0.81616309,\n",
              "       -0.0362377 , -0.13055102, -0.38236272,  1.64473362,  1.54819626,\n",
              "        0.75572396,  0.44036105,  0.07417893])"
            ]
          },
          "metadata": {
            "tags": []
          },
          "execution_count": 30
        }
      ]
    },
    {
      "cell_type": "code",
      "metadata": {
        "id": "2RI7QL1hIK-F",
        "colab": {
          "base_uri": "https://localhost:8080/",
          "height": 34
        },
        "outputId": "775b4cc0-0201-45f1-a64b-77d2b1cbbbe4"
      },
      "source": [
        "float(model.predict(X_predict.reshape(1,-1))[0])"
      ],
      "execution_count": null,
      "outputs": [
        {
          "output_type": "execute_result",
          "data": {
            "text/plain": [
              "22.953990936279297"
            ]
          },
          "metadata": {
            "tags": []
          },
          "execution_count": 39
        }
      ]
    },
    {
      "cell_type": "code",
      "metadata": {
        "id": "YKSeVhZjIPD9"
      },
      "source": [
        ""
      ],
      "execution_count": null,
      "outputs": []
    }
  ]
}