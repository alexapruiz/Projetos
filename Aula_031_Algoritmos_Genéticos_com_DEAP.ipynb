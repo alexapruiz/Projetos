{
  "nbformat": 4,
  "nbformat_minor": 0,
  "metadata": {
    "colab": {
      "name": "Aula 031 - Algoritmos Genéticos com DEAP.ipynb",
      "provenance": [],
      "collapsed_sections": [],
      "include_colab_link": true
    },
    "kernelspec": {
      "name": "python3",
      "display_name": "Python 3"
    }
  },
  "cells": [
    {
      "cell_type": "markdown",
      "metadata": {
        "id": "view-in-github",
        "colab_type": "text"
      },
      "source": [
        "<a href=\"https://colab.research.google.com/github/alexapruiz/Projetos/blob/master/Aula_031_Algoritmos_Gen%C3%A9ticos_com_DEAP.ipynb\" target=\"_parent\"><img src=\"https://colab.research.google.com/assets/colab-badge.svg\" alt=\"Open In Colab\"/></a>"
      ]
    },
    {
      "cell_type": "markdown",
      "metadata": {
        "id": "AMM6uv0Lx8xC"
      },
      "source": [
        "<p align=\"center\"><img src=\"https://raw.githubusercontent.com/carlosfab/escola-data-science/master/img/eds.png\" height=\"100px\"></p>\n",
        "\n",
        "# Aula 031 - Resolvendo um problema de otimização com Algoritmos Genéticos\n",
        "\n",
        "---\n",
        "**Otimização** pode ser entendido como **a busca da melhor solução para um certo problema**. De acordo com Lacerda (1999), as técnicas de busca e otimização, normalmente, apresentam estas duas características:\n",
        "\n",
        "* Um espaço de busca - que é onde se encontram todas as possíveis soluções; e\n",
        "* Uma função objetivo - que é como nós avaliamos a qualidade da solução encontrada. Por vezes, na literatura sobre GA, também é conhecida como *fitness*.\n",
        "\n",
        "<p align=\"center\"><img src=\"https://deap.readthedocs.io/en/master/_images/deap_long.png\" width=\"60%\"></p>\n",
        "\n",
        "Para demonstrar o funcionamento de um GA básico, vamos considerar o seguinte problema:\n",
        "\n",
        "$$\\text{Maximizar: } f(x) = x\\text{sen}(10 \\pi x) + 1$$\n",
        "$$\\text{Sujeito a: } -1 \\leq x \\leq 2 $$\n",
        "\n",
        "Embora seja uma função que contém apenas uma variável, e seja aparentemente simples, ela é ótima para entender o conceito que torna os GA tão poderosos para problemas de otimização.\n",
        "\n",
        "Bem, vamos plotar a função para ver o aspecto da mesma."
      ]
    },
    {
      "cell_type": "code",
      "metadata": {
        "id": "HOyNreUMB6ko",
        "colab": {
          "base_uri": "https://localhost:8080/",
          "height": 284
        },
        "outputId": "c0bac9bd-70b0-4db8-9b5b-0d955ba9672f"
      },
      "source": [
        "# Apenas importando algumas bibliotecas úteis\n",
        "import numpy as np\n",
        "import matplotlib.pyplot as plt\n",
        "import seaborn\n",
        "import random\n",
        "import matplotlib.pyplot as plt\n",
        "\n",
        "%matplotlib inline\n",
        "plt.style.use('ggplot')\n",
        "\n",
        "x = np.arange(-1, 2, 0.001)    # gerando valores dentro do intervalo do problema\n",
        "y = x * np.sin(10 * np.pi * x)          # representação da função objetivo f(x) = x*sen(4*x)\n",
        "\n",
        "# Plotar o gráfico da função objetivo\n",
        "def plotar_funcao_objetivo():\n",
        "    \"\"\"Plota o gráfico da função objetivo.\"\"\"\n",
        "    plt.plot(x, y, linewidth=1)\n",
        "    plt.xlabel('x', fontweight=\"bold\")\n",
        "    plt.ylabel('f(x)', fontweight=\"bold\")\n",
        "    return None\n",
        "\n",
        "plotar_funcao_objetivo()\n",
        "plt.show()"
      ],
      "execution_count": null,
      "outputs": [
        {
          "output_type": "display_data",
          "data": {
            "image/png": "[encoded data removed]",
            "text/plain": [
              "<Figure size 432x288 with 1 Axes>"
            ]
          },
          "metadata": {
            "tags": []
          }
        }
      ]
    },
    {
      "cell_type": "markdown",
      "metadata": {
        "id": "-mhEGLnoCHzA"
      },
      "source": [
        "Apesar da função ser aparentemente simples, trazem uma característica que é extremamente prejudicial à resolução por métodos de otimização tradicionais. Como estes são dependentes do ponto de inicialização do problema, estão sujeitos a cairem dentro de ótimos locais."
      ]
    },
    {
      "cell_type": "markdown",
      "metadata": {
        "id": "cWECAa6wCKya"
      },
      "source": [
        "Na terminologia própria dos GA, um indivíduo ou cromossomo representa uma solução para o problema. Um cromossomo é uma estrutura de dados (geralmente **vetor** ou **cadeia de bits**) que representa uma possível solução para o problema.\n",
        "\n",
        "Cada cromossomo possui genes, que são os elementos do vetor. Assim como na biologia, os genes são as unidades básicas de hereditariedade na qual passamos as características de um indivíduo para outro.\n",
        "\n",
        "## O Algoritmo Genético Simples (SGA)\n",
        "\n",
        "O SGA é a proposta original dos GA, e será utilizado para buscar a melhor solução (maior valor para $f(x)$) do nosso problema. O fluxograma de um SGA segue como na figura abaixo **(Fonte: SOUZA, 2017)**.\n",
        "\n",
        "<center><img src=\"https://raw.githubusercontent.com/carlosfab/escola-data-science/master/img/fluxograma.png\"></center>\n",
        "\n",
        "Seguem alguns conceitos importantes para trabalharmos no nosso SGA:\n",
        "\n",
        "**SGA - Representação:** Codificação binária. Ou seja, uma string de bits codifica as variáveis e representa um indivíduo - que é uma solução candidata.\n",
        "\n",
        "**Precisão Numérica:** Quanto mais genes nosso cromossomo tiver, maior será a sua precisão.\n",
        "Para o nosso exemplo, vou utilizar uma cadeia de 16 bits.\n",
        "\n",
        "Para gerar um indivíduo, em codificação binária, basta que geremos uma *string* do tamanho da precisão escolhida. Para isso, vou criar uma função específica e gerar um cromossomo de exemplo:"
      ]
    },
    {
      "cell_type": "code",
      "metadata": {
        "id": "93Ws2qRlx84k",
        "colab": {
          "base_uri": "https://localhost:8080/",
          "height": 35
        },
        "outputId": "018f3e31-dff8-415c-994c-0c7d5f6dfa45"
      },
      "source": [
        "np.random.seed(11)\n",
        "\n",
        "def gerar_individuo():\n",
        "    \"\"\"Função para gerar um indivíduo de 16 bits.\"\"\"\n",
        "    ind = np.random.randint(0, 2, 16, dtype=int)\n",
        "    return ind\n",
        "\n",
        "individuo = gerar_individuo()\n",
        "print(individuo)"
      ],
      "execution_count": null,
      "outputs": [
        {
          "output_type": "stream",
          "text": [
            "[1 1 0 1 1 1 1 0 1 1 0 0 1 0 0 1]\n"
          ],
          "name": "stdout"
        }
      ]
    },
    {
      "cell_type": "markdown",
      "metadata": {
        "id": "gMKTN_yJEj7L"
      },
      "source": [
        "Foi gerado o cromossomo **c1 = 1101111011001001**, que contém 16 genes. Entretanto, o cromossomo está codificado, e não parece tão útil. \n",
        "\n",
        "Para sermos capazes de avaliar o mesmo (solução boa/solução ruim) em relação à função objetivo, é necessário:\n",
        "* **converter de binário para decimal**; e \n",
        "* **mapear o cromossomo para o intervalo do problema** [-1, 2].\n"
      ]
    },
    {
      "cell_type": "code",
      "metadata": {
        "id": "l-5kNMp1yl2s",
        "colab": {
          "base_uri": "https://localhost:8080/",
          "height": 35
        },
        "outputId": "cc96b176-a610-401b-940d-581ee6edbe1a"
      },
      "source": [
        "# binario para decimal\n",
        "int('0b1101111011001001'[2:], 2)"
      ],
      "execution_count": null,
      "outputs": [
        {
          "output_type": "execute_result",
          "data": {
            "text/plain": [
              "57033"
            ]
          },
          "metadata": {
            "tags": []
          },
          "execution_count": 3
        }
      ]
    },
    {
      "cell_type": "code",
      "metadata": {
        "id": "zHV66QhKz9Ve",
        "colab": {
          "base_uri": "https://localhost:8080/",
          "height": 35
        },
        "outputId": "1ca6e391-fd0d-4873-c29d-55a625bf583c"
      },
      "source": [
        "# decimal para binario\n",
        "bin(57033)"
      ],
      "execution_count": null,
      "outputs": [
        {
          "output_type": "execute_result",
          "data": {
            "application/vnd.google.colaboratory.intrinsic+json": {
              "type": "string"
            },
            "text/plain": [
              "'0b1101111011001001'"
            ]
          },
          "metadata": {
            "tags": []
          },
          "execution_count": 4
        }
      ]
    },
    {
      "cell_type": "markdown",
      "metadata": {
        "id": "HqyddgViHrLq"
      },
      "source": [
        "Temos agora que o nosso cromossomo *1101111011001001* é equivalente ao valor *57033*. \n",
        "\n",
        "Ou seja, $ x = 57033$.\n",
        "\n",
        "## Mapear o Cromossomo para o intervalo do problema\n",
        "\n",
        "\n",
        "Mas, lembrando a restrição do nosso modelo, $x$ deve pertencer ao intervalo $ [-1, 2]$. Agora é a hora de mapear o cromossomo para o intervalo do problema seguindo a seguinte fórmula:\n",
        "\n",
        "$$\n",
        "x = \\text{min} + (\\text{max} - \\text{min}) \\frac{b_{10}}{2^l - 1}\n",
        "$$\n",
        "\n",
        "\n",
        "onde $min$ e $max$ representam os limites dos valores que a variável pode assumir, e $c_{10}$ é a representação decimal do cromossomo. Para facilitar, vou criar uma função que mapeia um dado cromossomo para o intervalo do problema."
      ]
    },
    {
      "cell_type": "code",
      "metadata": {
        "id": "KJFdsiMKIX5w"
      },
      "source": [
        "def mapear_intervalo(genes):\n",
        "    \"\"\"Mapeia uma string de 16 bits para o intervalo do problema.\n",
        "\n",
        "    O intervalo considerado para este problema é\n",
        "    -1,0 <= x <= 2,0\n",
        "    \n",
        "    Parameters\n",
        "    ----------\n",
        "    genes : string\n",
        "        String de 16 bits com os valores dos genes.\n",
        "        \n",
        "    Returns\n",
        "    -------\n",
        "    out : float\n",
        "        Valor mapeado dentro do intervalo do problema.\n",
        "    \"\"\"\n",
        "\n",
        "    genes_b2 = ''.join(str(g) for g in genes)\n",
        "    genes_b10 = int(genes_b2, 2)\n",
        "    genes_map = -1 + (2 - (-1)) * (genes_b10) / (2 ** 16 - 1)\n",
        "\n",
        "    return genes_map"
      ],
      "execution_count": null,
      "outputs": []
    },
    {
      "cell_type": "markdown",
      "metadata": {
        "id": "Nut_OA1TJj8s"
      },
      "source": [
        "Para não nos perdermos, vamos dar uma olhada nas diferentes representações que estamos trabalhando junto ao cromossomo."
      ]
    },
    {
      "cell_type": "code",
      "metadata": {
        "id": "WlgueYEJGfI3",
        "colab": {
          "base_uri": "https://localhost:8080/",
          "height": 71
        },
        "outputId": "31f43306-3184-482d-872e-0067a33ba414"
      },
      "source": [
        "# ver o cromossomo \n",
        "individuo_str = \"\".join(str(c) for c in individuo)\n",
        "print(\"Valor Binário:\\t\\t{}\".format(individuo_str))\n",
        "\n",
        "# ver o valor decimal\n",
        "valor_decimal = int(individuo_str, 2)\n",
        "print(\"Valor Decimal (x):\\t{}\".format(valor_decimal))\n",
        "\n",
        "# ver o valor mapeado entre  -1 <= x <= 2 (para 16 genes)\n",
        "valor_mapeado = mapear_intervalo(individuo)\n",
        "print(\"Valor Mapeado (xi):\\t{}\".format(valor_mapeado))"
      ],
      "execution_count": null,
      "outputs": [
        {
          "output_type": "stream",
          "text": [
            "Valor Binário:\t\t1101111011001001\n",
            "Valor Decimal (x):\t57033\n",
            "Valor Mapeado (xi):\t1.6108033875028611\n"
          ],
          "name": "stdout"
        }
      ]
    },
    {
      "cell_type": "markdown",
      "metadata": {
        "id": "-GX-5Rz21yZm"
      },
      "source": [
        "Em suma, um cromossomo $b_{10} = (1101111011001001)_2 = 57033$, precisa ser mapeado para a região do espaço de busca do problema que estamos querendo otimizar. No exemplo que vamos resolver, esse intervalo é $[-1, 2]$. \n",
        "\n",
        "Jogando na fórmula de mapeamento que mostrei acima, 57033 será representado pelo valor 1.6108033875028611"
      ]
    },
    {
      "cell_type": "markdown",
      "metadata": {
        "id": "AqPuSF-lKC7x"
      },
      "source": [
        "## Calculando o *fitness* (aptidão)\n",
        "\n",
        "Para calcular o valor da aptidão (*fitness*) do cromossomo, basta jogar este valor de $x$ na função objetivo e ver quanto fica."
      ]
    },
    {
      "cell_type": "code",
      "metadata": {
        "id": "igLwPfjlKfbJ"
      },
      "source": [
        "def calcular_fitness(cromossomo):\n",
        "    \"\"\"Dado um cromossomo, retorna o valor da\n",
        "    função objetivo para o mesmo.\n",
        "    \n",
        "    Parameters\n",
        "    ----------\n",
        "    cromossomo : array\n",
        "        Array contendo o valor dos genes para um dado cromossomo.\n",
        "        \n",
        "    Returns\n",
        "    -------\n",
        "    out : float\n",
        "        Valor da função objetivo para o cromossomo.    \n",
        "    \"\"\"\n",
        "\n",
        "    valor_mapeado = mapear_intervalo(cromossomo)\n",
        "    fitness = valor_mapeado * np.sin(10 * np.pi * valor_mapeado) + 1\n",
        "    \n",
        "    return fitness"
      ],
      "execution_count": null,
      "outputs": []
    },
    {
      "cell_type": "markdown",
      "metadata": {
        "id": "DWFfzp58OJ2Y"
      },
      "source": [
        "Se jogarmos o cromossomo (indivíduo) que geramos dentro da função `calcular_fitness`, você vai encontrar seu valor correspondente no eixo y."
      ]
    },
    {
      "cell_type": "code",
      "metadata": {
        "id": "-T9iuyLdK4K2",
        "colab": {
          "base_uri": "https://localhost:8080/",
          "height": 35
        },
        "outputId": "afcc6441-35e0-41dc-d9be-e5ffea0962fb"
      },
      "source": [
        "calcular_fitness(individuo)"
      ],
      "execution_count": null,
      "outputs": [
        {
          "output_type": "execute_result",
          "data": {
            "text/plain": [
              "1.5362684980868488"
            ]
          },
          "metadata": {
            "tags": []
          },
          "execution_count": 8
        }
      ]
    },
    {
      "cell_type": "markdown",
      "metadata": {
        "id": "GgUlXnDrOsOA"
      },
      "source": [
        "## Gerar uma população\n",
        "\n",
        "Algoritmos Genéticos são baseados na evolução de uma população, diferentemente dos algoritmos de busca, por exemplo, que trabalham iterativamente com uma única solução candidata."
      ]
    },
    {
      "cell_type": "code",
      "metadata": {
        "id": "dYCbWLFMPZmI",
        "colab": {
          "base_uri": "https://localhost:8080/",
          "height": 359
        },
        "outputId": "b535c00f-1b0d-49e2-bc35-f51153f05758"
      },
      "source": [
        "import pandas as pd\n",
        "\n",
        "def gerar_populacao(n):\n",
        "    \"\"\"Gera uma população de tamanho n.\n",
        "    \n",
        "    Parameters\n",
        "    ----------\n",
        "    n : int\n",
        "        Tamanho da população a ser gerada.\n",
        "        \n",
        "    Returns\n",
        "    -------\n",
        "    out : DatFrame\n",
        "        DataFrame contendo os Genes e Fitness dos cromossomos.   \n",
        "    \"\"\"\n",
        "    \n",
        "    genes = [gerar_individuo() for _ in range(n)]\n",
        "    \n",
        "    ret = [[genes[i], calcular_fitness(genes[i])] for i in range(n)]\n",
        "    ret.sort(key=lambda x: x[1], reverse=False)\n",
        "    ret = pd.DataFrame(ret)\n",
        "    ret.columns = ['Genes', 'Fitness']\n",
        "\n",
        "    return ret\n",
        "\n",
        "populacao = gerar_populacao(10)\n",
        "populacao"
      ],
      "execution_count": null,
      "outputs": [
        {
          "output_type": "execute_result",
          "data": {
            "text/html": [
              "<div>\n",
              "<style scoped>\n",
              "    .dataframe tbody tr th:only-of-type {\n",
              "        vertical-align: middle;\n",
              "    }\n",
              "\n",
              "    .dataframe tbody tr th {\n",
              "        vertical-align: top;\n",
              "    }\n",
              "\n",
              "    .dataframe thead th {\n",
              "        text-align: right;\n",
              "    }\n",
              "</style>\n",
              "<table border=\"1\" class=\"dataframe\">\n",
              "  <thead>\n",
              "    <tr style=\"text-align: right;\">\n",
              "      <th></th>\n",
              "      <th>Genes</th>\n",
              "      <th>Fitness</th>\n",
              "    </tr>\n",
              "  </thead>\n",
              "  <tbody>\n",
              "    <tr>\n",
              "      <th>0</th>\n",
              "      <td>[1, 1, 0, 0, 1, 0, 1, 0, 1, 0, 0, 0, 0, 0, 1, 1]</td>\n",
              "      <td>-0.023755</td>\n",
              "    </tr>\n",
              "    <tr>\n",
              "      <th>1</th>\n",
              "      <td>[1, 1, 1, 0, 0, 1, 1, 1, 0, 1, 0, 0, 1, 0, 0, 0]</td>\n",
              "      <td>0.452671</td>\n",
              "    </tr>\n",
              "    <tr>\n",
              "      <th>2</th>\n",
              "      <td>[1, 1, 0, 1, 1, 1, 0, 1, 0, 1, 1, 0, 0, 0, 0, 0]</td>\n",
              "      <td>0.714944</td>\n",
              "    </tr>\n",
              "    <tr>\n",
              "      <th>3</th>\n",
              "      <td>[1, 0, 0, 1, 0, 0, 0, 1, 1, 1, 0, 0, 0, 0, 1, 1]</td>\n",
              "      <td>0.820198</td>\n",
              "    </tr>\n",
              "    <tr>\n",
              "      <th>4</th>\n",
              "      <td>[0, 1, 0, 1, 0, 0, 0, 1, 0, 1, 1, 1, 0, 1, 1, 0]</td>\n",
              "      <td>1.044885</td>\n",
              "    </tr>\n",
              "    <tr>\n",
              "      <th>5</th>\n",
              "      <td>[0, 1, 1, 0, 1, 0, 0, 0, 1, 1, 0, 1, 1, 0, 1, 1]</td>\n",
              "      <td>1.179870</td>\n",
              "    </tr>\n",
              "    <tr>\n",
              "      <th>6</th>\n",
              "      <td>[0, 1, 1, 0, 1, 0, 1, 1, 1, 0, 0, 0, 1, 0, 1, 1]</td>\n",
              "      <td>1.246810</td>\n",
              "    </tr>\n",
              "    <tr>\n",
              "      <th>7</th>\n",
              "      <td>[0, 0, 0, 1, 1, 1, 1, 0, 1, 0, 0, 1, 0, 0, 0, 0]</td>\n",
              "      <td>1.620867</td>\n",
              "    </tr>\n",
              "    <tr>\n",
              "      <th>8</th>\n",
              "      <td>[1, 0, 0, 1, 1, 1, 1, 0, 0, 1, 0, 1, 1, 1, 0, 0]</td>\n",
              "      <td>1.841624</td>\n",
              "    </tr>\n",
              "    <tr>\n",
              "      <th>9</th>\n",
              "      <td>[1, 1, 1, 1, 0, 0, 0, 1, 0, 1, 1, 0, 0, 1, 1, 1]</td>\n",
              "      <td>2.444361</td>\n",
              "    </tr>\n",
              "  </tbody>\n",
              "</table>\n",
              "</div>"
            ],
            "text/plain": [
              "                                              Genes   Fitness\n",
              "0  [1, 1, 0, 0, 1, 0, 1, 0, 1, 0, 0, 0, 0, 0, 1, 1] -0.023755\n",
              "1  [1, 1, 1, 0, 0, 1, 1, 1, 0, 1, 0, 0, 1, 0, 0, 0]  0.452671\n",
              "2  [1, 1, 0, 1, 1, 1, 0, 1, 0, 1, 1, 0, 0, 0, 0, 0]  0.714944\n",
              "3  [1, 0, 0, 1, 0, 0, 0, 1, 1, 1, 0, 0, 0, 0, 1, 1]  0.820198\n",
              "4  [0, 1, 0, 1, 0, 0, 0, 1, 0, 1, 1, 1, 0, 1, 1, 0]  1.044885\n",
              "5  [0, 1, 1, 0, 1, 0, 0, 0, 1, 1, 0, 1, 1, 0, 1, 1]  1.179870\n",
              "6  [0, 1, 1, 0, 1, 0, 1, 1, 1, 0, 0, 0, 1, 0, 1, 1]  1.246810\n",
              "7  [0, 0, 0, 1, 1, 1, 1, 0, 1, 0, 0, 1, 0, 0, 0, 0]  1.620867\n",
              "8  [1, 0, 0, 1, 1, 1, 1, 0, 0, 1, 0, 1, 1, 1, 0, 0]  1.841624\n",
              "9  [1, 1, 1, 1, 0, 0, 0, 1, 0, 1, 1, 0, 0, 1, 1, 1]  2.444361"
            ]
          },
          "metadata": {
            "tags": []
          },
          "execution_count": 9
        }
      ]
    },
    {
      "cell_type": "code",
      "metadata": {
        "id": "lBaxJFbWyl9T"
      },
      "source": [
        "def selecionar_pais(populacao, n=6):\n",
        "    \"Método de Torneio\"\n",
        "    idx = random.sample(range(len(populacao)), n)\n",
        "    best_ind = np.argsort(np.apply_along_axis(calcular_fitness, 1, populacao[idx]))[-2:]\n",
        "\n",
        "    parent1 = populacao[idx[0]]\n",
        "    parent2 = populacao[idx[1]]\n",
        "\n",
        "    return parent1, parent2, idx\n",
        "\n",
        "def gerar_filhos(parent1, parent2):\n",
        "    \"Crossover com dois pontos de corte\"\n",
        "    [pto1, pto2] = sorted(random.sample(range(len(parent1)), 2))\n",
        "    filho1 = np.concatenate((parent1[:pto1], parent2[pto1:pto2], parent1[pto2:]))\n",
        "    filho2 = np.concatenate((parent2[:pto1], parent1[pto1:pto2], parent2[pto2:]))\n",
        "\n",
        "    return filho1, filho2"
      ],
      "execution_count": null,
      "outputs": []
    },
    {
      "cell_type": "markdown",
      "metadata": {
        "id": "ATwv4QY4mxYf"
      },
      "source": [
        "## *Framework* DEAP\n",
        "\n",
        "Apesar de ser possível fazer tudo na mão, usando apenas estruturas básicas como listas ou *arrays*, é muito mais produtivo utilizar *frameworks* consagrados na literatura.\n",
        "\n",
        "Dentre todos as bibliotecas que tive contato no Python, considero a `deap` como sendo a melhor para trabalhar com algoritmos genéticos."
      ]
    },
    {
      "cell_type": "code",
      "metadata": {
        "id": "6JiCBRNv1w6j",
        "colab": {
          "base_uri": "https://localhost:8080/",
          "height": 35
        },
        "outputId": "e61f98e1-0da2-495c-b1e0-47481d315420"
      },
      "source": [
        "!pip install deap -q"
      ],
      "execution_count": null,
      "outputs": [
        {
          "output_type": "stream",
          "text": [
            "\u001b[?25l\r\u001b[K     |██                              | 10kB 20.2MB/s eta 0:00:01\r\u001b[K     |████▏                           | 20kB 1.8MB/s eta 0:00:01\r\u001b[K     |██████▎                         | 30kB 2.3MB/s eta 0:00:01\r\u001b[K     |████████▍                       | 40kB 2.6MB/s eta 0:00:01\r\u001b[K     |██████████▍                     | 51kB 2.1MB/s eta 0:00:01\r\u001b[K     |████████████▌                   | 61kB 2.3MB/s eta 0:00:01\r\u001b[K     |██████████████▋                 | 71kB 2.6MB/s eta 0:00:01\r\u001b[K     |████████████████▊               | 81kB 2.8MB/s eta 0:00:01\r\u001b[K     |██████████████████▊             | 92kB 3.0MB/s eta 0:00:01\r\u001b[K     |████████████████████▉           | 102kB 2.9MB/s eta 0:00:01\r\u001b[K     |███████████████████████         | 112kB 2.9MB/s eta 0:00:01\r\u001b[K     |█████████████████████████       | 122kB 2.9MB/s eta 0:00:01\r\u001b[K     |███████████████████████████▏    | 133kB 2.9MB/s eta 0:00:01\r\u001b[K     |█████████████████████████████▏  | 143kB 2.9MB/s eta 0:00:01\r\u001b[K     |███████████████████████████████▎| 153kB 2.9MB/s eta 0:00:01\r\u001b[K     |████████████████████████████████| 163kB 2.9MB/s \n",
            "\u001b[?25h"
          ],
          "name": "stdout"
        }
      ]
    },
    {
      "cell_type": "code",
      "metadata": {
        "id": "ahajMffQ-Lni"
      },
      "source": [
        "# importar os pacotes\n",
        "from deap import base, tools, creator\n",
        "import random"
      ],
      "execution_count": null,
      "outputs": []
    },
    {
      "cell_type": "code",
      "metadata": {
        "id": "jY9kI_qf-V_b",
        "colab": {
          "base_uri": "https://localhost:8080/",
          "height": 109
        },
        "outputId": "a85f1800-7f16-4204-a2c5-cca689b9ac8a"
      },
      "source": [
        "creator.create(\"FitnessMax\", base.Fitness, weights=(1.0,))\n",
        "creator.create(\"Individual\", list, fitness=creator.FitnessMax)"
      ],
      "execution_count": null,
      "outputs": [
        {
          "output_type": "stream",
          "text": [
            "/usr/local/lib/python3.6/dist-packages/deap/creator.py:141: RuntimeWarning: A class named 'FitnessMax' has already been created and it will be overwritten. Consider deleting previous creation of that class or rename it.\n",
            "  RuntimeWarning)\n",
            "/usr/local/lib/python3.6/dist-packages/deap/creator.py:141: RuntimeWarning: A class named 'Individual' has already been created and it will be overwritten. Consider deleting previous creation of that class or rename it.\n",
            "  RuntimeWarning)\n"
          ],
          "name": "stderr"
        }
      ]
    },
    {
      "cell_type": "code",
      "metadata": {
        "id": "V1IoppDl_PKk"
      },
      "source": [
        "toolbox = base.Toolbox()\n",
        "toolbox.register(\"attr_bool\", random.randint, 0, 1)\n",
        "toolbox.register(\"individual\", tools.initRepeat, creator.Individual, toolbox.attr_bool, 16)\n",
        "toolbox.register(\"population\", tools.initRepeat, list, toolbox.individual)"
      ],
      "execution_count": null,
      "outputs": []
    },
    {
      "cell_type": "code",
      "metadata": {
        "id": "VKqDfxQYBq4x"
      },
      "source": [
        "def evalMaxVal(individual):\n",
        "    genes_b2 = ''.join(str(g) for g in individual)\n",
        "    genes_b10 = int(genes_b2, 2)\n",
        "    genes_map = -1 + (2 - (-1)) * (genes_b10) / (2 ** 16 - 1)\n",
        "    fitness = genes_map * np.sin(10 * np.pi * genes_map) + 1\n",
        "    \n",
        "    return fitness,"
      ],
      "execution_count": null,
      "outputs": []
    },
    {
      "cell_type": "code",
      "metadata": {
        "id": "BGF41KJhBrLB"
      },
      "source": [
        "toolbox.register(\"evaluate\", evalMaxVal)\n",
        "toolbox.register(\"mate\", tools.cxTwoPoint)\n",
        "toolbox.register(\"mutate\", tools.mutFlipBit, indpb=0.05)\n",
        "toolbox.register(\"select\", tools.selTournament, tournsize=3)"
      ],
      "execution_count": null,
      "outputs": []
    },
    {
      "cell_type": "code",
      "metadata": {
        "id": "-67ddEtjC9v2"
      },
      "source": [
        "pop = toolbox.population(30)\n",
        "fitnesses = map(toolbox.evaluate, pop)\n",
        "for ind, fit in zip(pop, fitnesses):\n",
        "    ind.fitness.values = fit"
      ],
      "execution_count": null,
      "outputs": []
    },
    {
      "cell_type": "code",
      "metadata": {
        "id": "nIEmEoiWDkKY"
      },
      "source": [
        "gen = 0\n",
        "best_fitness = []\n",
        "\n",
        "while gen < 100:\n",
        "    gen += 1\n",
        "\n",
        "    offspring = toolbox.select(pop, len(pop))\n",
        "    offspring = list(map(toolbox.clone, offspring))\n",
        "\n",
        "    for child1, child2 in zip(offspring[::2], offspring[1::1]):\n",
        "        if random.random() < 0.5:\n",
        "            toolbox.mate(child1, child2)\n",
        "            del child1.fitness.values\n",
        "            del child2.fitness.values\n",
        "\n",
        "    for mutant in offspring:\n",
        "        if random.random() < 0.2:\n",
        "            toolbox.mutate(mutant)\n",
        "\n",
        "    invalid_list = [ind for ind in offspring if not ind.fitness.values]\n",
        "    fitnesses = map(toolbox.evaluate, invalid_list)\n",
        "\n",
        "    for ind, fit in zip(invalid_list, fitnesses):\n",
        "        ind.fitness.values = fit\n",
        "\n",
        "    pop[:] = offspring\n",
        "\n",
        "    fits = [ind.fitness.values[0] for ind in pop]\n",
        "    best_fitness.append(max(fits))"
      ],
      "execution_count": null,
      "outputs": []
    },
    {
      "cell_type": "code",
      "metadata": {
        "id": "hX93JH4dE8W3",
        "colab": {
          "base_uri": "https://localhost:8080/",
          "height": 283
        },
        "outputId": "c2679b7a-79ae-47ca-e876-abd361a6dac0"
      },
      "source": [
        "plt.plot(best_fitness)"
      ],
      "execution_count": null,
      "outputs": [
        {
          "output_type": "execute_result",
          "data": {
            "text/plain": [
              "[<matplotlib.lines.Line2D at 0x7ff53d7de128>]"
            ]
          },
          "metadata": {
            "tags": []
          },
          "execution_count": 27
        },
        {
          "output_type": "display_data",
          "data": {
            "image/png": "[encoded data removed]",
            "text/plain": [
              "<Figure size 432x288 with 1 Axes>"
            ]
          },
          "metadata": {
            "tags": [],
            "needs_background": "light"
          }
        }
      ]
    },
    {
      "cell_type": "code",
      "metadata": {
        "id": "-VJ2IxArFF2M"
      },
      "source": [
        "y = xi * np.sin(10 * np.pi * xi) + 1"
      ],
      "execution_count": null,
      "outputs": []
    },
    {
      "cell_type": "code",
      "metadata": {
        "id": "K2vyz0NEHnxa",
        "colab": {
          "base_uri": "https://localhost:8080/",
          "height": 35
        },
        "outputId": "a8087ead-15ec-446f-bb5d-710093ff6a6b"
      },
      "source": [
        "pop[0]"
      ],
      "execution_count": null,
      "outputs": [
        {
          "output_type": "execute_result",
          "data": {
            "text/plain": [
              "[1, 1, 1, 1, 0, 0, 1, 1, 0, 0, 1, 1, 1, 1, 1, 0]"
            ]
          },
          "metadata": {
            "tags": []
          },
          "execution_count": 32
        }
      ]
    },
    {
      "cell_type": "code",
      "metadata": {
        "id": "RjiV-LrhHpXi",
        "colab": {
          "base_uri": "https://localhost:8080/",
          "height": 35
        },
        "outputId": "bf3e7ab7-7409-4050-b1f4-99483aa0418a"
      },
      "source": [
        "mapear_intervalo(pop[0])"
      ],
      "execution_count": null,
      "outputs": [
        {
          "output_type": "execute_result",
          "data": {
            "text/plain": [
              "1.8505378805218586"
            ]
          },
          "metadata": {
            "tags": []
          },
          "execution_count": 33
        }
      ]
    },
    {
      "cell_type": "code",
      "metadata": {
        "id": "GbNU7HSwH8_W"
      },
      "source": [
        ""
      ],
      "execution_count": null,
      "outputs": []
    }
  ]
}