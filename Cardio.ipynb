{
  "nbformat": 4,
  "nbformat_minor": 0,
  "metadata": {
    "colab": {
      "name": "Cardio.ipynb",
      "provenance": [],
      "collapsed_sections": [
        "r4do-DuBupTU",
        "TWEJUR-Zm9w7",
        "zNdxPZAQpj40",
        "fkmIHSX1X81a",
        "bL9qJ75h6MbJ",
        "9ApSaC-Bg_W7",
        "_HI7WKEOP2U3",
        "qtceZltDwexT",
        "VRgDPhgR_mwh"
      ],
      "toc_visible": true,
      "authorship_tag": "ABX9TyN1mGYmSjY2FamegKrj1eNX",
      "include_colab_link": true
    },
    "kernelspec": {
      "name": "python3",
      "display_name": "Python 3"
    }
  },
  "cells": [
    {
      "cell_type": "markdown",
      "metadata": {
        "id": "view-in-github",
        "colab_type": "text"
      },
      "source": [
        "<a href=\"https://colab.research.google.com/github/alexapruiz/Projetos/blob/master/Cardio.ipynb\" target=\"_parent\"><img src=\"https://colab.research.google.com/assets/colab-badge.svg\" alt=\"Open In Colab\"/></a>"
      ]
    },
    {
      "cell_type": "markdown",
      "metadata": {
        "id": "pCU5qRaLYDhz"
      },
      "source": [
        "# Preparando os dados"
      ]
    },
    {
      "cell_type": "code",
      "metadata": {
        "id": "lhtzonnhxSY5"
      },
      "source": [
        "#Importando as bibliotecas para manipulação dos dados e geração de gráficos\r\n",
        "import pandas as pd\r\n",
        "import matplotlib.pyplot as plt\r\n",
        "\r\n",
        "#Importando as bibliotecas de Machine Learning\r\n",
        "from sklearn.svm import LinearSVC\r\n",
        "from sklearn.model_selection import train_test_split\r\n",
        "from sklearn.metrics import accuracy_score"
      ],
      "execution_count": 22,
      "outputs": []
    },
    {
      "cell_type": "code",
      "metadata": {
        "id": "Bq1LAUjlxSbQ"
      },
      "source": [
        "#Atribuindo nomes às colunas\r\n",
        "colunas = ['id','idade','genero','altura','peso','pressao_max','pressao_min','colesterol','diabetes','fuma','bebe','ativo','coracao']\r\n",
        "\r\n",
        "#Abrindo o arquivo do Kaggle\r\n",
        "cardio = pd.read_csv('cardio_train.csv', sep=';',names=colunas,header=0)"
      ],
      "execution_count": 23,
      "outputs": []
    },
    {
      "cell_type": "code",
      "metadata": {
        "id": "jIds03FmxmeJ"
      },
      "source": [
        "#Definindo os DataFrames de dados e o 'alvo'\r\n",
        "x = cardio[colunas]\r\n",
        "y = cardio['coracao']"
      ],
      "execution_count": 24,
      "outputs": []
    },
    {
      "cell_type": "markdown",
      "metadata": {
        "id": "30Ys4aRQXzai"
      },
      "source": [
        "# Explorando os dados"
      ]
    },
    {
      "cell_type": "code",
      "metadata": {
        "id": "tfPn4kbaynwx",
        "colab": {
          "base_uri": "https://localhost:8080/"
        },
        "outputId": "7ef44ac8-4931-41b4-ad36-bed3b30ad29c"
      },
      "source": [
        "#Verificando o formato do DataFrame (linhas,colunas)\r\n",
        "cardio.shape"
      ],
      "execution_count": 25,
      "outputs": [
        {
          "output_type": "execute_result",
          "data": {
            "text/plain": [
              "(70000, 13)"
            ]
          },
          "metadata": {
            "tags": []
          },
          "execution_count": 25
        }
      ]
    },
    {
      "cell_type": "code",
      "metadata": {
        "colab": {
          "base_uri": "https://localhost:8080/",
          "height": 204
        },
        "id": "DzgUN4gdhXwI",
        "outputId": "3e4bdb02-f26c-4ae9-d009-508336655288"
      },
      "source": [
        "#Iniciando a análise exploratória\r\n",
        "cardio.head()"
      ],
      "execution_count": 26,
      "outputs": [
        {
          "output_type": "execute_result",
          "data": {
            "text/html": [
              "<div>\n",
              "<style scoped>\n",
              "    .dataframe tbody tr th:only-of-type {\n",
              "        vertical-align: middle;\n",
              "    }\n",
              "\n",
              "    .dataframe tbody tr th {\n",
              "        vertical-align: top;\n",
              "    }\n",
              "\n",
              "    .dataframe thead th {\n",
              "        text-align: right;\n",
              "    }\n",
              "</style>\n",
              "<table border=\"1\" class=\"dataframe\">\n",
              "  <thead>\n",
              "    <tr style=\"text-align: right;\">\n",
              "      <th></th>\n",
              "      <th>id</th>\n",
              "      <th>idade</th>\n",
              "      <th>genero</th>\n",
              "      <th>altura</th>\n",
              "      <th>peso</th>\n",
              "      <th>pressao_max</th>\n",
              "      <th>pressao_min</th>\n",
              "      <th>colesterol</th>\n",
              "      <th>diabetes</th>\n",
              "      <th>fuma</th>\n",
              "      <th>bebe</th>\n",
              "      <th>ativo</th>\n",
              "      <th>coracao</th>\n",
              "    </tr>\n",
              "  </thead>\n",
              "  <tbody>\n",
              "    <tr>\n",
              "      <th>0</th>\n",
              "      <td>0</td>\n",
              "      <td>18393</td>\n",
              "      <td>2</td>\n",
              "      <td>168</td>\n",
              "      <td>62.0</td>\n",
              "      <td>110</td>\n",
              "      <td>80</td>\n",
              "      <td>1</td>\n",
              "      <td>1</td>\n",
              "      <td>0</td>\n",
              "      <td>0</td>\n",
              "      <td>1</td>\n",
              "      <td>0</td>\n",
              "    </tr>\n",
              "    <tr>\n",
              "      <th>1</th>\n",
              "      <td>1</td>\n",
              "      <td>20228</td>\n",
              "      <td>1</td>\n",
              "      <td>156</td>\n",
              "      <td>85.0</td>\n",
              "      <td>140</td>\n",
              "      <td>90</td>\n",
              "      <td>3</td>\n",
              "      <td>1</td>\n",
              "      <td>0</td>\n",
              "      <td>0</td>\n",
              "      <td>1</td>\n",
              "      <td>1</td>\n",
              "    </tr>\n",
              "    <tr>\n",
              "      <th>2</th>\n",
              "      <td>2</td>\n",
              "      <td>18857</td>\n",
              "      <td>1</td>\n",
              "      <td>165</td>\n",
              "      <td>64.0</td>\n",
              "      <td>130</td>\n",
              "      <td>70</td>\n",
              "      <td>3</td>\n",
              "      <td>1</td>\n",
              "      <td>0</td>\n",
              "      <td>0</td>\n",
              "      <td>0</td>\n",
              "      <td>1</td>\n",
              "    </tr>\n",
              "    <tr>\n",
              "      <th>3</th>\n",
              "      <td>3</td>\n",
              "      <td>17623</td>\n",
              "      <td>2</td>\n",
              "      <td>169</td>\n",
              "      <td>82.0</td>\n",
              "      <td>150</td>\n",
              "      <td>100</td>\n",
              "      <td>1</td>\n",
              "      <td>1</td>\n",
              "      <td>0</td>\n",
              "      <td>0</td>\n",
              "      <td>1</td>\n",
              "      <td>1</td>\n",
              "    </tr>\n",
              "    <tr>\n",
              "      <th>4</th>\n",
              "      <td>4</td>\n",
              "      <td>17474</td>\n",
              "      <td>1</td>\n",
              "      <td>156</td>\n",
              "      <td>56.0</td>\n",
              "      <td>100</td>\n",
              "      <td>60</td>\n",
              "      <td>1</td>\n",
              "      <td>1</td>\n",
              "      <td>0</td>\n",
              "      <td>0</td>\n",
              "      <td>0</td>\n",
              "      <td>0</td>\n",
              "    </tr>\n",
              "  </tbody>\n",
              "</table>\n",
              "</div>"
            ],
            "text/plain": [
              "   id  idade  genero  altura  peso  ...  diabetes  fuma  bebe  ativo  coracao\n",
              "0   0  18393       2     168  62.0  ...         1     0     0      1        0\n",
              "1   1  20228       1     156  85.0  ...         1     0     0      1        1\n",
              "2   2  18857       1     165  64.0  ...         1     0     0      0        1\n",
              "3   3  17623       2     169  82.0  ...         1     0     0      1        1\n",
              "4   4  17474       1     156  56.0  ...         1     0     0      0        0\n",
              "\n",
              "[5 rows x 13 columns]"
            ]
          },
          "metadata": {
            "tags": []
          },
          "execution_count": 26
        }
      ]
    },
    {
      "cell_type": "code",
      "metadata": {
        "id": "TUKnFI0fN9TR",
        "colab": {
          "base_uri": "https://localhost:8080/"
        },
        "outputId": "c925a385-f8da-4235-f97d-d0670b014086"
      },
      "source": [
        "#Consultando quantos registros indicam a presença / ausência de doença cardiovascular (0: Não possui doença / 1: Possui doença)\r\n",
        "cardio.groupby('coracao').size()"
      ],
      "execution_count": 28,
      "outputs": [
        {
          "output_type": "execute_result",
          "data": {
            "text/plain": [
              "coracao\n",
              "0    35021\n",
              "1    34979\n",
              "dtype: int64"
            ]
          },
          "metadata": {
            "tags": []
          },
          "execution_count": 28
        }
      ]
    },
    {
      "cell_type": "code",
      "metadata": {
        "id": "JoPDT4PsX7W6",
        "colab": {
          "base_uri": "https://localhost:8080/",
          "height": 748
        },
        "outputId": "82543441-165c-4482-d685-76d38ded4c6f"
      },
      "source": [
        "#Verificando a correlação entre os atributos\r\n",
        "correlacao = cardio.corr()\r\n",
        "\r\n",
        "#Criando um gráfico para exibir a correlação\r\n",
        "fig = plt.figure(figsize=(16,9), dpi=100)\r\n",
        "ax = fig.add_subplot(111)\r\n",
        "cax = ax.matshow(correlacao, vmin = 0, vmax = 1)\r\n",
        "fig.colorbar(cax)\r\n",
        "ax.set_xticklabels(['id','idade','peso','pressao_max','pressao_min','colesterol','fuma','bebe'])\r\n",
        "ax.set_yticklabels(['id','idade','peso','pressao_max','pressao_min','colesterol','fuma','bebe'])\r\n",
        "plt.show()"
      ],
      "execution_count": 36,
      "outputs": [
        {
          "output_type": "display_data",
          "data": {
            "image/png": "[encoded data removed]",
            "text/plain": [
              "<Figure size 1600x900 with 2 Axes>"
            ]
          },
          "metadata": {
            "tags": [],
            "needs_background": "light"
          }
        }
      ]
    },
    {
      "cell_type": "markdown",
      "metadata": {
        "id": "r4do-DuBupTU"
      },
      "source": [
        "# Normalizando os dados"
      ]
    },
    {
      "cell_type": "code",
      "metadata": {
        "id": "RCSDDzDDuq8U",
        "colab": {
          "base_uri": "https://localhost:8080/",
          "height": 419
        },
        "outputId": "67d0e67d-2f05-481b-afcf-25a27c7d0614"
      },
      "source": [
        "#Limpando as colunas com valores negativos\r\n",
        "cardio = cardio[(cardio['pressao_min'] > 0) & (cardio['pressao_max'] > 0)]\r\n",
        "cardio"
      ],
      "execution_count": null,
      "outputs": [
        {
          "output_type": "execute_result",
          "data": {
            "text/html": [
              "<div>\n",
              "<style scoped>\n",
              "    .dataframe tbody tr th:only-of-type {\n",
              "        vertical-align: middle;\n",
              "    }\n",
              "\n",
              "    .dataframe tbody tr th {\n",
              "        vertical-align: top;\n",
              "    }\n",
              "\n",
              "    .dataframe thead th {\n",
              "        text-align: right;\n",
              "    }\n",
              "</style>\n",
              "<table border=\"1\" class=\"dataframe\">\n",
              "  <thead>\n",
              "    <tr style=\"text-align: right;\">\n",
              "      <th></th>\n",
              "      <th>id</th>\n",
              "      <th>idade</th>\n",
              "      <th>genero</th>\n",
              "      <th>altura</th>\n",
              "      <th>peso</th>\n",
              "      <th>pressao_max</th>\n",
              "      <th>pressao_min</th>\n",
              "      <th>colesterol</th>\n",
              "      <th>diabetes</th>\n",
              "      <th>fuma</th>\n",
              "      <th>bebe</th>\n",
              "      <th>ativo</th>\n",
              "      <th>coracao</th>\n",
              "    </tr>\n",
              "  </thead>\n",
              "  <tbody>\n",
              "    <tr>\n",
              "      <th>0</th>\n",
              "      <td>1</td>\n",
              "      <td>20228</td>\n",
              "      <td>1</td>\n",
              "      <td>156</td>\n",
              "      <td>85.0</td>\n",
              "      <td>140.0</td>\n",
              "      <td>90.0</td>\n",
              "      <td>3.0</td>\n",
              "      <td>1.0</td>\n",
              "      <td>0.0</td>\n",
              "      <td>0.0</td>\n",
              "      <td>1.0</td>\n",
              "      <td>1.0</td>\n",
              "    </tr>\n",
              "    <tr>\n",
              "      <th>1</th>\n",
              "      <td>2</td>\n",
              "      <td>18857</td>\n",
              "      <td>1</td>\n",
              "      <td>165</td>\n",
              "      <td>64.0</td>\n",
              "      <td>130.0</td>\n",
              "      <td>70.0</td>\n",
              "      <td>3.0</td>\n",
              "      <td>1.0</td>\n",
              "      <td>0.0</td>\n",
              "      <td>0.0</td>\n",
              "      <td>0.0</td>\n",
              "      <td>1.0</td>\n",
              "    </tr>\n",
              "    <tr>\n",
              "      <th>2</th>\n",
              "      <td>3</td>\n",
              "      <td>17623</td>\n",
              "      <td>2</td>\n",
              "      <td>169</td>\n",
              "      <td>82.0</td>\n",
              "      <td>150.0</td>\n",
              "      <td>100.0</td>\n",
              "      <td>1.0</td>\n",
              "      <td>1.0</td>\n",
              "      <td>0.0</td>\n",
              "      <td>0.0</td>\n",
              "      <td>1.0</td>\n",
              "      <td>1.0</td>\n",
              "    </tr>\n",
              "    <tr>\n",
              "      <th>3</th>\n",
              "      <td>4</td>\n",
              "      <td>17474</td>\n",
              "      <td>1</td>\n",
              "      <td>156</td>\n",
              "      <td>56.0</td>\n",
              "      <td>100.0</td>\n",
              "      <td>60.0</td>\n",
              "      <td>1.0</td>\n",
              "      <td>1.0</td>\n",
              "      <td>0.0</td>\n",
              "      <td>0.0</td>\n",
              "      <td>0.0</td>\n",
              "      <td>0.0</td>\n",
              "    </tr>\n",
              "    <tr>\n",
              "      <th>4</th>\n",
              "      <td>8</td>\n",
              "      <td>21914</td>\n",
              "      <td>1</td>\n",
              "      <td>151</td>\n",
              "      <td>67.0</td>\n",
              "      <td>120.0</td>\n",
              "      <td>80.0</td>\n",
              "      <td>2.0</td>\n",
              "      <td>2.0</td>\n",
              "      <td>0.0</td>\n",
              "      <td>0.0</td>\n",
              "      <td>0.0</td>\n",
              "      <td>0.0</td>\n",
              "    </tr>\n",
              "    <tr>\n",
              "      <th>...</th>\n",
              "      <td>...</td>\n",
              "      <td>...</td>\n",
              "      <td>...</td>\n",
              "      <td>...</td>\n",
              "      <td>...</td>\n",
              "      <td>...</td>\n",
              "      <td>...</td>\n",
              "      <td>...</td>\n",
              "      <td>...</td>\n",
              "      <td>...</td>\n",
              "      <td>...</td>\n",
              "      <td>...</td>\n",
              "      <td>...</td>\n",
              "    </tr>\n",
              "    <tr>\n",
              "      <th>24484</th>\n",
              "      <td>34965</td>\n",
              "      <td>22580</td>\n",
              "      <td>2</td>\n",
              "      <td>169</td>\n",
              "      <td>80.0</td>\n",
              "      <td>120.0</td>\n",
              "      <td>80.0</td>\n",
              "      <td>1.0</td>\n",
              "      <td>1.0</td>\n",
              "      <td>0.0</td>\n",
              "      <td>0.0</td>\n",
              "      <td>1.0</td>\n",
              "      <td>0.0</td>\n",
              "    </tr>\n",
              "    <tr>\n",
              "      <th>24485</th>\n",
              "      <td>34966</td>\n",
              "      <td>17484</td>\n",
              "      <td>2</td>\n",
              "      <td>174</td>\n",
              "      <td>79.0</td>\n",
              "      <td>120.0</td>\n",
              "      <td>70.0</td>\n",
              "      <td>1.0</td>\n",
              "      <td>1.0</td>\n",
              "      <td>0.0</td>\n",
              "      <td>0.0</td>\n",
              "      <td>1.0</td>\n",
              "      <td>0.0</td>\n",
              "    </tr>\n",
              "    <tr>\n",
              "      <th>24486</th>\n",
              "      <td>34968</td>\n",
              "      <td>21246</td>\n",
              "      <td>1</td>\n",
              "      <td>160</td>\n",
              "      <td>70.0</td>\n",
              "      <td>170.0</td>\n",
              "      <td>100.0</td>\n",
              "      <td>2.0</td>\n",
              "      <td>1.0</td>\n",
              "      <td>0.0</td>\n",
              "      <td>0.0</td>\n",
              "      <td>1.0</td>\n",
              "      <td>0.0</td>\n",
              "    </tr>\n",
              "    <tr>\n",
              "      <th>24487</th>\n",
              "      <td>34969</td>\n",
              "      <td>21180</td>\n",
              "      <td>1</td>\n",
              "      <td>169</td>\n",
              "      <td>67.0</td>\n",
              "      <td>120.0</td>\n",
              "      <td>80.0</td>\n",
              "      <td>1.0</td>\n",
              "      <td>1.0</td>\n",
              "      <td>0.0</td>\n",
              "      <td>0.0</td>\n",
              "      <td>1.0</td>\n",
              "      <td>0.0</td>\n",
              "    </tr>\n",
              "    <tr>\n",
              "      <th>24488</th>\n",
              "      <td>34971</td>\n",
              "      <td>23325</td>\n",
              "      <td>1</td>\n",
              "      <td>175</td>\n",
              "      <td>92.0</td>\n",
              "      <td>130.0</td>\n",
              "      <td>80.0</td>\n",
              "      <td>2.0</td>\n",
              "      <td>1.0</td>\n",
              "      <td>0.0</td>\n",
              "      <td>0.0</td>\n",
              "      <td>1.0</td>\n",
              "      <td>1.0</td>\n",
              "    </tr>\n",
              "  </tbody>\n",
              "</table>\n",
              "<p>24479 rows × 13 columns</p>\n",
              "</div>"
            ],
            "text/plain": [
              "          id  idade  genero  altura  peso  ...  diabetes  fuma  bebe  ativo  coracao\n",
              "0          1  20228       1     156  85.0  ...       1.0   0.0   0.0    1.0      1.0\n",
              "1          2  18857       1     165  64.0  ...       1.0   0.0   0.0    0.0      1.0\n",
              "2          3  17623       2     169  82.0  ...       1.0   0.0   0.0    1.0      1.0\n",
              "3          4  17474       1     156  56.0  ...       1.0   0.0   0.0    0.0      0.0\n",
              "4          8  21914       1     151  67.0  ...       2.0   0.0   0.0    0.0      0.0\n",
              "...      ...    ...     ...     ...   ...  ...       ...   ...   ...    ...      ...\n",
              "24484  34965  22580       2     169  80.0  ...       1.0   0.0   0.0    1.0      0.0\n",
              "24485  34966  17484       2     174  79.0  ...       1.0   0.0   0.0    1.0      0.0\n",
              "24486  34968  21246       1     160  70.0  ...       1.0   0.0   0.0    1.0      0.0\n",
              "24487  34969  21180       1     169  67.0  ...       1.0   0.0   0.0    1.0      0.0\n",
              "24488  34971  23325       1     175  92.0  ...       1.0   0.0   0.0    1.0      1.0\n",
              "\n",
              "[24479 rows x 13 columns]"
            ]
          },
          "metadata": {
            "tags": []
          },
          "execution_count": 18
        }
      ]
    },
    {
      "cell_type": "markdown",
      "metadata": {
        "id": "TWEJUR-Zm9w7"
      },
      "source": [
        "# Selecionando as melhores variáveis"
      ]
    },
    {
      "cell_type": "code",
      "metadata": {
        "id": "wIU-Y9DfnAUD"
      },
      "source": [
        "#Selecionando as melhores features usando o método Chi2 (qui-quadrado)\r\n",
        "\r\n",
        "from pandas import read_csv\r\n",
        "from sklearn.feature_selection import SelectKBest\r\n",
        "from sklearn.feature_selection import chi2\r\n",
        "\r\n",
        "colunas = ['idade','genero','altura','peso','pressao_max','pressao_min','colesterol','diabetes','fuma','bebe','ativo']\r\n",
        "array = cardio[colunas].values\r\n",
        "\r\n",
        "# Separando o array em componentes de input e output\r\n",
        "X = array[:,0:-1]\r\n",
        "Y = array[:,-1]\r\n",
        "\r\n",
        "# Extração de Variáveis\r\n",
        "test = SelectKBest(score_func = chi2, k = 4)\r\n",
        "fit = test.fit(X, Y)\r\n",
        "\r\n",
        "# Sumarizando o score\r\n",
        "#print(fit.scores_)\r\n",
        "features = fit.transform(X)\r\n",
        "cols = fit.get_support(indices=True)\r\n",
        "cardio.iloc[:,cols].head()"
      ],
      "execution_count": null,
      "outputs": []
    },
    {
      "cell_type": "code",
      "metadata": {
        "id": "SB9f9F5HLKuQ"
      },
      "source": [
        "#Selecionando as melhores features usando o método f_classif do SelectKBest\r\n",
        "from sklearn.feature_selection import SelectKBest\r\n",
        "from sklearn.feature_selection import f_classif, mutual_info_classif\r\n",
        "\r\n",
        "f_classif = SelectKBest(score_func=f_classif, k=4)\r\n",
        "fit = f_classif.fit(X,Y)\r\n",
        "features = fit.transform(X)\r\n",
        "\r\n",
        "features\r\n",
        "cols = fit.get_support(indices=True)\r\n",
        "cardio.iloc[:,cols].head()"
      ],
      "execution_count": null,
      "outputs": []
    },
    {
      "cell_type": "code",
      "metadata": {
        "id": "r7iUbV7NLA9w"
      },
      "source": [
        "#Selecionando as melhores features usando o método RFE (Recursive Feature Elimination)\r\n",
        "# Não é recomendado para grandes bases de dados\r\n",
        "\r\n",
        "from sklearn.linear_model import LogisticRegression\r\n",
        "from sklearn.feature_selection import RFE\r\n",
        "\r\n",
        "colunas = ['idade','genero','altura','peso','pressao_max','pressao_min','colesterol','diabetes','fuma','bebe','ativo']\r\n",
        "array = cardio[colunas].values\r\n",
        "\r\n",
        "# Separando o array em componentes de input e output\r\n",
        "X = array[:,0:-1]\r\n",
        "Y = array[:,-1]\r\n",
        "\r\n",
        "model = LogisticRegression(max_iter=2000)\r\n",
        "rfe = RFE(model,4)\r\n",
        "fit = rfe.fit(X, Y)\r\n",
        "#print('Número de features: {}'.format(fit.n_features_))\r\n",
        "\r\n",
        "cols = fit.get_support(indices=True)\r\n",
        "cardio.iloc[:,cols].head()"
      ],
      "execution_count": null,
      "outputs": []
    },
    {
      "cell_type": "code",
      "metadata": {
        "id": "U8oowNxzNuoI"
      },
      "source": [
        "#Selecionando as melhores features usando: Feature Importance\r\n",
        "import pandas as pd\r\n",
        "from sklearn.ensemble import RandomForestClassifier\r\n",
        "\r\n",
        "colunas = ['idade','genero','altura','peso','pressao_max','pressao_min','colesterol','diabetes','fuma','bebe','ativo']\r\n",
        "array = cardio[colunas].values\r\n",
        "\r\n",
        "# Separando o array em componentes de input e output\r\n",
        "X = array[:,0:]\r\n",
        "Y = array[:,-1]\r\n",
        "\r\n",
        "modelo = RandomForestClassifier(n_estimators=10)\r\n",
        "modelo.fit(X, Y)\r\n",
        "print(modelo.feature_importances_)\r\n",
        "colunas = ['idade','genero','altura','peso','pressao_max','pressao_min','colesterol','diabetes','fuma','bebe','ativo']\r\n",
        "\r\n",
        "feature_importance = pd.DataFrame(modelo.feature_importances_, index=colunas, columns=['importance']).sort_values('importance', ascending=False)\r\n",
        "\r\n",
        "feature_importance"
      ],
      "execution_count": null,
      "outputs": []
    },
    {
      "cell_type": "markdown",
      "metadata": {
        "id": "zNdxPZAQpj40"
      },
      "source": [
        "# Automatizando a seleção de features"
      ]
    },
    {
      "cell_type": "code",
      "metadata": {
        "id": "Hz_WaLiBpnBb"
      },
      "source": [
        "#Automatizando a seleção de features com pipeline\r\n",
        "from sklearn.pipeline import Pipeline\r\n",
        "\r\n",
        "clf = Pipeline([\r\n",
        "  ('', RFE(LogisticRegression(max_iter=2000),4)),\r\n",
        "  ('classification',RandomForestClassifier())\r\n",
        "])"
      ],
      "execution_count": null,
      "outputs": []
    },
    {
      "cell_type": "code",
      "metadata": {
        "id": "DV-I2xx-qN9z"
      },
      "source": [
        "clf.fit(X, Y)"
      ],
      "execution_count": null,
      "outputs": []
    },
    {
      "cell_type": "code",
      "metadata": {
        "id": "OfqNahYuqTqb"
      },
      "source": [
        "clf.steps"
      ],
      "execution_count": null,
      "outputs": []
    },
    {
      "cell_type": "markdown",
      "metadata": {
        "id": "fkmIHSX1X81a"
      },
      "source": [
        "# Criando um modelo de regressão linear"
      ]
    },
    {
      "cell_type": "code",
      "metadata": {
        "id": "HOkd44LMxSdi"
      },
      "source": [
        "treino_x, teste_x, treino_y, teste_y = train_test_split(x,y,test_size=0.3,random_state=20)"
      ],
      "execution_count": null,
      "outputs": []
    },
    {
      "cell_type": "code",
      "metadata": {
        "id": "ElPfxbecxSfp"
      },
      "source": [
        "modelo = LinearSVC()\r\n",
        "modelo.fit(treino_x,treino_y)\r\n",
        "previsoes = modelo.predict(teste_x)"
      ],
      "execution_count": null,
      "outputs": []
    },
    {
      "cell_type": "code",
      "metadata": {
        "colab": {
          "base_uri": "https://localhost:8080/"
        },
        "id": "Qf4FKqWexX-A",
        "outputId": "2060c703-d08e-4097-c500-a1c5daf9927b"
      },
      "source": [
        "#53.92380952380952\r\n",
        "print('Acurácia com Regressão Linear: ' + str(accuracy_score(teste_y,previsoes) * 100))"
      ],
      "execution_count": null,
      "outputs": [
        {
          "output_type": "stream",
          "text": [
            "Acurácia com Regressão Linear: 53.92380952380952\n"
          ],
          "name": "stdout"
        }
      ]
    },
    {
      "cell_type": "markdown",
      "metadata": {
        "id": "bL9qJ75h6MbJ"
      },
      "source": [
        "# Criando um modelo com 'RandomForestClassifier'"
      ]
    },
    {
      "cell_type": "code",
      "metadata": {
        "id": "-MzR5UZNzkfx"
      },
      "source": [
        "#Importando as bibliotecas de Machine Learning\r\n",
        "from sklearn.ensemble import RandomForestClassifier"
      ],
      "execution_count": null,
      "outputs": []
    },
    {
      "cell_type": "code",
      "metadata": {
        "id": "ZQv1meQDXLdk"
      },
      "source": [
        "colunas = ['id','idade','genero','altura','peso','pressao_max','pressao_min','colesterol','diabetes','fuma','bebe','ativo','coração']\r\n",
        "cardio = pd.read_csv('cardio_original.csv', sep=';',names=colunas,header=1)"
      ],
      "execution_count": null,
      "outputs": []
    },
    {
      "cell_type": "code",
      "metadata": {
        "id": "YVbqUlFZYjGE"
      },
      "source": [
        "x = cardio[['id','idade','genero','peso','altura','pressao_max','pressao_min','colesterol','diabetes','fuma','bebe','ativo']]\r\n",
        "\r\n",
        "y = cardio['coração']"
      ],
      "execution_count": null,
      "outputs": []
    },
    {
      "cell_type": "code",
      "metadata": {
        "id": "71XPxTmQYuV8"
      },
      "source": [
        "x['IMC'] = (x['peso'] / ((x['altura'] / 100) ** 2))"
      ],
      "execution_count": null,
      "outputs": []
    },
    {
      "cell_type": "code",
      "metadata": {
        "id": "zkqL6C3W0x5J"
      },
      "source": [
        "treino_x, teste_x, treino_y, teste_y = train_test_split(x,y,test_size=0.7,random_state=20)"
      ],
      "execution_count": null,
      "outputs": []
    },
    {
      "cell_type": "code",
      "metadata": {
        "id": "zz4uwFJLzkbA"
      },
      "source": [
        "modelo = RandomForestClassifier(n_estimators=100, n_jobs=-1, random_state=10)\r\n",
        "modelo.fit(treino_x, treino_y)\r\n",
        "p = modelo.predict(teste_x)"
      ],
      "execution_count": null,
      "outputs": []
    },
    {
      "cell_type": "code",
      "metadata": {
        "id": "QnoRstu_zkVg",
        "colab": {
          "base_uri": "https://localhost:8080/"
        },
        "outputId": "8fe7e243-5c84-496f-c5b4-165fd908eb60"
      },
      "source": [
        "#72.3204081632653 (test_size=0.7,random_state=20)\r\n",
        "acc = np.mean(teste_y == p) * 100\r\n",
        "acc"
      ],
      "execution_count": null,
      "outputs": [
        {
          "output_type": "execute_result",
          "data": {
            "text/plain": [
              "72.3204081632653"
            ]
          },
          "metadata": {
            "tags": []
          },
          "execution_count": 175
        }
      ]
    },
    {
      "cell_type": "markdown",
      "metadata": {
        "id": "9ApSaC-Bg_W7"
      },
      "source": [
        "# Validação Cruzada (RepeatedKFold) com RandomForestClassifier"
      ]
    },
    {
      "cell_type": "code",
      "metadata": {
        "id": "7uNO5fwVhSbi"
      },
      "source": [
        "#Importando as bibliotecas de Machine Learning\r\n",
        "from sklearn.ensemble import RandomForestClassifier\r\n",
        "from sklearn.model_selection import train_test_split\r\n",
        "from sklearn.model_selection import RepeatedKFold"
      ],
      "execution_count": null,
      "outputs": []
    },
    {
      "cell_type": "code",
      "metadata": {
        "id": "OnF9t84Bg_Lb"
      },
      "source": [
        "#Usando uma técnica de reamostragem -> Validação Cruzada\r\n",
        "resultados = []\r\n",
        "kf = RepeatedKFold(n_splits=4, n_repeats=20, random_state=20)\r\n",
        "\r\n",
        "for linhas_treino, linhas_valid in kf.split(x):\r\n",
        "  X_treino , X_valid = x.iloc[linhas_treino], x.iloc[linhas_valid]\r\n",
        "  y_treino , y_valid = y.iloc[linhas_treino], y.iloc[linhas_valid]\r\n",
        "\r\n",
        "  modelo = RandomForestClassifier(n_estimators=100, n_jobs=-1, random_state=0)\r\n",
        "  modelo.fit(X_treino, y_treino)\r\n",
        "  p = modelo.predict(X_valid)\r\n",
        "  acc = np.mean(y_valid == p)\r\n",
        "  resultados.append(acc)\r\n",
        "  print('Acc: ',acc)  "
      ],
      "execution_count": null,
      "outputs": []
    },
    {
      "cell_type": "code",
      "metadata": {
        "colab": {
          "base_uri": "https://localhost:8080/"
        },
        "id": "gJtP9tIfiWBS",
        "outputId": "f8c839ed-5d7d-4d40-fd64-9397955f29a6"
      },
      "source": [
        "#0.7242267729584547\r\n",
        "np.mean(resultados)"
      ],
      "execution_count": null,
      "outputs": [
        {
          "output_type": "execute_result",
          "data": {
            "text/plain": [
              "0.7242267729584547"
            ]
          },
          "metadata": {
            "tags": []
          },
          "execution_count": 168
        }
      ]
    },
    {
      "cell_type": "markdown",
      "metadata": {
        "id": "HIY2iLIkP00Y"
      },
      "source": [
        ""
      ]
    },
    {
      "cell_type": "markdown",
      "metadata": {
        "id": "_HI7WKEOP2U3"
      },
      "source": [
        "# XGBoost"
      ]
    },
    {
      "cell_type": "code",
      "metadata": {
        "id": "pX3LFtYuP7U3"
      },
      "source": [
        "# importar bibliotecas necessárias\r\n",
        "from sklearn.model_selection import train_test_split\r\n",
        "from sklearn.impute import SimpleImputer\r\n",
        "from xgboost import XGBRegressor\r\n",
        "from sklearn.metrics import mean_absolute_error\r\n",
        "\r\n",
        "# separar entre as variáveis X e y\r\n",
        "colunas = ['id','idade','genero','altura','peso','pressao_min','pressao_max','colesterol','diabetes','fuma','bebe','ativo']\r\n",
        "X = cardio[colunas]\r\n",
        "Y = cardio['coracao']\r\n",
        "\r\n",
        "# dividir entre conjuntos de treino e teste\r\n",
        "train_X, test_X, train_y, test_y = train_test_split(X.values, Y.values, test_size=0.2)\r\n",
        "\r\n",
        "# lidar com os valores ausentes\r\n",
        "df_imputer = SimpleImputer()\r\n",
        "train_X = df_imputer.fit_transform(train_X)\r\n",
        "test_X = df_imputer.transform(test_X)\r\n",
        "\r\n",
        "# instanciar o modelo XGBoost\r\n",
        "model = XGBRegressor()\r\n",
        "\r\n",
        "# chamar o fit para o modelo\r\n",
        "model.fit(train_X, train_y, verbose=False)\r\n",
        "\r\n",
        "# fazer previsões em cima do dataset de teste\r\n",
        "predictions = model.predict(test_X)\r\n",
        "\r\n",
        "print(\"Erro Médio Absoluto: {:.2f}\".format(mean_absolute_error(predictions, test_y)))"
      ],
      "execution_count": null,
      "outputs": []
    },
    {
      "cell_type": "markdown",
      "metadata": {
        "id": "qtceZltDwexT"
      },
      "source": [
        "# Analisando os erros do modelo"
      ]
    },
    {
      "cell_type": "code",
      "metadata": {
        "id": "81D442O0cyxr"
      },
      "source": [
        "Compara = teste_x.copy()\r\n",
        "Compara['Real'] = cardio['coração']\r\n",
        "Compara['Previsão'] = p\r\n",
        "Compara[Compara['Previsão'] != Compara['Real']]\r\n",
        "erros = Compara[Compara['Previsão'] != Compara['Real']]\r\n",
        "erros"
      ],
      "execution_count": null,
      "outputs": []
    },
    {
      "cell_type": "code",
      "metadata": {
        "id": "kXEIheQGc0Pq"
      },
      "source": [
        "erros[(erros['fuma'] == 0) & (erros['bebe'] == 0) & (erros['diabetes'] == 1) & (erros['colesterol'] == 1) & (erros['IMC'] > 30) & (erros['Real'] == 1)]"
      ],
      "execution_count": null,
      "outputs": []
    },
    {
      "cell_type": "code",
      "metadata": {
        "colab": {
          "base_uri": "https://localhost:8080/"
        },
        "id": "Se7TzwkJGQ2z",
        "outputId": "a94d9d05-8849-499b-e90e-bc366e18ad2a"
      },
      "source": [
        "#erros[erros['IMC'] > 50]\r\n",
        "#np.mean(erros['IMC'])\r\n",
        "365 * 45"
      ],
      "execution_count": null,
      "outputs": [
        {
          "output_type": "execute_result",
          "data": {
            "text/plain": [
              "16425"
            ]
          },
          "metadata": {
            "tags": []
          },
          "execution_count": 33
        }
      ]
    },
    {
      "cell_type": "markdown",
      "metadata": {
        "id": "VRgDPhgR_mwh"
      },
      "source": [
        "# DecisionTreeClassifier"
      ]
    },
    {
      "cell_type": "code",
      "metadata": {
        "id": "Mr94FcJi__wB"
      },
      "source": [
        "from sklearn.model_selection import train_test_split\r\n",
        "\r\n",
        "X = df_model.drop('num', axis = 1)\r\n",
        "y = df_model['num']\r\n",
        "SEED = 42\r\n",
        "np.random.seed(SEED)\r\n",
        "X_train, X_test, y_train, y_test = train_test_split(\r\n",
        "                                   X, y, test_size = 0.20)\r\n",
        "print('O dataset de treino possui {} pacientes e o de treino {} pacientes.'.format(X_train.shape[0], X_test.shape[0]))"
      ],
      "execution_count": null,
      "outputs": []
    },
    {
      "cell_type": "code",
      "metadata": {
        "id": "SOBBgsFc_z4J"
      },
      "source": [
        "import numpy as np\r\n",
        "from sklearn.tree import DecisionTreeClassifier\r\n",
        "from sklearn.metrics import accuracy_score\r\n",
        "\r\n",
        "np.random.seed(SEED)\r\n",
        "model = DecisionTreeClassifier(max_depth=2)\r\n",
        "model.fit(X_train, y_train)\r\n",
        "predict = model.predict(X_test)\r\n",
        "accuracy = accuracy_score(y_test, predict) * 100\r\n",
        "print (\"A acurácia foi de {:.2f}%.\".format(accuracy))"
      ],
      "execution_count": null,
      "outputs": []
    },
    {
      "cell_type": "code",
      "metadata": {
        "id": "D-FwjI3o_p8h"
      },
      "source": [
        "np.random.seed(SEED)model = DecisionTreeClassifier(max_depth=3)\r\n",
        "model.fit(x, y)\r\n",
        "predict = model.predict(X_test)\r\n",
        "accuracy = accuracy_score(y_test, predict) * 100\r\n",
        "print (\"A acurácia foi de {:.2f}%.\".format(accuracy))\r\n",
        "Out >>> A acurácia foi de 82.76%."
      ],
      "execution_count": null,
      "outputs": []
    }
  ]
}